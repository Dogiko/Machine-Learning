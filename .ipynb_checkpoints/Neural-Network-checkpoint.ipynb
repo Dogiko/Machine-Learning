{
 "cells": [
  {
   "cell_type": "markdown",
   "metadata": {},
   "source": [
    "# Import"
   ]
  },
  {
   "cell_type": "code",
   "execution_count": 2,
   "metadata": {
    "collapsed": true
   },
   "outputs": [],
   "source": [
    "import numpy as np\n",
    "import random as rd"
   ]
  },
  {
   "cell_type": "markdown",
   "metadata": {},
   "source": [
    "# Define"
   ]
  },
  {
   "cell_type": "code",
   "execution_count": 8,
   "metadata": {
    "collapsed": false
   },
   "outputs": [
    {
     "ename": "SyntaxError",
     "evalue": "invalid syntax (<ipython-input-8-5aaf2667170b>, line 62)",
     "output_type": "error",
     "traceback": [
      "\u001b[0;36m  File \u001b[0;32m\"<ipython-input-8-5aaf2667170b>\"\u001b[0;36m, line \u001b[0;32m62\u001b[0m\n\u001b[0;31m    if self.normal_alg = \"normal\":\u001b[0m\n\u001b[0m                       ^\u001b[0m\n\u001b[0;31mSyntaxError\u001b[0m\u001b[0;31m:\u001b[0m invalid syntax\n"
     ]
    }
   ],
   "source": [
    "class Sigmoid():\n",
    "    def trans(self, x):\n",
    "        out_put = np.zeros([len(x)])\n",
    "        for i in range(len(x)):\n",
    "            out_put[i] = 1 / (1 + np.exp(-x[i]))\n",
    "        \n",
    "        return out_put\n",
    "    \n",
    "    def diff(self, x):\n",
    "        out_put = np.zeros([len(x), len(x)])\n",
    "        for i in range(len(x)):\n",
    "            out_put[i][i] = 1 / (1 + np.exp(x[i])*(1 + np.exp(-x[i])))\n",
    "            \n",
    "        return out_put\n",
    "    \n",
    "class Identity():\n",
    "    def trans(self, x):\n",
    "        return x\n",
    "    \n",
    "    def diff(self, x):\n",
    "        return np.identity(len(x))\n",
    "\n",
    "class Layer():\n",
    "    def __init__(self, layers_from, nodes_n, active_function):\n",
    "        self.lf = layers_from # list :layers connected before\n",
    "        self.lt = [] # layers connected after\n",
    "        self.nodes_n = nodes_n\n",
    "        self.weights = {}\n",
    "        self.w_diff = {}\n",
    "        self.bias = np.zeros([nodes_n])\n",
    "        self.b_diff = np.zeros([nodes_n])\n",
    "        self.nodes_before = np.zeros([nodes_n])\n",
    "        self.nodes_after = np.zeros([nodes_n])\n",
    "        self.nodes_diff = np.zeros([nodes_n])\n",
    "        self.af = active_function\n",
    "    \n",
    "    def forward(self):\n",
    "        self.nodes_after = self.af.trans(self.nodes_before)\n",
    "    \n",
    "    def jacobi(self):\n",
    "        self.nodes_diff = self.af.diff(self.nodes_before)\n",
    "    \n",
    "class DogikoNN():\n",
    "    def __init__(self):\n",
    "        self.training_data = None\n",
    "        self.pp_linear = {\n",
    "            \"multi\" : None,\n",
    "            \"trans\" : None\n",
    "        } # pre-processing linear translation\n",
    "        self.flow = []\n",
    "        self.layers = {}\n",
    "    \n",
    "    def set_data(self, input_data, input_answer, input_weights = None):\n",
    "        # type input_data : numpy array\n",
    "        # type input_answer : numpy array\n",
    "        self.t_datas = input_data\n",
    "        self.t_answers = input_answer\n",
    "        self.t_weights = input_weights\n",
    "        \n",
    "    def define_normalized(normalized_algorithm):\n",
    "        self.normal_alg = normalized_algorithm\n",
    "    \n",
    "    def layers_clear():\n",
    "        del self.layers\n",
    "        self.layers = {}\n",
    "        \n",
    "    def insert_layer(name, layer, is_flow_add = True):\n",
    "        self.layers[name] = layer\n",
    "        if is_flow_add:\n",
    "            self.flow.append(name)\n",
    "        \n",
    "    def build():\n",
    "        if self.normal_alg == \"normal\":\n",
    "            temp_trans_datas = self.datas.T\n",
    "            temp_sqre_mean_array = np.zeros([len(temp_trans_datas)])\n",
    "            self.pp_linear[\"trans\"] = np.zeros([len(temp_trans_datas)])\n",
    "            for j in range(len(temp_trans_datas)):\n",
    "                feature = temp_trans_datas[j]\n",
    "                self.pp_linear[\"trans\"][j] = feature.mean\n",
    "                temp_square_mean_array[j] = (feature**2).mean\n",
    "            \n",
    "            self.pp_linear[\"multi\"] = (temp_square_mean_array - self.pp_linear[\"trans\"]**2)**0.5\n",
    "        \n",
    "        else:\n",
    "            print (\"unacceptable normalized_algorithm\")\n",
    "        \n",
    "        self.n_t_datas = np.zeros()\n",
    "        for i in range(len(self.t_datas)):\n",
    "            self.n_t_datas[i] = self.pp_linear[\"multi\"] * (self.t_datas[i] - self.pp_linear[\"trans\"])\n",
    "        \n",
    "        if len(self.flow) != len(set(self.flow)):\n",
    "            print (\"each element in self.flow should be unique (layer name)\")\n",
    "            break\n",
    "        \n",
    "        for l in range(len(self.flow)):\n",
    "            ln = self.flow[l]\n",
    "            for ln2 in self.layers[ln].lf:\n",
    "                if self.flow.index(ln2) > l:\n",
    "                    print (\"layer \", ln2, \"shoud work before layer \", ln)\n",
    "                    \n",
    "                self.layers[ln2].lt.append(ln)\n",
    "                self.layers[ln].weights[ln2] = np.zeros([self.layers[ln].nodes_n, self.layers[ln2].nodes_n])\n",
    "            "
   ]
  },
  {
   "cell_type": "code",
   "execution_count": null,
   "metadata": {
    "collapsed": true
   },
   "outputs": [],
   "source": []
  }
 ],
 "metadata": {
  "kernelspec": {
   "display_name": "Python 3",
   "language": "python",
   "name": "python3"
  },
  "language_info": {
   "codemirror_mode": {
    "name": "ipython",
    "version": 3
   },
   "file_extension": ".py",
   "mimetype": "text/x-python",
   "name": "python",
   "nbconvert_exporter": "python",
   "pygments_lexer": "ipython3",
   "version": "3.5.2"
  }
 },
 "nbformat": 4,
 "nbformat_minor": 2
}
