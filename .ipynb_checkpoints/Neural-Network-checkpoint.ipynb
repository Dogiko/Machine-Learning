{
 "cells": [
  {
   "cell_type": "markdown",
   "metadata": {},
   "source": [
    "# Import"
   ]
  },
  {
   "cell_type": "code",
   "execution_count": 1,
   "metadata": {
    "collapsed": true
   },
   "outputs": [],
   "source": [
    "import numpy as np\n",
    "import matplotlib.pyplot as plt\n",
    "from scipy.special import expit"
   ]
  },
  {
   "cell_type": "markdown",
   "metadata": {},
   "source": [
    "# Define"
   ]
  },
  {
   "cell_type": "code",
   "execution_count": 2,
   "metadata": {
    "collapsed": true
   },
   "outputs": [],
   "source": [
    "def array_sign(array):\n",
    "    # return +1, 0, -1 respect to positive, zero, negtive\n",
    "    return 1.*(array>0) - 1.*(array<0)\n",
    "\n",
    "class VariableArray():\n",
    "    def __init__(self, size, cs_initial=0.1):\n",
    "        self.v = np.random.normal(0., 1., size) # array values\n",
    "        self.td = np.zeros(self.v.shape) # total derivative, used to descent\n",
    "        self.ltd = None # last total derivative\n",
    "        self.m = np.zeros(self.v.shape) # moving array\n",
    "        self.cs = cs_initial*np.ones(self.v.shape) # component-wise step\n",
    "        self.work = np.ones(self.v.shape) # working components, defult to be fully connected\n",
    "    \n",
    "    def assign_values(self, values, cs_initial=0.1):\n",
    "        self.v = values\n",
    "        self.td = np.zeros(self.v.shape)\n",
    "        self.ltd = None\n",
    "        self.m = np.zeros(self.v.shape)\n",
    "        self.cs = cs_initial*np.ones(self.v.shape)\n",
    "        self.work = np.ones(self.v.shape)\n",
    "    \n",
    "    def derivative_assign(self, values):\n",
    "        if values.shape != self.td.shape:\n",
    "            raise ValueError(\"values shape error\")\n",
    "        \n",
    "        self.ltd = np.array(self.td)\n",
    "        self.td = values\n",
    "    \n",
    "    def max_cs(self):\n",
    "        return self.cs.max()\n",
    "    \n",
    "    def descent(self, step = 1., descent_method = \"normal\", regularizer = (\"None\",),step_max=1., step_min=0.000001):\n",
    "        if regularizer[0] == \"r_square\":\n",
    "            self.td += regularizer[1] * self.v\n",
    "        \n",
    "        if regularizer[0] == \"rs_extend\":\n",
    "            self.td += regularizer[1] * ((self.v>regularizer[2])*(self.v-regularizer[2]) + (self.v < -regularizer[2])*(self.v+regularizer[2]))\n",
    "        \n",
    "        if descent_method == \"normal\":\n",
    "            self.m = np.array(self.td)\n",
    "            self.v -= step * self.m * self.work\n",
    "        elif descent_method == \"Rprop\":\n",
    "            self.m = array_sign(self.td)\n",
    "            self.cs *= 1.2*(self.td*self.ltd>0) + 1.*(self.td*self.ltd==0) + 0.5*(self.td*self.ltd<0)\n",
    "            self.cs = self.cs * (self.cs < step_max) * (self.cs > step_min)+ step_max*(self.cs >= step_max) + step_min*(self.cs <= step_min)\n",
    "            self.v -= self.cs * self.m * self.work\n",
    "        elif descent_method == \"Dogiko Rprop\":\n",
    "            self.m = array_sign(self.td)\n",
    "            step_change = 1.2*(self.td*self.ltd>0.) + 1.*(self.td*self.ltd==0.) + 1.*(self.td==self.ltd)\n",
    "            step_change[step_change == 0.] = self.td[step_change == 0.]/(self.ltd-self.td)[step_change == 0.]\n",
    "            step_change[step_change < 0.1] = 0.1\n",
    "            self.cs *= step_change\n",
    "            \n",
    "            self.cs = self.cs * (self.cs < step_max) * (self.cs > step_min)+ step_max*(self.cs >= step_max) + step_min*(self.cs <= step_min)\n",
    "            self.v -= self.cs * self.m * self.work\n",
    "\n",
    "# Activation functions defined start\n",
    "\n",
    "class Identity():\n",
    "    def trans(self, x):\n",
    "        return x\n",
    "    \n",
    "    def diff(self, x):\n",
    "        return np.ones(x.shape, dtype = np.float64)\n",
    "\n",
    "class Sigmoid():\n",
    "    def trans(self, x):\n",
    "        return expit(x)\n",
    "    \n",
    "    def diff(self, x):\n",
    "        return expit(x)*expit(-x)\n",
    "\n",
    "class Hypertan():\n",
    "    def trans(self, x):\n",
    "        return np.tanh(x)\n",
    "    \n",
    "    def diff(self, x):\n",
    "        return 1. / np.square(np.cosh(x))\n",
    "\n",
    "class Relu():\n",
    "    def trans(self, x):\n",
    "        return x*(x>0)\n",
    "    \n",
    "    def diff(self, x):\n",
    "        return 1.*(x>0)\n",
    "\n",
    "class LeakyRelu():\n",
    "    def __init__(self, alpha = 0.1):\n",
    "        self.alpha = alpha\n",
    "    \n",
    "    def trans(self, x):\n",
    "        return x*(x>0) + self.alpha*x*(x<0)\n",
    "    \n",
    "    def diff(self, x):\n",
    "        return 1.*(x>0) + self.alpha*(x<0)\n",
    "\n",
    "class SoftPlus():\n",
    "    def trans(self, x):\n",
    "        return np.log(1. + np.exp(x))\n",
    "    \n",
    "    def diff(self, x):\n",
    "        return expit(x)\n",
    "\n",
    "class Selu():\n",
    "    def __init__(self):\n",
    "        self.ahpha = 1.05071\n",
    "        self.beta = 1.67326\n",
    "    \n",
    "    def trans(self, x):\n",
    "        return self.ahpha*(x*(x>0) + self.beta*(np.exp(x) - 1)*(x<0))\n",
    "    \n",
    "    def diff(self, x):\n",
    "        return self.ahpha*((x>0) + self.beta*np.exp(x)*(x<0))\n",
    "\n",
    "# Activation functions defined end\n",
    "\n",
    "class Layer():\n",
    "    def __init__(self, neuron_n, activation_function):\n",
    "        self.nn = neuron_n\n",
    "        self.af = activation_function\n",
    "        self.w = VariableArray((self.nn, 0)) # linear weights working before active function\n",
    "        self.b = VariableArray((self.nn)) # bias working before active function\n",
    "        self.x = np.zeros((0, self.nn))\n",
    "        self.y = np.zeros((0, self.nn))\n",
    "    \n",
    "    def forward(self, _input):\n",
    "        temp_dn = _input.shape[1] # _input datum n\n",
    "        self.x = np.dot(self.w.v, _input) + self.b.v.repeat(temp_dn).reshape((self.nn, temp_dn))\n",
    "        self.y = self.af.trans(self.x)\n",
    "    \n",
    "    def backward(self, _input, source):\n",
    "        derivative = self.af.diff(self.x)*_input\n",
    "        self.w.derivative_assign(np.dot(derivative, source.T))\n",
    "        self.b.derivative_assign(np.sum(derivative, axis=1))\n",
    "        derivative = np.dot(derivative.T, self.w.v)\n",
    "        return derivative.T\n",
    "    \n",
    "    def descent(self, step, descent_method, regularizer):\n",
    "        self.w.descent(step, descent_method, regularizer)\n",
    "        self.b.descent(step, descent_method, regularizer)\n",
    "\n",
    "class DogikoLearn():\n",
    "    def __init__(self, loss_function = \"r2\"):\n",
    "        self.lf = loss_function # loss function type\n",
    "        self.ly = [] # layers list\n",
    "        self.rg = (\"None\",) # Regularizetion method\n",
    "        self.csi = 0.1 # initial component-wise step when claim new weights and bias\n",
    "    \n",
    "    def r_square_regularizer(self, alpha):\n",
    "        # Assign regularization method as radius square\n",
    "        # i.e Error += alpha*0.5*sum(weight**2) when descent\n",
    "        if alpha <= 0:\n",
    "            raise ValueError(\"Input should be positive\")\n",
    "        \n",
    "        self.rg = (\"r_square\", alpha)\n",
    "    \n",
    "    def rs_extend_regularizer(self, alpha, beta):\n",
    "        # Assign regularization method as radius square\n",
    "        # i.e Error += alpha*0.5sum(weight**2) when descent\n",
    "        if (alpha <= 0) or (alpha <= 0):\n",
    "            raise ValueError(\"All input should be positive\")\n",
    "        \n",
    "        self.rg = (\"rs_extend\", alpha, beta)\n",
    "    \n",
    "    def set_training_data(self, training_input, training_labels):\n",
    "        self.tx = np.array(training_input) # training data input\n",
    "        self.ty = np.array(training_labels) # training data lables(answers)\n",
    "        if self.tx.shape[0] != self.ty.shape[0]:\n",
    "            temp_min = min(self.tx.shape[0], self.ty.shape[0])\n",
    "            self.tx = self.tx[:temp_min]\n",
    "            self.ty = self.ty[:temp_min]\n",
    "            print(\"training data #input != #output, took the minimun size automatically\")\n",
    "        \n",
    "        self.xs = self.tx.shape[1] # size of each datum input\n",
    "        self.ys = self.ty.shape[1] # size of each datum output\n",
    "    \n",
    "    def set_validating_data(self, validating_input, validating_labels):\n",
    "        self.vx = np.array(validating_input) # validating data input\n",
    "        self.vy = np.array(validating_labels) # validating data lables(answers)\n",
    "        if self.vx.shape[1] != self.xs:\n",
    "            raise ValueError(\"validating data input size should be equal to training data\")\n",
    "        \n",
    "        if self.vy.shape[1] != self.ys:\n",
    "            raise ValueError(\"validating data lables size should be equal to training data\")\n",
    "    \n",
    "    def add_layer(self, new_layer):\n",
    "        self.ly.append(new_layer)\n",
    "    \n",
    "    def build(self):\n",
    "        self.ln = len(self.ly) # amount of layers\n",
    "        self.ly[0].w.assign_values(np.random.normal(0., 1., (self.ly[0].nn, self.xs)), self.csi)\n",
    "        self.ly[0].b.assign_values(np.random.normal(0., 1., (self.ly[0].nn)), self.csi)\n",
    "        for l in range(1,self.ln):\n",
    "            self.ly[l].w.assign_values(np.random.normal(0., 1., (self.ly[l].nn, self.ly[l-1].nn)), self.csi)\n",
    "            self.ly[l].b.assign_values(np.random.normal(0., 1., (self.ly[l].nn)), self.csi)\n",
    "        \n",
    "        if self.ly[-1].nn != self.ys: # cheak output size\n",
    "            raise ValueError(\"output layer must has the same size with datum lables(answer)\")\n",
    "    \n",
    "    def prediction(self, data_input):\n",
    "        self.px = np.array(data_input) # prediction data input of last time predic\n",
    "        if self.px.shape[1] != self.xs:\n",
    "            raise ValueError(\"datum size error\")\n",
    "        \n",
    "        self.ly[0].forward(self.px.T)\n",
    "        for l in range(1,self.ln):\n",
    "            self.ly[l].forward(self.ly[l-1].y)\n",
    "        \n",
    "        self.py = self.ly[l].y.T # prediction result of last time predict\n",
    "    \n",
    "    def descent(self, step = 1., descent_method = \"normal\"):\n",
    "        for l in range(self.ln):\n",
    "            self.ly[l].descent(step, descent_method, self.rg)\n",
    "        \n",
    "        if descent_method in [\"Rprop\", \"Dogiko Rprop\"]:\n",
    "            self.max_cs = 0.\n",
    "            for l in range(self.ln):\n",
    "                self.max_cs = max(self.max_cs, self.ly[l].w.max_cs(), self.ly[l].b.max_cs())\n",
    "    \n",
    "    def batch_fit(self, batch_input, batch_labels, step = 1., descent_method = \"normal\"):\n",
    "        self.prediction(batch_input)\n",
    "        if self.lf == \"r2\":\n",
    "            temp_derivative = 2*(self.py - batch_labels).T/(batch_labels.shape[0]*batch_labels.var(axis=0).sum())\n",
    "        \n",
    "        for l in range(self.ln-1, 0, -1):\n",
    "            temp_derivative = self.ly[l].backward(temp_derivative, self.ly[l-1].y)\n",
    "        \n",
    "        self.ly[0].backward(temp_derivative, batch_input.T)\n",
    "        self.descent(step, descent_method)\n",
    "    \n",
    "    def validate(self):\n",
    "        self.prediction(self.vx)\n",
    "        if self.lf == \"r2\":\n",
    "            return np.square(self.py - self.vy).mean()/self.vy.var(axis=0).mean()\n"
   ]
  },
  {
   "cell_type": "markdown",
   "metadata": {},
   "source": [
    "# Example 1\n",
    "\n",
    "Fit $y = \\sin{x}$"
   ]
  },
  {
   "cell_type": "code",
   "execution_count": 3,
   "metadata": {
    "collapsed": true
   },
   "outputs": [],
   "source": [
    "X = (np.arange(81)/20) - 2\n",
    "X = X.reshape((81,1))\n",
    "Y = np.sin(2*X)"
   ]
  },
  {
   "cell_type": "code",
   "execution_count": 23,
   "metadata": {},
   "outputs": [
    {
     "name": "stdout",
     "output_type": "stream",
     "text": [
      "0.00167528055933\n"
     ]
    },
    {
     "data": {
      "image/png": "[encoded data removed]",
      "text/plain": [
       "<matplotlib.figure.Figure at 0x10c385c88>"
      ]
     },
     "metadata": {},
     "output_type": "display_data"
    }
   ],
   "source": [
    "NN = DogikoLearn()\n",
    "NN.r_square_regularizer(0.0001)\n",
    "NN.set_training_data(X, Y)\n",
    "NN.set_validating_data(X, Y)\n",
    "NN.add_layer(Layer(50,Sigmoid()))\n",
    "NN.add_layer(Layer(1,Identity()))\n",
    "NN.build()\n",
    "\n",
    "counter = 0\n",
    "for i in range(10000):\n",
    "    NN.batch_fit(X,Y,step=0.02, descent_method=\"Dogiko Rprop\")\n",
    "    if NN.max_cs < 0.001:\n",
    "        break\n",
    "    else:\n",
    "        counter =0\n",
    "\n",
    "print(NN.validate())\n",
    "\n",
    "plt.plot(X.reshape((81)), NN.py.reshape((81)), \"b\", X.reshape((81)), Y.reshape((81)))\n",
    "plt.show()"
   ]
  },
  {
   "cell_type": "markdown",
   "metadata": {
    "collapsed": true
   },
   "source": [
    "# Example 2\n",
    "\n",
    "Net-shape classification"
   ]
  },
  {
   "cell_type": "code",
   "execution_count": 9,
   "metadata": {},
   "outputs": [
    {
     "data": {
      "image/png": "[encoded data removed]",
      "text/plain": [
       "<matplotlib.figure.Figure at 0x109987cf8>"
      ]
     },
     "metadata": {},
     "output_type": "display_data"
    }
   ],
   "source": [
    "X = np.array([np.arange(41).repeat(41), np.arange(41*41) % 41]).astype(np.float64)\n",
    "X -= 20.\n",
    "X /= 20.\n",
    "Y = (((X[0] + X[1] - 0.5) % 2.) > 1.) ^ (((X[0] - X[1] - 0.5) % 2.) > 1.)\n",
    "Y = Y.reshape((Y.shape + (1,))).astype(np.float64)\n",
    "X = X.T\n",
    "plt.figure(figsize=(5,5))\n",
    "plt.plot(X.T[0][Y.T[0] == 1], X.T[1][Y.T[0] == 1], \"bp\")\n",
    "plt.show()"
   ]
  },
  {
   "cell_type": "code",
   "execution_count": 77,
   "metadata": {},
   "outputs": [
    {
     "name": "stdout",
     "output_type": "stream",
     "text": [
      "0.231129767502\n",
      "0.290740797444\n",
      "0.119257883312\n",
      "0.296751776202\n",
      "0.231129767502\n",
      "0.0391302183008\n",
      "0.0676170172238\n",
      "0.0247293146835\n",
      "0.0373287478235\n",
      "0.0283089967321\n",
      "1000\n",
      "0.295642730429\n",
      "1.05690086614\n",
      "1.02269877481\n",
      "1.02247784318\n",
      "1.13073751743\n"
     ]
    }
   ],
   "source": [
    "NN = DogikoLearn()\n",
    "NN.rs_extend_regularizer(0.1,1.)\n",
    "NN.set_training_data(X, Y)\n",
    "NN.set_validating_data(X, Y)\n",
    "NN.add_layer(Layer(50,Sigmoid()))\n",
    "NN.add_layer(Layer(30,Sigmoid()))\n",
    "NN.add_layer(Layer(20,Sigmoid()))\n",
    "NN.add_layer(Layer(1,Sigmoid()))\n",
    "NN.build()\n",
    "\n",
    "for i in range(10000):\n",
    "    NN.batch_fit(X,Y,step=0.1, descent_method=\"Dogiko Rprop\")\n",
    "    if NN.max_cs < 0.005:\n",
    "        print(i)\n",
    "        break\n",
    "    \n",
    "    if (i+1) % 100 == 0:\n",
    "        print(NN.max_cs)\n",
    "\n",
    "print(NN.validate())\n",
    "\n",
    "for l in range(len(NN.ly)):\n",
    "    print(max(np.abs(NN.ly[l].w.v).max(), np.abs(NN.ly[l].b.v).max()))"
   ]
  },
  {
   "cell_type": "code",
   "execution_count": 10,
   "metadata": {},
   "outputs": [
    {
     "data": {
      "image/png": "[encoded data removed]",
      "text/plain": [
       "<matplotlib.figure.Figure at 0x112564e80>"
      ]
     },
     "metadata": {},
     "output_type": "display_data"
    }
   ],
   "source": [
    "plt.plot((np.arange(101)-50)*0.05,1.*(np.arange(101) >= 30)*(np.arange(101) <= 70), \"bp\")\n",
    "plt.show()"
   ]
  },
  {
   "cell_type": "code",
   "execution_count": 64,
   "metadata": {
    "collapsed": true
   },
   "outputs": [],
   "source": [
    "X = np.zeros((303))\n",
    "for t in range(3):\n",
    "    X[101*t:101*(t+1)] = (np.arange(101)-250+(200*t))*0.01\n",
    "Y = 1.*(np.arange(303) >= 101) * (np.arange(303) < 202)\n",
    "X = X.reshape(X.shape + (1,))\n",
    "Y = Y.reshape(Y.shape + (1,))"
   ]
  },
  {
   "cell_type": "code",
   "execution_count": 65,
   "metadata": {
    "collapsed": true
   },
   "outputs": [],
   "source": [
    "NN = DogikoLearn()\n",
    "NN.rs_extend_regularizer(0.01,1.)\n",
    "NN.set_training_data(X, Y)\n",
    "NN.set_validating_data(X, Y)\n",
    "NN.add_layer(Layer(10,Sigmoid()))\n",
    "NN.add_layer(Layer(1,Sigmoid()))\n",
    "NN.build()"
   ]
  },
  {
   "cell_type": "code",
   "execution_count": 66,
   "metadata": {
    "collapsed": true
   },
   "outputs": [],
   "source": [
    "for t in range(100):\n",
    "    NN.batch_fit(X,Y,step=0.01, descent_method=\"Rprop\")"
   ]
  },
  {
   "cell_type": "code",
   "execution_count": 67,
   "metadata": {},
   "outputs": [
    {
     "data": {
      "image/png": "[encoded data removed]",
      "text/plain": [
       "<matplotlib.figure.Figure at 0x110719860>"
      ]
     },
     "metadata": {},
     "output_type": "display_data"
    }
   ],
   "source": [
    "NN.prediction(X)\n",
    "plt.plot(NN.px.T, NN.py.T, \"bp\", X.T, Y.T, \"rp\")\n",
    "plt.show()"
   ]
  },
  {
   "cell_type": "code",
   "execution_count": 83,
   "metadata": {
    "collapsed": true
   },
   "outputs": [],
   "source": [
    "def column_operate(matrix, thresh_hold = 0.001):\n",
    "    rm = np.array(matrix) # reduced matrix\n",
    "    fm = np.array(matrix) # filtered matrix\n",
    "    ms = matrix.shape # matrix size\n",
    "    mk = np.ones(matrix.shape) # mask\n",
    "    pv = -1*np.ones((ms[1])) # pivots\n",
    "    for t in range(ms[1]):\n",
    "        fm = rm*mk # filtered matrix\n",
    "        if np.abs(fm).max() < thresh_hold:\n",
    "            break\n",
    "        \n",
    "        pr, pc = np.unravel_index(np.abs(fm).argmax(), ms) # pivot row, pivot column\n",
    "        rm[:,pc] /= rm[pr][pc]\n",
    "        multi = np.array(rm[pr])\n",
    "        multi[pc] = 0.\n",
    "        rm -= np.dot(rm[:,pc].reshape((ms[0], 1)), multi.reshape((1, ms[1])))\n",
    "        mk[pr] = 0.\n",
    "        mk[:,pc] = 0.\n",
    "        pv[pc] = pr\n",
    "    \n",
    "    rm = rm[:, pv != -1]\n",
    "    pv = pv[pv != -1].astype(np.int)\n",
    "    \n",
    "    return rm, pv"
   ]
  },
  {
   "cell_type": "code",
   "execution_count": 84,
   "metadata": {
    "collapsed": true
   },
   "outputs": [],
   "source": [
    "ym = NN.ly[0].y.mean(axis=1)"
   ]
  },
  {
   "cell_type": "code",
   "execution_count": 85,
   "metadata": {
    "collapsed": true
   },
   "outputs": [],
   "source": [
    "yn = NN.ly[0].y - ym.reshape((10,1))"
   ]
  },
  {
   "cell_type": "code",
   "execution_count": 86,
   "metadata": {
    "collapsed": true
   },
   "outputs": [],
   "source": [
    "ba = np.dot(NN.ly[1].w.v, ym.reshape((10,1)))"
   ]
  },
  {
   "cell_type": "code",
   "execution_count": 87,
   "metadata": {
    "collapsed": true
   },
   "outputs": [],
   "source": [
    "ev, em = np.linalg.eig(np.dot(yn, yn.T))"
   ]
  },
  {
   "cell_type": "code",
   "execution_count": 88,
   "metadata": {
    "collapsed": true
   },
   "outputs": [],
   "source": [
    "operator, pivots=column_operate(em[:,ev/ev.sum() > 0.00001])"
   ]
  },
  {
   "cell_type": "code",
   "execution_count": 74,
   "metadata": {
    "scrolled": true
   },
   "outputs": [
    {
     "data": {
      "text/plain": [
       "array([[  4.89583397e-03,   4.68279120e-03,   4.47241889e-03,\n",
       "          4.26478662e-03,   4.05996396e-03,   3.85802042e-03,\n",
       "          3.65902541e-03,   3.46304816e-03,   3.27015768e-03,\n",
       "          3.08042268e-03,   2.89391153e-03,   2.71069217e-03,\n",
       "          2.53083206e-03,   2.35439811e-03,   2.18145660e-03,\n",
       "          2.01207308e-03,   1.84631238e-03,   1.68423841e-03,\n",
       "          1.52591419e-03,   1.37140171e-03,   1.22076185e-03,\n",
       "          1.07405429e-03,   9.31337474e-04,   7.92668435e-04,\n",
       "          6.58102767e-04,   5.27694508e-04,   4.01496045e-04,\n",
       "          2.79558020e-04,   1.61929228e-04,   4.86565188e-05,\n",
       "         -6.02153082e-05,  -1.64643604e-04,  -2.64587978e-04,\n",
       "         -3.60010401e-04,  -4.50875314e-04,  -5.37149738e-04,\n",
       "         -6.18803378e-04,  -6.95808738e-04,  -7.68141226e-04,\n",
       "         -8.35779269e-04,  -8.98704420e-04,  -9.56901471e-04,\n",
       "         -1.01035856e-03,  -1.05906729e-03,  -1.10302282e-03,\n",
       "         -1.14222400e-03,  -1.17667345e-03,  -1.20637769e-03,\n",
       "         -1.23134723e-03,  -1.25159668e-03,  -1.26714486e-03,\n",
       "         -1.27801486e-03,  -1.28423419e-03,  -1.28583484e-03,\n",
       "         -1.28285336e-03,  -1.27533100e-03,  -1.26331372e-03,\n",
       "         -1.24685232e-03,  -1.22600250e-03,  -1.20082491e-03,\n",
       "         -1.17138526e-03,  -1.13775431e-03,  -1.10000799e-03,\n",
       "         -1.05822742e-03,  -1.01249891e-03,  -9.62914075e-04,\n",
       "         -9.09569776e-04,  -8.52568189e-04,  -7.92016796e-04,\n",
       "         -7.28028389e-04,  -6.60721056e-04,  -5.90218171e-04,\n",
       "         -5.16648360e-04,  -4.40145464e-04,  -3.60848496e-04,\n",
       "         -2.78901576e-04,  -1.94453868e-04,  -1.07659491e-04,\n",
       "         -1.86774357e-05,   7.23285479e-05,   1.65190062e-04,\n",
       "          2.59734190e-04,   3.55783642e-04,   4.53156903e-04,\n",
       "          5.51668403e-04,   6.51128699e-04,   7.51344665e-04,\n",
       "          8.52119697e-04,   9.53253939e-04,   1.05454451e-03,\n",
       "          1.15578575e-03,   1.25676948e-03,   1.35728529e-03,\n",
       "          1.45712079e-03,   1.55606193e-03,   1.65389332e-03,\n",
       "          1.75039854e-03,   1.84536045e-03,   1.93856159e-03,\n",
       "          2.02978449e-03,   2.11881205e-03,  -7.55066772e-03,\n",
       "         -7.57653308e-03,  -7.59433383e-03,  -7.60404778e-03,\n",
       "         -7.60566468e-03,  -7.59918611e-03,  -7.58462521e-03,\n",
       "         -7.56200658e-03,  -7.53136598e-03,  -7.49275010e-03,\n",
       "         -7.44621631e-03,  -7.39183237e-03,  -7.32967610e-03,\n",
       "         -7.25983509e-03,  -7.18240637e-03,  -7.09749603e-03,\n",
       "         -7.00521888e-03,  -6.90569810e-03,  -6.79906481e-03,\n",
       "         -6.68545772e-03,  -6.56502273e-03,  -6.43791251e-03,\n",
       "         -6.30428609e-03,  -6.16430848e-03,  -6.01815023e-03,\n",
       "         -5.86598703e-03,  -5.70799928e-03,  -5.54437169e-03,\n",
       "         -5.37529287e-03,  -5.20095492e-03,  -5.02155301e-03,\n",
       "         -4.83728501e-03,  -4.64835107e-03,  -4.45495325e-03,\n",
       "         -4.25729514e-03,  -4.05558147e-03,  -3.85001779e-03,\n",
       "         -3.64081006e-03,  -3.42816436e-03,  -3.21228653e-03,\n",
       "         -2.99338185e-03,  -2.77165475e-03,  -2.54730849e-03,\n",
       "         -2.32054489e-03,  -2.09156407e-03,  -1.86056415e-03,\n",
       "         -1.62774105e-03,  -1.39328823e-03,  -1.15739648e-03,\n",
       "         -9.20253739e-04,  -6.82044852e-04,  -4.42951435e-04,\n",
       "         -2.03151700e-04,   3.71796961e-05,   2.77871788e-04,\n",
       "          5.18757421e-04,   7.59673363e-04,   1.00046040e-03,\n",
       "          1.24096340e-03,   1.48103144e-03,   1.72051777e-03,\n",
       "          1.95927995e-03,   2.19717982e-03,   2.43408356e-03,\n",
       "          2.66986165e-03,   2.90438894e-03,   3.13754457e-03,\n",
       "          3.36921197e-03,   3.59927885e-03,   3.82763712e-03,\n",
       "          4.05418287e-03,   4.27881627e-03,   4.50144157e-03,\n",
       "          4.72196693e-03,   4.94030443e-03,   5.15636991e-03,\n",
       "          5.37008291e-03,   5.58136655e-03,   5.79014745e-03,\n",
       "          5.99635558e-03,   6.19992417e-03,   6.40078958e-03,\n",
       "          6.59889117e-03,   6.79417121e-03,   6.98657470e-03,\n",
       "          7.17604928e-03,   7.36254509e-03,   7.54601463e-03,\n",
       "          7.72641263e-03,   7.90369593e-03,   8.07782336e-03,\n",
       "          8.24875558e-03,   8.41645500e-03,   8.58088560e-03,\n",
       "          8.74201287e-03,   8.89980365e-03,   9.05422603e-03,\n",
       "          9.20524927e-03,   9.35284363e-03,   9.49698037e-03,\n",
       "          9.63763154e-03,   5.27942033e-03,   5.11628359e-03,\n",
       "          4.95351519e-03,   4.79120428e-03,   4.62943824e-03,\n",
       "          4.46830262e-03,   4.30788105e-03,   4.14825520e-03,\n",
       "          3.98950468e-03,   3.83170702e-03,   3.67493759e-03,\n",
       "          3.51926955e-03,   3.36477386e-03,   3.21151915e-03,\n",
       "          3.05957176e-03,   2.90899568e-03,   2.75985252e-03,\n",
       "          2.61220153e-03,   2.46609950e-03,   2.32160084e-03,\n",
       "          2.17875750e-03,   2.03761902e-03,   1.89823247e-03,\n",
       "          1.76064252e-03,   1.62489139e-03,   1.49101889e-03,\n",
       "          1.35906243e-03,   1.22905702e-03,   1.10103530e-03,\n",
       "          9.75027577e-04,   8.51061825e-04,   7.29163727e-04,\n",
       "          6.09356703e-04,   4.91661939e-04,   3.76098427e-04,\n",
       "          2.62682998e-04,   1.51430361e-04,   4.23531455e-05,\n",
       "         -6.45380585e-05,  -1.69234656e-04,  -2.71730003e-04,\n",
       "         -3.72019357e-04,  -4.70099837e-04,  -5.65970366e-04,\n",
       "         -6.59631628e-04,  -7.51086020e-04,  -8.40337592e-04,\n",
       "         -9.27392009e-04,  -1.01225649e-03,  -1.09493975e-03,\n",
       "         -1.17545199e-03,  -1.25380476e-03,  -1.33001101e-03,\n",
       "         -1.40408496e-03,  -1.47604209e-03,  -1.54589905e-03,\n",
       "         -1.61367367e-03,  -1.67938484e-03,  -1.74305252e-03,\n",
       "         -1.80469763e-03,  -1.86434206e-03,  -1.92200859e-03,\n",
       "         -1.97772083e-03,  -2.03150320e-03,  -2.08338088e-03,\n",
       "         -2.13337974e-03,  -2.18152632e-03,  -2.22784778e-03,\n",
       "         -2.27237186e-03,  -2.31512680e-03,  -2.35614138e-03,\n",
       "         -2.39544478e-03,  -2.43306663e-03,  -2.46903691e-03,\n",
       "         -2.50338594e-03,  -2.53614435e-03,  -2.56734301e-03,\n",
       "         -2.59701304e-03,  -2.62518575e-03,  -2.65189261e-03,\n",
       "         -2.67716521e-03,  -2.70103527e-03,  -2.72353456e-03,\n",
       "         -2.74469491e-03,  -2.76454815e-03,  -2.78312612e-03,\n",
       "         -2.80046061e-03,  -2.81658336e-03,  -2.83152604e-03,\n",
       "         -2.84532019e-03,  -2.85799726e-03,  -2.86958852e-03,\n",
       "         -2.88012509e-03,  -2.88963793e-03,  -2.89815776e-03,\n",
       "         -2.90571511e-03,  -2.91234028e-03,  -2.91806329e-03,\n",
       "         -2.92291394e-03,  -2.92692173e-03,  -2.93011588e-03]])"
      ]
     },
     "execution_count": 74,
     "metadata": {},
     "output_type": "execute_result"
    }
   ],
   "source": [
    "NN.ly[1].x - (np.dot(np.dot(NN.ly[1].w.v, operator), yn[pivots.astype(np.int)]) + ba + NN.ly[1].b.v.reshape(1,1))"
   ]
  },
  {
   "cell_type": "code",
   "execution_count": 89,
   "metadata": {},
   "outputs": [],
   "source": [
    "new_w = np.dot(NN.ly[1].w.v, operator)"
   ]
  },
  {
   "cell_type": "code",
   "execution_count": 79,
   "metadata": {},
   "outputs": [
    {
     "data": {
      "text/plain": [
       "array([-1.27004381])"
      ]
     },
     "execution_count": 79,
     "metadata": {},
     "output_type": "execute_result"
    }
   ],
   "source": [
    "NN.ly[1].b.assign_values(NN.ly[1].b.v + (np.dot(NN.ly[1].w.v, ym) -np.dot(new_w, ym[pivots])))"
   ]
  },
  {
   "cell_type": "code",
   "execution_count": 91,
   "metadata": {},
   "outputs": [
    {
     "data": {
      "text/plain": [
       "array([ 1.65421376])"
      ]
     },
     "execution_count": 91,
     "metadata": {},
     "output_type": "execute_result"
    }
   ],
   "source": []
  },
  {
   "cell_type": "code",
   "execution_count": 92,
   "metadata": {},
   "outputs": [
    {
     "data": {
      "text/plain": [
       "array([ 0.63913351,  0.35586279,  0.75312008,  0.7524501 ,  0.63933298,\n",
       "        0.64414905,  0.63412431,  0.35644447,  0.64242614,  0.35657099])"
      ]
     },
     "execution_count": 92,
     "metadata": {},
     "output_type": "execute_result"
    }
   ],
   "source": []
  },
  {
   "cell_type": "code",
   "execution_count": null,
   "metadata": {
    "collapsed": true
   },
   "outputs": [],
   "source": []
  }
 ],
 "metadata": {
  "kernelspec": {
   "display_name": "Python 3",
   "language": "python",
   "name": "python3"
  },
  "language_info": {
   "codemirror_mode": {
    "name": "ipython",
    "version": 3
   },
   "file_extension": ".py",
   "mimetype": "text/x-python",
   "name": "python",
   "nbconvert_exporter": "python",
   "pygments_lexer": "ipython3",
   "version": "3.6.1"
  }
 },
 "nbformat": 4,
 "nbformat_minor": 2
}
