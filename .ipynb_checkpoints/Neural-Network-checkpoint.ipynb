{
 "cells": [
  {
   "cell_type": "markdown",
   "metadata": {},
   "source": [
    "# Import"
   ]
  },
  {
   "cell_type": "code",
   "execution_count": 6,
   "metadata": {
    "collapsed": true
   },
   "outputs": [],
   "source": [
    "import numpy as np\n",
    "import random as rd"
   ]
  },
  {
   "cell_type": "markdown",
   "metadata": {},
   "source": [
    "# Define"
   ]
  },
  {
   "cell_type": "code",
   "execution_count": 174,
   "metadata": {
    "collapsed": false
   },
   "outputs": [],
   "source": [
    "class VariableMatrix():\n",
    "    def __init__(self, size, interval = [-1, 1], work_components = 1):\n",
    "        self.values=  (interval[1] - interval[0]) * np.random.rand(*size) + interval[0] \n",
    "        self.diff = np.zeros(size)\n",
    "        if work_components == 1:\n",
    "            self.work = np.ones(size, dtype = bool)\n",
    "        else:\n",
    "            self.work = np.zeros(size, dtype = bool)\n",
    "            for i in range(size[0]):\n",
    "                for j in range(size[1]):\n",
    "                    self.work[i][j] = rd.random() < work_components\n",
    "                    \n",
    "class Sigmoid():\n",
    "    def trans(self, x):\n",
    "        out_put = np.zeros([len(x)])\n",
    "        for i in range(len(x)):\n",
    "            out_put[i] = 1 / (1 + np.exp(-x[i]))\n",
    "        \n",
    "        return out_put\n",
    "    \n",
    "    def diff(self, x):\n",
    "        out_put = np.zeros([len(x), len(x)])\n",
    "        for i in range(len(x)):\n",
    "            out_put[i][i] = 1 / (1 + np.exp(x[i]) * (1 + np.exp(-x[i])))\n",
    "            \n",
    "        return out_put\n",
    "    \n",
    "class Identity():\n",
    "    def trans(self, x):\n",
    "        return x\n",
    "    \n",
    "    def diff(self, x):\n",
    "        return np.identity(len(x))\n",
    "\n",
    "class Layer():\n",
    "    def __init__(self, layers_from, nodes_n, active_function):\n",
    "        self.lf = layers_from # list :layers connected before\n",
    "        self.lt = [] # layers connected after\n",
    "        self.nodes_n = nodes_n\n",
    "        self.weights = {}\n",
    "        self.bias = VariableMatrix([nodes_n, 1])\n",
    "        self.nodes_before = np.zeros([nodes_n, 1])\n",
    "        self.nodes_after = np.zeros([nodes_n, 1])\n",
    "        self.nodes_diff = np.zeros([nodes_n, 1])\n",
    "        self.af = active_function\n",
    "    \n",
    "    def forward(self):\n",
    "        self.nodes_after = self.af.trans(self.nodes_before)\n",
    "    \n",
    "    def jacobi(self):\n",
    "        self.nodes_diff = self.af.diff(self.nodes_before)\n",
    "    \n",
    "class DogikoNN():\n",
    "    def __init__(self):\n",
    "        self.training_data = None\n",
    "        self.pp_linear = {\n",
    "            \"multi\" : None,\n",
    "            \"trans\" : None\n",
    "        } # pre-processing linear translation\n",
    "        self.flow = []\n",
    "        self.layers = {}\n",
    "    \n",
    "    def set_data(self, input_data, input_answer, input_weights = None):\n",
    "        # type input_data : numpy array\n",
    "        # type input_answer : numpy array\n",
    "        self.t_datas = input_data\n",
    "        self.t_answers = input_answer\n",
    "        self.t_weights = input_weights\n",
    "        \n",
    "    def define_normalized(self, normalized_algorithm):\n",
    "        self.normal_alg = normalized_algorithm\n",
    "    \n",
    "    def layers_clear(self):\n",
    "        del self.layers\n",
    "        self.layers = {}\n",
    "        \n",
    "    def insert_layer(self, name, layer, is_flow_add = True):\n",
    "        self.layers[name] = layer\n",
    "        if is_flow_add:\n",
    "            self.flow.append(name)\n",
    "        \n",
    "    def build(self):\n",
    "        if self.normal_alg == \"normal\":\n",
    "            temp_trans_datas = self.t_datas.T\n",
    "            temp_square_mean_array = np.zeros([len(temp_trans_datas)])\n",
    "            self.pp_linear[\"trans\"] = np.zeros([len(temp_trans_datas)])\n",
    "            for j in range(len(temp_trans_datas)):\n",
    "                feature = temp_trans_datas[j]\n",
    "                self.pp_linear[\"trans\"][j] = feature.mean()\n",
    "                temp_square_mean_array[j] = (feature**2).mean()\n",
    "            \n",
    "            temp_sd = (temp_square_mean_array - self.pp_linear[\"trans\"]**2)**0.5\n",
    "            temp_sd[temp_sd == 0] = 1\n",
    "            self.pp_linear[\"multi\"] = 1 / temp_sd\n",
    "            \n",
    "        \n",
    "        else:\n",
    "            print (\"unacceptable normalized_algorithm\")\n",
    "            return (\"unacceptable normalized_algorithm\")\n",
    "        \n",
    "        self.n_t_datas = np.zeros(self.t_datas.shape)\n",
    "        for i in range(len(self.t_datas)):\n",
    "            self.n_t_datas[i] = self.pp_linear[\"multi\"] * (self.t_datas[i] - self.pp_linear[\"trans\"])\n",
    "        \n",
    "        if len(self.flow) != len(set(self.flow)):\n",
    "            print (\"each element in .flow should be unique (layer name)\")\n",
    "            return (\"each element in .flow should be unique (layer name)\")\n",
    "        \n",
    "        for l in range(len(self.flow)):\n",
    "            ln = self.flow[l]\n",
    "            self.layers[ln].lt = []\n",
    "            for ln2 in self.layers[ln].lf:\n",
    "                if self.flow.index(ln2) > l:\n",
    "                    print (\"layer \" + ln2 + \" shoud work before layer \" + ln)\n",
    "                    return (\"layer \" + ln2 + \" shoud work before layer \" + ln)\n",
    "                    \n",
    "                self.layers[ln2].lt.append(ln)\n",
    "                self.layers[ln].weights[ln2] = VariableMatrix([self.layers[ln].nodes_n, self.layers[ln2].nodes_n])\n",
    "        \n",
    "        "
   ]
  },
  {
   "cell_type": "code",
   "execution_count": 175,
   "metadata": {
    "collapsed": false
   },
   "outputs": [],
   "source": [
    "try_NN = DogikoNN()\n",
    "\n",
    "try_data = np.random.rand(*[3, 2]) * 2 -1\n",
    "try_answer = np.random.randint(2, size = [3, 1])\n",
    "try_NN.set_data(try_data, try_answer)\n",
    "\n",
    "try_NN.define_normalized(\"normal\")\n",
    "\n",
    "try_NN.insert_layer(\n",
    "    'A',\n",
    "    Layer(\n",
    "        layers_from = [],\n",
    "        nodes_n = 2,\n",
    "        active_function = Sigmoid()\n",
    "    )\n",
    ")\n",
    "\n",
    "try_NN.insert_layer(\n",
    "    'B',\n",
    "    Layer(\n",
    "        layers_from = ['A'],\n",
    "        nodes_n = 3,\n",
    "        active_function = Sigmoid()\n",
    "    )\n",
    ")\n",
    "\n",
    "try_NN.insert_layer(\n",
    "    'C',\n",
    "    Layer(\n",
    "        layers_from = ['A'],\n",
    "        nodes_n = 4,\n",
    "        active_function = Sigmoid()\n",
    "    )\n",
    ")\n",
    "\n",
    "try_NN.insert_layer(\n",
    "    'D',\n",
    "    Layer(\n",
    "        layers_from = ['B', 'C'],\n",
    "        nodes_n = 5,\n",
    "        active_function = Sigmoid()\n",
    "    )\n",
    ")"
   ]
  },
  {
   "cell_type": "code",
   "execution_count": 179,
   "metadata": {
    "collapsed": true
   },
   "outputs": [],
   "source": [
    "try_NN.build()"
   ]
  },
  {
   "cell_type": "code",
   "execution_count": 180,
   "metadata": {
    "collapsed": false
   },
   "outputs": [
    {
     "data": {
      "text/plain": [
       "['B', 'C']"
      ]
     },
     "execution_count": 180,
     "metadata": {},
     "output_type": "execute_result"
    }
   ],
   "source": [
    "try_NN.layers['A'].lt"
   ]
  },
  {
   "cell_type": "code",
   "execution_count": null,
   "metadata": {
    "collapsed": true
   },
   "outputs": [],
   "source": []
  }
 ],
 "metadata": {
  "kernelspec": {
   "display_name": "Python 3",
   "language": "python",
   "name": "python3"
  },
  "language_info": {
   "codemirror_mode": {
    "name": "ipython",
    "version": 3
   },
   "file_extension": ".py",
   "mimetype": "text/x-python",
   "name": "python",
   "nbconvert_exporter": "python",
   "pygments_lexer": "ipython3",
   "version": "3.5.2"
  }
 },
 "nbformat": 4,
 "nbformat_minor": 2
}
