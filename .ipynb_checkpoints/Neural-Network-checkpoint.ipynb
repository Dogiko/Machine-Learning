{
 "cells": [
  {
   "cell_type": "markdown",
   "metadata": {},
   "source": [
    "# Import"
   ]
  },
  {
   "cell_type": "code",
   "execution_count": 2,
   "metadata": {
    "collapsed": true
   },
   "outputs": [],
   "source": [
    "import numpy as np"
   ]
  },
  {
   "cell_type": "markdown",
   "metadata": {},
   "source": [
    "# Define"
   ]
  },
  {
   "cell_type": "code",
   "execution_count": 71,
   "metadata": {
    "collapsed": false
   },
   "outputs": [],
   "source": [
    "def guess_square_error(input_answers, input_weights = None):\n",
    "    rowwise_mean = np.average(input_answers, axis = 0)\n",
    "    for a in range(input_answers.shape[0]):\n",
    "        input_answers[a] -= rowwise_mean\n",
    "\n",
    "    square_ans = input_answers * input_answers\n",
    "    if input_weights != None:\n",
    "        for a in range(input_answers.shape[0]):\n",
    "            square_ans[a] *= input_weights[a]\n",
    "\n",
    "    return square_ans.sum()\n",
    "\n",
    "class SingleEntryMatrix():\n",
    "    def __init__(self, size):\n",
    "        self.elements = np.zeros(size + size, dtype = bool)\n",
    "        for i in range(size[0]):\n",
    "            for j in range(size[1]):\n",
    "                self.elements[i][j][i][j] = True\n",
    "\n",
    "class SingleEntryArray():\n",
    "    def __init__(self, size):\n",
    "        self.elements = np.zeros(size + size, dtype = bool)\n",
    "        for i in range(size[0]):\n",
    "            self.elements[i][i] = True\n",
    "    \n",
    "\n",
    "class VariableArray():\n",
    "    def __init__(self, size, mean = 0, std = 1, work_components = 1, is_independent_learning = False):\n",
    "        self.size = size\n",
    "        self.values = np.random.normal(mean, std, size)\n",
    "        self.diff = np.zeros(size)\n",
    "        self.drop = np.ones(size, dtype = bool)\n",
    "        \n",
    "        if work_components == 1:\n",
    "            self.work = np.ones(size, dtype = bool)\n",
    "        else:\n",
    "            self.work = (np.random.random(size) < work_components)\n",
    "        \n",
    "        if is_independent_learning:\n",
    "            self.eta_m = np.zeros(size)\n",
    "        else:\n",
    "            self.eta_m = None\n",
    "\n",
    "    def move(self, eta = None):\n",
    "        move_values = (-1) * self.diff * self.works * self.drop\n",
    "        if eta == None:\n",
    "            self.values += self.eta_m * move_values\n",
    "        else:\n",
    "            self.values += eta * move_values\n",
    "            \n",
    "class Sigmoid():\n",
    "    def trans(self, x):\n",
    "        out_put = np.zeros([len(x)])\n",
    "        for i in range(len(x)):\n",
    "            out_put[i] = 1 / (1 + np.exp(-x[i]))\n",
    "        \n",
    "        return out_put\n",
    "    \n",
    "    def diff(self, x):\n",
    "        out_put = np.zeros([len(x), len(x)])\n",
    "        for i in range(len(x)):\n",
    "            out_put[i][i] = 1 / (1 + np.exp(x[i]) * (1 + np.exp(-x[i])))\n",
    "            \n",
    "        return out_put\n",
    "    \n",
    "class Identity():\n",
    "    def trans(self, x):\n",
    "        return x\n",
    "    \n",
    "    def diff(self, x):\n",
    "        return np.identity(len(x))\n",
    "\n",
    "class Layer():\n",
    "    def __init__(self, layers_from, nodes_n, active_function):\n",
    "        self.lf = layers_from # list :layers connected before\n",
    "        self.lt = [] # layers connected after\n",
    "        self.nodes_n = nodes_n\n",
    "        self.weights = {}\n",
    "        self.input_bias = VariableArray([self.nodes_n])\n",
    "        self.nodes_input = np.zeros([self.nodes_n])\n",
    "        self.nodes_output = np.zeros([self.nodes_n])\n",
    "        self.nodes_diff = np.zeros([self.nodes_n, self.nodes_n])\n",
    "        self.af = active_function\n",
    "            \n",
    "    def forward(self):\n",
    "        self.nodes_output = self.af.trans(self.nodes_input)\n",
    "\n",
    "    def jacobi(self):\n",
    "        self.nodes_diff = self.af.diff(self.nodes_input)\n",
    "    \n",
    "class DogikoNN():\n",
    "    def __init__(self):\n",
    "        self.pp_linear = {\n",
    "            \"multi\" : None,\n",
    "            \"trans\" : None\n",
    "        } # pre-processing linear translation\n",
    "        self.flow = []\n",
    "        self.layers = {}\n",
    "    \n",
    "    def set_training_data(self, input_datas, input_answers, input_weights = None):\n",
    "        # type input_data : numpy array\n",
    "        # type input_answer : numpy array\n",
    "        self.t_datas = input_datas\n",
    "        self.t_answers = input_answers\n",
    "        self.t_weights = input_weights\n",
    "        self.data_size = self.t_datas.shape[1:]\n",
    "        self.answer_size = self.t_answers.shape[1:]\n",
    "    \n",
    "    def set_validating_data(self, input_datas, input_answers, input_weights = None):\n",
    "        # type input_data : numpy array\n",
    "        # type input_answer : numpy array\n",
    "        if input_datas.shape[1:] != self.data_size:\n",
    "            print (\"Size of datas should be the same as training data, must set_training_data before set_validating_data!\")\n",
    "\n",
    "        if input_answers.shape[1:] != self.answer_size:\n",
    "            print (\"Size of answers should be the same as training data, must set_training_data before set_validating_data!\")\n",
    "            \n",
    "        self.v_datas = input_datas\n",
    "        self.v_answers = input_answers\n",
    "        self.v_weights = input_weights\n",
    "        \n",
    "        \n",
    "    def define_normalized(self, normalized_algorithm):\n",
    "        self.normal_alg = normalized_algorithm\n",
    "    \n",
    "    def normalized(self, input_datas):\n",
    "        out_put = np.zeros(input_datas.shape)\n",
    "        for d in range(len(input_datas)):\n",
    "            out_put[d] = self.pp_linear[\"multi\"] * (self.t_datas[d] - self.pp_linear[\"trans\"])\n",
    "        \n",
    "        return out_put\n",
    "    \n",
    "    def layers_clear(self):\n",
    "        self.layers = {}\n",
    "        \n",
    "    def insert_layer(self, name, layer, is_flow_add = True):\n",
    "        self.layers[name] = layer\n",
    "        if is_flow_add:\n",
    "            self.flow.append(name)\n",
    "        \n",
    "    def build(self):\n",
    "        if self.normal_alg == \"normal\":\n",
    "            temp_trans_datas = self.t_datas.T\n",
    "            self.single_data_size = len(temp_trans_datas)\n",
    "            temp_square_mean_array = np.zeros([self.single_data_size])\n",
    "            temp_sd = np.zeros([self.single_data_size])\n",
    "            self.pp_linear[\"trans\"] = np.zeros([self.single_data_size])\n",
    "            for j in range(self.single_data_size):\n",
    "                feature = temp_trans_datas[j]\n",
    "                self.pp_linear[\"trans\"][j] = feature.mean()\n",
    "                temp_sd[j] = feature.std()\n",
    "            \n",
    "            temp_sd[temp_sd == 0] = 1\n",
    "            self.pp_linear[\"multi\"] = 1 / temp_sd\n",
    "            \n",
    "        else:\n",
    "            print (\"unacceptable normalized_algorithm\")\n",
    "            return (\"unacceptable normalized_algorithm\")\n",
    "        \n",
    "        self.n_t_datas = self.normalized(self.t_datas)\n",
    "        self.n_v_datas = self.normalized(self.v_datas)\n",
    "        \n",
    "        if len(self.flow) != len(set(self.flow)):\n",
    "            print (\"each element in .flow should be unique (layer name)\")\n",
    "            return (\"each element in .flow should be unique (layer name)\")\n",
    "        \n",
    "        self.single_entry_arrays = {}        \n",
    "        for l in range(len(self.flow)):\n",
    "            ln = self.flow[l]\n",
    "            single_entry_arrays[self.layers[ln].bias.size] \n",
    "            self.layers[ln].lt = []\n",
    "            for ln2 in self.layers[ln].lf:\n",
    "                if ln2 == \"input_source\":\n",
    "                    self.layers[ln].weights[ln2] = VariableArray([self.layers[ln].nodes_n, self.single_data_size])\n",
    "                elif ln2 not in self.layers:\n",
    "                    print (\"layer \" + ln2 + \" doesn't exist!\")\n",
    "                else:\n",
    "                    if self.flow.index(ln2) > l:\n",
    "                        print (\"layer \" + ln2 + \" shoud work before layer \" + ln)\n",
    "                        return (\"layer \" + ln2 + \" shoud work before layer \" + ln)\n",
    "                    \n",
    "                    self.layers[ln2].lt.append(ln)\n",
    "                    self.layers[ln].weights[ln2] = VariableArray([self.layers[ln].nodes_n, self.layers[ln2].nodes_n])\n",
    "                    \n",
    "        \n",
    "    def forward_propagation(self, input_array):\n",
    "        for l in range(len(self.flow)):\n",
    "            ln = self.flow[l]\n",
    "            self.layers[ln].nodes_input *= 0.\n",
    "            for ln2 in self.layers[ln].lf:\n",
    "                if ln2 == \"input_source\":\n",
    "                    self.layers[ln].nodes_input += self.layers[ln].weights[ln2].values.dot(input_array)\n",
    "                else:\n",
    "                    self.layers[ln].nodes_input += self.layers[ln].weights[ln2].values.dot(self.layers[ln2].nodes_output)\n",
    "                    \n",
    "            self.layers[ln].nodes_input += self.layers[ln].input_bias.values\n",
    "            self.layers[ln].forward()\n",
    "            self.layers[ln].jacobi()\n",
    "            \n",
    "        return self.layers[self.flow[-1]].nodes_output\n",
    "    \n",
    "    def prediction(self, input_data):\n",
    "        out_put = np.zeros(input_data.shape[:1] + self.answer_size)\n",
    "        for d in range(input_data.shape[0]):\n",
    "            out_put[d] = self.forward_propagation(input_data[d])\n",
    "        \n",
    "        return out_put\n",
    "    \n",
    "    def backward_propagation(self):\n",
    "        for l in range(len(self.flow) - 1, -1, -1):\n",
    "            ln = self.flow[l]\n",
    "    \n",
    "    \n",
    "    "
   ]
  },
  {
   "cell_type": "code",
   "execution_count": 62,
   "metadata": {
    "collapsed": false
   },
   "outputs": [],
   "source": [
    "try_NN = DogikoNN()\n",
    "\n",
    "try_data = np.random.rand(*[3, 2]) * 2 - 1\n",
    "try_answer = np.random.randint(2, size = [3, 2])\n",
    "try_NN.set_training_data(try_data, try_answer)\n",
    "try_NN.set_validating_data(try_data, try_answer)\n",
    "\n",
    "try_NN.define_normalized(\"normal\")\n",
    "\n",
    "try_NN.insert_layer(\n",
    "    'A',\n",
    "    Layer(\n",
    "        layers_from = [\"input_source\"],\n",
    "        nodes_n = 2,\n",
    "        active_function = Sigmoid()\n",
    "    )\n",
    ")\n",
    "\n",
    "try_NN.insert_layer(\n",
    "    'B',\n",
    "    Layer(\n",
    "        layers_from = ['A'],\n",
    "        nodes_n = 3,\n",
    "        active_function = Sigmoid()\n",
    "    )\n",
    ")\n",
    "\n",
    "try_NN.insert_layer(\n",
    "    'C',\n",
    "    Layer(\n",
    "        layers_from = ['A'],\n",
    "        nodes_n = 4,\n",
    "        active_function = Sigmoid()\n",
    "    )\n",
    ")\n",
    "\n",
    "try_NN.insert_layer(\n",
    "    'D',\n",
    "    Layer(\n",
    "        layers_from = ['B', 'C'],\n",
    "        nodes_n = 2,\n",
    "        active_function = Sigmoid()\n",
    "    )\n",
    ")"
   ]
  },
  {
   "cell_type": "code",
   "execution_count": 63,
   "metadata": {
    "collapsed": false
   },
   "outputs": [],
   "source": [
    "try_NN.build()"
   ]
  },
  {
   "cell_type": "code",
   "execution_count": 4,
   "metadata": {
    "collapsed": false
   },
   "outputs": [
    {
     "data": {
      "text/plain": [
       "array([4, 3, 2, 1, 0])"
      ]
     },
     "execution_count": 4,
     "metadata": {},
     "output_type": "execute_result"
    }
   ],
   "source": [
    "np.array(range(4,-1,-1))"
   ]
  },
  {
   "cell_type": "code",
   "execution_count": 3,
   "metadata": {
    "collapsed": false
   },
   "outputs": [],
   "source": [
    "aaa = np.zeros([2,1])"
   ]
  },
  {
   "cell_type": "code",
   "execution_count": 4,
   "metadata": {
    "collapsed": false
   },
   "outputs": [
    {
     "data": {
      "text/plain": [
       "(2, 1, 2, 1)"
      ]
     },
     "execution_count": 4,
     "metadata": {},
     "output_type": "execute_result"
    }
   ],
   "source": [
    "aaa.shape + aaa.shape"
   ]
  },
  {
   "cell_type": "code",
   "execution_count": null,
   "metadata": {
    "collapsed": true
   },
   "outputs": [],
   "source": []
  }
 ],
 "metadata": {
  "kernelspec": {
   "display_name": "Python 3",
   "language": "python",
   "name": "python3"
  },
  "language_info": {
   "codemirror_mode": {
    "name": "ipython",
    "version": 3
   },
   "file_extension": ".py",
   "mimetype": "text/x-python",
   "name": "python",
   "nbconvert_exporter": "python",
   "pygments_lexer": "ipython3",
   "version": "3.5.2"
  }
 },
 "nbformat": 4,
 "nbformat_minor": 2
}
