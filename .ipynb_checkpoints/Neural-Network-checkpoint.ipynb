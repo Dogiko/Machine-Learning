{
 "cells": [
  {
   "cell_type": "markdown",
   "metadata": {},
   "source": [
    "# Import"
   ]
  },
  {
   "cell_type": "code",
   "execution_count": 1,
   "metadata": {
    "collapsed": true
   },
   "outputs": [],
   "source": [
    "import numpy as np\n",
    "import matplotlib.pyplot as plt"
   ]
  },
  {
   "cell_type": "markdown",
   "metadata": {},
   "source": [
    "# Define"
   ]
  },
  {
   "cell_type": "code",
   "execution_count": null,
   "metadata": {
    "collapsed": true
   },
   "outputs": [],
   "source": [
    "class VariableArray():\n",
    "    def __init__(self, size):\n",
    "        self.values = np.random.normal(0., 1., size)\n",
    "        self.diff = np.zeros(self.values.size)\n",
    "        self.work = np.ones(self.values.size) # working components, defult to be fully connected\n",
    "    \n",
    "    def assign_values(self, values):\n",
    "        self.values = values\n",
    "        self.diff = np.zeros(self.values.size)\n",
    "        self.work = np.ones(self.values.size) \n",
    "    \n",
    "    def descent(self, step = 1.):\n",
    "        self.values -= step * self.diff * self.work\n",
    "    \n",
    "    def zerodiff(self):\n",
    "        self.diff *= 0.\n",
    "\n",
    "class Identity():\n",
    "    def trans(self, x):\n",
    "        return x\n",
    "    \n",
    "    def diff(self, x):\n",
    "        return np.ones(x.shape)\n",
    "        \n",
    "class Sigmoid():    \n",
    "    def trans(self, x):\n",
    "        return 1. / (1. + np.exp(-x))\n",
    "    \n",
    "    def diff(self, x): \n",
    "        return 1. / (np.exp(x) + np.exp(-x) + 2.)\n",
    "\n",
    "class Hypertan():\n",
    "    def trans(self, x):\n",
    "        return np.tanh(x)\n",
    "    \n",
    "    def diff(self, x):\n",
    "        return 1. / (np.cosh(x)**2)\n",
    "    \n",
    "class Relu():\n",
    "    def trans(self, x):\n",
    "        return x*(x>0)\n",
    "    \n",
    "    def diff(self, x):\n",
    "        return (x>0)\n",
    "\n",
    "class LeakyRelu():\n",
    "    def __init__(self, alpha = 0.):\n",
    "        self.alpha = alpha\n",
    "    \n",
    "    def trans(self, x):\n",
    "        return x*(x>0) + self.alpha*x*(x<0)\n",
    "    \n",
    "    def diff(self, x):\n",
    "        return (x>0) + self.alpha*(x<0)\n",
    "\n",
    "class SoftPlus():\n",
    "    def trans(self, x):\n",
    "        return np.log(1.+np.exp(x))\n",
    "    \n",
    "    def diff(self, x):\n",
    "        return 1. / (1. + np.exp(-x))\n",
    "    "
   ]
  },
  {
   "cell_type": "code",
   "execution_count": 2,
   "metadata": {
    "collapsed": true
   },
   "outputs": [],
   "source": [
    "def guess_square_error(input_answers, input_weights = None):\n",
    "    answers = np.array(input_answers, dtype = \"float64\") # formate float64\n",
    "    rowwise_mean = np.average(answers, axis = 0)\n",
    "    answers -= rowwise_mean\n",
    "    square_ans = answers * answers\n",
    "    if input_weights != None:\n",
    "        for w in range(len(input_weights)):\n",
    "            square_ans[w] *= input_weights[w]\n",
    "    \n",
    "    return square_ans.sum()\n",
    "\n",
    "class SingleEntryMatrix():\n",
    "    def __init__(self, size):\n",
    "        self.elements = np.zeros(size + size, dtype = bool)\n",
    "        for i in range(size[0]):\n",
    "            for j in range(size[1]):\n",
    "                self.elements[i][j][i][j] = True\n",
    "\n",
    "class VariableArray():\n",
    "    def __init__(self, size, mean = 0., std = 1., work_components = 1., is_independent_learning = False):\n",
    "        self.size = size\n",
    "        self.values = np.random.normal(mean, std, size)\n",
    "        self.diff = np.zeros(size)\n",
    "        self.drop = np.ones(size, dtype = bool)\n",
    "        if work_components == 1:\n",
    "            self.work = np.ones(size, dtype = bool)\n",
    "        else:\n",
    "            self.work = (np.random.random(size) < work_components)\n",
    "        \n",
    "        self.values *= self.work\n",
    "        \n",
    "        if is_independent_learning:\n",
    "            self.eta_m = np.zeros(size)\n",
    "        else:\n",
    "            self.eta_m = None\n",
    "    \n",
    "    def move(self, eta = None):\n",
    "        if eta == None:\n",
    "            self.values -= self.eta_m * self.diff * self.work\n",
    "        else:\n",
    "            self.values -= eta * self.diff * self.work\n",
    "    \n",
    "    def zerodiff(self):\n",
    "        self.diff *= 0.\n",
    "    \n",
    "    def set_drop(self, rate):\n",
    "        self.drop = (np.random.random(size) < rate)\n",
    "\n",
    "class Sigmoid():\n",
    "    def set_dim(self, domain_dim):\n",
    "        self.dd = domain_dim # domain dimension\n",
    "        self.cd = domain_dim # codomain dimension\n",
    "    \n",
    "    def trans(self, x):\n",
    "        return 1. / (1. + np.exp(-x))\n",
    "    \n",
    "    def diff(self, x): \n",
    "        return np.diag(1. / (np.exp(x) + np.exp(-x) + 2.))\n",
    "\n",
    "class Identity():\n",
    "    def set_dim(self, domain_dim):\n",
    "        self.dd = domain_dim # domain dimension\n",
    "        self.cd = domain_dim # codomain dimension\n",
    "    \n",
    "    def trans(self, x):\n",
    "        return x\n",
    "    \n",
    "    def diff(self, x):\n",
    "        return np.identity(self.dd)\n",
    "\n",
    "class Hypertan():\n",
    "    def set_dim(self, domain_dim):\n",
    "        self.dd = domain_dim # domain dimension\n",
    "        self.cd = domain_dim # codomain dimension\n",
    "    \n",
    "    def trans(self, x):\n",
    "        return np.tanh(x)\n",
    "    \n",
    "    def diff(self, x):\n",
    "        return np.diag(1. / (np.cosh(x)**2))\n",
    "\n",
    "class Layer():\n",
    "    def __init__(self, layers_from, nodes_n, active_function):\n",
    "        self.lf = layers_from # list :layers connected before\n",
    "        self.lt = [] # layers connected to\n",
    "        self.in_d = nodes_n\n",
    "        self.weights = {}\n",
    "        self.bias = VariableArray([self.in_d])\n",
    "        self.backwards = {}\n",
    "        self.af = active_function\n",
    "        self.af.set_dim(self.in_d)\n",
    "        self.out_d = self.af.cd\n",
    "        self.nodes_input = np.zeros([self.in_d])\n",
    "        self.output = np.zeros([self.out_d])\n",
    "        self.af_diff = np.zeros([self.out_d, self.in_d])\n",
    "    \n",
    "    def forward(self):\n",
    "        self.output = self.af.trans(self.nodes_input)\n",
    "    \n",
    "    def jacobi(self):\n",
    "        self.af_diff = self.af.diff(self.nodes_input)\n",
    "\n",
    "class DogikoNN():\n",
    "    def __init__(self):\n",
    "        self.pp_linear = {\n",
    "            \"multi\" : None,\n",
    "            \"trans\" : None\n",
    "        } # pre-processing linear translation\n",
    "        self.flow = []\n",
    "        self.layers = {}\n",
    "        self.normal_alg = None\n",
    "    \n",
    "    def set_training_data(self, input_datas, input_answers, input_weights = None):\n",
    "        # type input_data : numpy array\n",
    "        # type input_answer : numpy array\n",
    "        self.t_datas = input_datas\n",
    "        self.t_answers = input_answers\n",
    "        self.t_weights = input_weights\n",
    "        self.single_data_size = self.t_datas.shape[1:]\n",
    "        self.answer_size = self.t_answers.shape[1:]\n",
    "        if self.t_weights == None:\n",
    "            self.t_square_error = guess_square_error(self.t_answers)\n",
    "        else:\n",
    "            self.t_square_error = guess_square_error(self.t_answers, self.t_weights)\n",
    "        \n",
    "        if self.t_square_error == 0:\n",
    "            self.t_square_error = 1\n",
    "            print (\"all training data has same result, can't normalize error\")\n",
    "    \n",
    "    def set_validating_data(self, input_datas, input_answers, input_weights = None):\n",
    "        # type input_data : numpy array\n",
    "        # type input_answer : numpy array\n",
    "        if input_datas.shape[1:] != self.single_data_size:\n",
    "            print (\"Size of datas should be the same as training data, must set_training_data before set_validating_data!\")\n",
    "        \n",
    "        if input_answers.shape[1:] != self.answer_size:\n",
    "            print (\"Size of answers should be the same as training data, must set_training_data before set_validating_data!\")\n",
    "        \n",
    "        self.v_datas = input_datas\n",
    "        self.v_answers = input_answers\n",
    "        self.v_weights = input_weights\n",
    "        if self.v_weights == None:\n",
    "            self.v_square_error = guess_square_error(self.v_answers)\n",
    "        else:\n",
    "            self.v_square_error = guess_square_error(self.v_answers, self.v_weights)\n",
    "        \n",
    "        if self.v_square_error == 0:\n",
    "            self.v_square_error = 1\n",
    "            print (\"all validating data has same result, can't normalize error\")\n",
    "    \n",
    "    def define_normalization(self, normalized_algorithm):\n",
    "        self.normal_alg = normalized_algorithm\n",
    "    \n",
    "    def normalized(self, input_datas):\n",
    "        return (input_datas - self.pp_linear[\"trans\"]) * self.pp_linear[\"multi\"]\n",
    "    \n",
    "    def layers_clear(self):\n",
    "        self.layers = {}\n",
    "        \n",
    "    def insert_layer(self, name, layer, is_flow_add = True):\n",
    "        self.layers[name] = layer\n",
    "        if is_flow_add:\n",
    "            self.flow.append(name)\n",
    "        \n",
    "    def build(self):\n",
    "        if self.normal_alg == \"normal\":            \n",
    "            self.pp_linear[\"trans\"] = np.average(self.t_datas, axis=0)\n",
    "            \n",
    "            temp_std = np.std(self.t_datas, axis=0)\n",
    "            temp_std[temp_std == 0] = 1\n",
    "            self.pp_linear[\"multi\"] = 1 / temp_std\n",
    "        elif self.normal_alg == None:\n",
    "            self.pp_linear[\"trans\"] = 0.\n",
    "            self.pp_linear[\"multi\"] = 1.\n",
    "        else:\n",
    "            print (\"unacceptable normalized_algorithm\")\n",
    "            return (\"unacceptable normalized_algorithm\")\n",
    "        \n",
    "        if len(self.flow) != len(set(self.flow)):\n",
    "            print (\"each element in .flow should be unique (layer name)\")\n",
    "            return (\"each element in .flow should be unique (layer name)\")\n",
    "        \n",
    "        self.single_entry_matrix = {}\n",
    "        for l in range(len(self.flow)):\n",
    "            ln = self.flow[l]\n",
    "            self.layers[ln].lt = []\n",
    "            for lnf in self.layers[ln].lf:\n",
    "                if lnf == \"input source\":\n",
    "                    self.layers[ln].weights[lnf] = VariableArray((self.layers[ln].in_d, ) + self.single_data_size)\n",
    "                    self.layers[ln].backwards[lnf] = np.zeros(self.single_data_size)\n",
    "                elif lnf not in self.layers:\n",
    "                    print (\"layer \" + lnf + \" doesn't exist!\")\n",
    "                else:\n",
    "                    if self.flow.index(lnf) > l:\n",
    "                        print (\"layer \" + lnf + \" shoud work before layer \" + ln)\n",
    "                        return (\"layer \" + lnf + \" shoud work before layer \" + ln)\n",
    "                    \n",
    "                    self.layers[lnf].lt.append(ln)\n",
    "                    self.layers[ln].weights[lnf] = VariableArray((self.layers[ln].in_d, self.layers[lnf].out_d,))\n",
    "                    self.layers[ln].backwards[lnf] = np.zeros((self.layers[lnf].out_d))\n",
    "                \n",
    "                self.single_entry_matrix[self.layers[ln].weights[lnf].size] = SingleEntryMatrix(self.layers[ln].weights[lnf].size)\n",
    "        \n",
    "        self.layers[self.flow[-1]].lt.append(\"output result\")\n",
    "        \n",
    "        if self.layers[self.flow[-1]].out_d != self.answer_size[0]:\n",
    "            print (\"out put size of final layer should be the same with answer size\")\n",
    "            return (\"out put size of final layer should be the same with answer size\")\n",
    "    \n",
    "    def t_cost_greadient(self, predict, answer):\n",
    "        return (predict - answer) / self.t_square_error\n",
    "    \n",
    "    def forward_propagation(self, input_array):\n",
    "        for l in range(len(self.flow)):\n",
    "            ln = self.flow[l]\n",
    "            self.layers[ln].nodes_input *= 0.\n",
    "            for lnf in self.layers[ln].lf:\n",
    "                if lnf == \"input source\":\n",
    "                    self.layers[ln].nodes_input += self.layers[ln].weights[lnf].values.dot(input_array)\n",
    "                else:\n",
    "                    self.layers[ln].nodes_input += self.layers[ln].weights[lnf].values.dot(self.layers[lnf].output)\n",
    "            \n",
    "            self.layers[ln].nodes_input += self.layers[ln].bias.values\n",
    "            self.layers[ln].forward()\n",
    "            self.layers[ln].jacobi()\n",
    "            \n",
    "        return self.layers[self.flow[-1]].output\n",
    "    \n",
    "    def prediction(self, input_data):\n",
    "        temp_data = self.normalized(input_data)\n",
    "        output = np.zeros(input_data.shape[:1] + self.answer_size)\n",
    "        for d in range(input_data.shape[0]):\n",
    "            output[d] = self.forward_propagation(temp_data[d])\n",
    "        \n",
    "        return output\n",
    "    \n",
    "    def backward_propagation(self, data, answer, predict, cost_gradient, weight = None):     \n",
    "        if weight == None:\n",
    "            weight = 1.\n",
    "        \n",
    "        for l in range(len(self.flow) - 1, -1, -1):\n",
    "            ln = self.flow[l]\n",
    "            temp_array = np.zeros((self.layers[ln].out_d))\n",
    "            for lnt in self.layers[ln].lt:\n",
    "                if lnt == \"output result\":\n",
    "                    temp_array += cost_gradient(predict, answer)\n",
    "                else:\n",
    "                    temp_array += self.layers[lnt].backwards[ln]\n",
    "            \n",
    "            temp_array = temp_array.dot(self.layers[ln].af_diff)\n",
    "            self.layers[ln].bias.diff += weight * temp_array\n",
    "            for lnf in self.layers[ln].lf:\n",
    "                for i in range(self.layers[ln].weights[lnf].size[0]):\n",
    "                    for j in range(self.layers[ln].weights[lnf].size[1]):\n",
    "                        if self.layers[ln].weights[lnf].work[i][j] and self.layers[ln].weights[lnf].drop[i][j]:\n",
    "                            if lnf == \"input source\":\n",
    "                                self.layers[ln].weights[lnf].diff[i][j] += weight * temp_array.dot(\n",
    "                                    self.single_entry_matrix[self.layers[ln].weights[lnf].size].elements[i][j].dot(data)\n",
    "                                )\n",
    "                            else:\n",
    "                                self.layers[ln].weights[lnf].diff[i][j] += weight * temp_array.dot(\n",
    "                                    self.single_entry_matrix[self.layers[ln].weights[lnf].size].elements[i][j].dot(self.layers[lnf].output)\n",
    "                                )\n",
    "                \n",
    "                self.layers[ln].backwards[lnf] = temp_array.dot(self.layers[ln].weights[lnf].values)\n",
    "    \n",
    "    def var_zerodiff(self):\n",
    "        for l in range(len(self.flow)):\n",
    "            ln = self.flow[l]\n",
    "            self.layers[ln].bias.zerodiff()\n",
    "            for lnf in self.layers[ln].lf:\n",
    "                self.layers[ln].weights[lnf].zerodiff()\n",
    "    \n",
    "    def var_move(self, eta):\n",
    "        for l in range(len(self.flow)):\n",
    "            ln = self.flow[l]\n",
    "            self.layers[ln].bias.move(eta)\n",
    "            for lnf in self.layers[ln].lf:\n",
    "                self.layers[ln].weights[lnf].move(eta)\n",
    "    \n",
    "    def var_set_drop(self, rate):\n",
    "        for l in range(len(self.flow)):\n",
    "            ln = self.flow[l]\n",
    "            self.layers[ln].bias.set_drop(rate)\n",
    "            for lnf in self.layers[ln].lf:\n",
    "                self.layers[ln].weights[lnf].set_drop(rate)\n",
    "    \n",
    "    def single_batch(self, batch_datas, batch_answers, batch_weights = None, eta = None, g_change = None):\n",
    "        self.var_zerodiff()\n",
    "        batch_prediction = self.prediction(batch_datas)\n",
    "        if batch_weights == None:\n",
    "            for d in range(len(batch_datas)):\n",
    "                self.backward_propagation(batch_datas[d], batch_answers[d], batch_prediction[d], self.t_cost_greadient, weight = None)\n",
    "        else:\n",
    "            for d in range(len(batch_datas)):\n",
    "                self.backward_propagation(batch_datas[d], batch_answers[d], batch_prediction[d], self.t_cost_greadient, weight = batch_weights[d])\n",
    "        \n",
    "        self.var_move(eta)\n",
    "    \n",
    "    def single_epoch(self, batch_size, batchs_n = None, eta = None,  g_change = None, shuffle = False):\n",
    "        batchs_allowed = int(len(self.t_datas) / batch_size)\n",
    "        if batchs_allowed == 0:\n",
    "            print(\"batch size should smaller than testing data amount\")\n",
    "            return \"batch size should smaller than testing data amount\"\n",
    "        \n",
    "        if batchs_n == None:\n",
    "            batchs_n = batchs_allowed\n",
    "        \n",
    "        if shuffle:\n",
    "            pass\n",
    "        else:\n",
    "            for b in range(min(batchs_allowed, batchs_n)):\n",
    "                batch_datas = self.t_datas[b * batch_size:(b+1) * batch_size]\n",
    "                batch_answers = self.t_answers[b * batch_size:(b+1) * batch_size]\n",
    "                if self.t_weights != None:\n",
    "                    batch_weights = self.t_weights[b * batch_size:(b+1) * batch_size]\n",
    "                else:\n",
    "                    batch_weights = None\n",
    "                \n",
    "                self.single_batch(batch_datas, batch_answers, batch_weights, eta = eta, g_change = g_change)\n",
    "    \n",
    "    def validating_error(self):\n",
    "        temp_prediction = self.prediction(self.v_datas)\n",
    "        temp_diff = temp_prediction - self.v_answers\n",
    "        temp_sqr = temp_diff*temp_diff\n",
    "        if self.v_weights != None:\n",
    "            for d in range(temp_sqr.shape[0]):\n",
    "                temp_sqr[d] *= self.v_weights[d]\n",
    "        \n",
    "        output = temp_sqr.sum()/self.v_square_error\n",
    "        return output"
   ]
  },
  {
   "cell_type": "markdown",
   "metadata": {},
   "source": [
    "# Test"
   ]
  },
  {
   "cell_type": "code",
   "execution_count": 18,
   "metadata": {
    "collapsed": true
   },
   "outputs": [],
   "source": [
    "test_NN =DogikoNN()\n",
    "feature = np.array([[0.],[2.]])\n",
    "result = np.array([[2.],[0.]])\n",
    "\n",
    "test_NN.set_training_data(feature, result)\n",
    "test_NN.set_validating_data(feature, result)\n",
    "\n",
    "test_NN.define_normalization(\"normal\")\n",
    "test_NN.insert_layer(\n",
    "    \"A\",\n",
    "    Layer(\n",
    "        layers_from=[\"input source\"],\n",
    "        nodes_n=1,\n",
    "        active_function=Identity()\n",
    "    )\n",
    ")\n",
    "\n",
    "test_NN.build()"
   ]
  },
  {
   "cell_type": "code",
   "execution_count": 33,
   "metadata": {
    "collapsed": true
   },
   "outputs": [],
   "source": [
    "test_NN.single_epoch(2, eta = 1)"
   ]
  },
  {
   "cell_type": "code",
   "execution_count": 38,
   "metadata": {},
   "outputs": [
    {
     "data": {
      "text/plain": [
       "array([[-1.]])"
      ]
     },
     "execution_count": 38,
     "metadata": {},
     "output_type": "execute_result"
    }
   ],
   "source": [
    "test_NN.layers[\"A\"].weights[\"input source\"].values"
   ]
  },
  {
   "cell_type": "code",
   "execution_count": 37,
   "metadata": {},
   "outputs": [
    {
     "data": {
      "text/plain": [
       "array([ 1.])"
      ]
     },
     "execution_count": 37,
     "metadata": {},
     "output_type": "execute_result"
    }
   ],
   "source": [
    "test_NN.layers[\"A\"].bias.values"
   ]
  },
  {
   "cell_type": "code",
   "execution_count": 36,
   "metadata": {},
   "outputs": [
    {
     "data": {
      "text/plain": [
       "array([[ 2.],\n",
       "       [ 0.]])"
      ]
     },
     "execution_count": 36,
     "metadata": {},
     "output_type": "execute_result"
    }
   ],
   "source": [
    "test_NN.prediction(feature)"
   ]
  },
  {
   "cell_type": "code",
   "execution_count": 35,
   "metadata": {},
   "outputs": [
    {
     "data": {
      "text/plain": [
       "0.0"
      ]
     },
     "execution_count": 35,
     "metadata": {},
     "output_type": "execute_result"
    }
   ],
   "source": [
    "test_NN.validating_error()"
   ]
  },
  {
   "cell_type": "markdown",
   "metadata": {},
   "source": [
    "# example\n",
    "\n",
    "Linear function from $R^1$ to $R^1$ . \n",
    "\n",
    "Training accuracy should be very high with linear model."
   ]
  },
  {
   "cell_type": "code",
   "execution_count": 39,
   "metadata": {
    "collapsed": true
   },
   "outputs": [],
   "source": [
    "ex_1_model = DogikoNN()\n",
    "\n",
    "ex_data = np.random.normal(0, 1, (1000,1))\n",
    "ex_answer = ex_data * (-2.) + 3\n",
    "\n",
    "ex_1_model.set_training_data(ex_data[:500], ex_answer[:500])\n",
    "ex_1_model.set_validating_data(ex_data[500:], ex_answer[500:])\n",
    "\n",
    "ex_1_model.define_normalization(\"normal\")\n",
    "ex_1_model.insert_layer(\n",
    "    \"A\",\n",
    "    Layer(\n",
    "        layers_from=[\"input source\"],\n",
    "        nodes_n=1,\n",
    "        active_function=Identity()\n",
    "    )\n",
    ")\n",
    "\n",
    "ex_1_model.build()"
   ]
  },
  {
   "cell_type": "code",
   "execution_count": 40,
   "metadata": {
    "scrolled": true
   },
   "outputs": [
    {
     "data": {
      "text/plain": [
       "1.448957995156936e-09"
      ]
     },
     "execution_count": 40,
     "metadata": {},
     "output_type": "execute_result"
    }
   ],
   "source": [
    "for i in range(100):\n",
    "    ex_1_model.single_epoch(500, eta = 0.4)\n",
    "ex_1_model.validating_error()"
   ]
  },
  {
   "cell_type": "code",
   "execution_count": 41,
   "metadata": {},
   "outputs": [
    {
     "name": "stdout",
     "output_type": "stream",
     "text": [
      "weight :  [[-2.08347739]]\n",
      "bias   :  [ 2.94275202]\n"
     ]
    }
   ],
   "source": [
    "print (\"weight : \", ex_1_model.layers[\"A\"].weights[\"input source\"].values)\n",
    "print (\"bias   : \", ex_1_model.layers[\"A\"].bias.values)"
   ]
  },
  {
   "cell_type": "markdown",
   "metadata": {},
   "source": [
    "# example 2\n",
    "Use 1 layer linear model predict sin-wave superposition with some noise"
   ]
  },
  {
   "cell_type": "code",
   "execution_count": 42,
   "metadata": {
    "collapsed": true,
    "scrolled": true
   },
   "outputs": [],
   "source": [
    "ex_2_model = DogikoNN()\n",
    "\n",
    "pre_d = np.sin(np.pi*np.arange(400)/40) + np.sin(np.pi*np.arange(400)/51) + np.sin(np.pi*np.arange(400)/25)\n",
    "\n",
    "pre_d += (0.2 * np.random.rand(400) - 0.1)\n",
    "\n",
    "t_data = np.zeros([300, 4])\n",
    "t_answer = np.zeros([300, 1])\n",
    "v_data = np.zeros([96, 4])\n",
    "v_answer = np.zeros([96, 1])\n",
    "for i in range(300):\n",
    "    t_data[i] = pre_d[i:i+4]\n",
    "    t_answer[i] = pre_d[i+4:i+5]\n",
    "\n",
    "for i in range(96):\n",
    "    v_data[i] = pre_d[i+300:i+304]\n",
    "    v_answer[i] = pre_d[i+304:i+305]\n",
    "\n",
    "ex_2_model.set_training_data(t_data, t_answer)\n",
    "ex_2_model.set_validating_data(v_data, v_answer)\n",
    "\n",
    "ex_2_model.define_normalization(\"normal\")\n",
    "\n",
    "ex_2_model.insert_layer(\n",
    "    'A',\n",
    "    Layer(\n",
    "        layers_from = [\"input source\"],\n",
    "        nodes_n = 1,\n",
    "        active_function = Identity()\n",
    "    )\n",
    ")\n",
    "\n",
    "ex_2_model.build()\n"
   ]
  },
  {
   "cell_type": "markdown",
   "metadata": {},
   "source": [
    "3 Orthogonal sin-wave superposition\n",
    "\n",
    "$\\frac{1}{l}\\int_0^l |f|^2dx = \\frac{1}{l}\\int_0^l (|\\sin(ax)|^2 + |\\sin(bx)|^2 + |\\sin(cx)|^2dx ) \\rightarrow \\frac{3}{2}$ , when $l$ large\n",
    "\n",
    "and $\\sqrt{\\frac{2}{3}} \\sim 0.81$"
   ]
  },
  {
   "cell_type": "code",
   "execution_count": 43,
   "metadata": {},
   "outputs": [
    {
     "data": {
      "text/plain": [
       "array([ 0.82675925,  0.82504327,  0.82384345,  0.82319444])"
      ]
     },
     "execution_count": 43,
     "metadata": {},
     "output_type": "execute_result"
    }
   ],
   "source": [
    "ex_2_model.pp_linear[\"multi\"]"
   ]
  },
  {
   "cell_type": "code",
   "execution_count": 44,
   "metadata": {},
   "outputs": [
    {
     "data": {
      "text/plain": [
       "0.0092082854836181387"
      ]
     },
     "execution_count": 44,
     "metadata": {},
     "output_type": "execute_result"
    }
   ],
   "source": [
    "for i in range(100):\n",
    "    ex_2_model.single_epoch(100, eta = 0.5)\n",
    "ex_2_model.validating_error()"
   ]
  },
  {
   "cell_type": "code",
   "execution_count": 219,
   "metadata": {
    "scrolled": true
   },
   "outputs": [
    {
     "data": {
      "text/plain": [
       "array([[-0.16719761, -0.29445483,  0.38261232,  1.26861073]])"
      ]
     },
     "execution_count": 219,
     "metadata": {},
     "output_type": "execute_result"
    }
   ],
   "source": [
    "ex_2_model.layers[\"A\"].weights[\"input source\"].values"
   ]
  },
  {
   "cell_type": "code",
   "execution_count": 45,
   "metadata": {},
   "outputs": [
    {
     "data": {
      "text/plain": [
       "array([ 0.02575342])"
      ]
     },
     "execution_count": 45,
     "metadata": {},
     "output_type": "execute_result"
    }
   ],
   "source": [
    "ex_2_model.layers[\"A\"].bias.values"
   ]
  },
  {
   "cell_type": "code",
   "execution_count": 46,
   "metadata": {},
   "outputs": [
    {
     "data": {
      "image/png": "[encoded data removed]",
      "text/plain": [
       "<matplotlib.figure.Figure at 0x105ffa668>"
      ]
     },
     "metadata": {},
     "output_type": "display_data"
    }
   ],
   "source": [
    "predict_data = np.zeros([396,4])\n",
    "for i in range(396):\n",
    "    predict_data[i] = pre_d[i:i + 4]\n",
    "\n",
    "ans = ex_2_model.prediction(predict_data)\n",
    "plt.plot(ans.reshape(396), \"-r\", pre_d[4:], \"-b\")\n",
    "plt.show()"
   ]
  },
  {
   "cell_type": "markdown",
   "metadata": {
    "collapsed": true
   },
   "source": [
    "# example 3\n",
    "## weight test\n",
    "\n",
    "random 0, 1 answer on $[-2, 2]$\n",
    "\n",
    "set weight = 0 on $[-2, 2]$\n",
    "\n",
    "compare weighted and non-weighted model"
   ]
  },
  {
   "cell_type": "code",
   "execution_count": 52,
   "metadata": {},
   "outputs": [
    {
     "data": {
      "image/png": "[encoded data removed]",
      "text/plain": [
       "<matplotlib.figure.Figure at 0x10586c160>"
      ]
     },
     "metadata": {},
     "output_type": "display_data"
    }
   ],
   "source": [
    "data = ((np.arange(800) - 400)/100).reshape(800,1)\n",
    "answer = np.zeros((800,1)) + (data > 1.) + ((abs(data) < 1.) * np.random.randint(0,2, (800,1)))\n",
    "weight = np.zeros((800)) + (abs(data.reshape(800)) > 1.)\n",
    "\n",
    "\n",
    "plt.plot(data.reshape(800), answer.reshape(800), \"--r\")\n",
    "plt.show()"
   ]
  },
  {
   "cell_type": "code",
   "execution_count": 53,
   "metadata": {},
   "outputs": [
    {
     "name": "stderr",
     "output_type": "stream",
     "text": [
      "/usr/local/lib/python3.5/site-packages/ipykernel/__main__.py:109: FutureWarning: comparison to `None` will result in an elementwise object comparison in the future.\n",
      "/usr/local/lib/python3.5/site-packages/ipykernel/__main__.py:6: FutureWarning: comparison to `None` will result in an elementwise object comparison in the future.\n",
      "/usr/local/lib/python3.5/site-packages/ipykernel/__main__.py:130: FutureWarning: comparison to `None` will result in an elementwise object comparison in the future.\n"
     ]
    }
   ],
   "source": [
    "ex_3_model = DogikoNN()\n",
    "ex_3_w_model = DogikoNN()\n",
    "\n",
    "ex_3_model.set_training_data(data, answer)\n",
    "ex_3_model.set_validating_data(data, answer)\n",
    "ex_3_model.define_normalization(\"normal\")\n",
    "ex_3_model.insert_layer(\n",
    "    \"A\",\n",
    "    Layer(\n",
    "        layers_from=[\"input source\"],\n",
    "        nodes_n=1,\n",
    "        active_function=Sigmoid()\n",
    "    )\n",
    ")\n",
    "\n",
    "ex_3_model.build()\n",
    "\n",
    "ex_3_w_model.set_training_data(data, answer, weight)\n",
    "ex_3_w_model.set_validating_data(data, answer, weight)\n",
    "ex_3_w_model.define_normalization(\"normal\")\n",
    "ex_3_w_model.insert_layer(\n",
    "    \"A\",\n",
    "    Layer(\n",
    "        layers_from=[\"input source\"],\n",
    "        nodes_n=1,\n",
    "        active_function=Sigmoid()\n",
    "    )\n",
    ")\n",
    "ex_3_w_model.build()"
   ]
  },
  {
   "cell_type": "code",
   "execution_count": 54,
   "metadata": {},
   "outputs": [
    {
     "name": "stdout",
     "output_type": "stream",
     "text": [
      "10 0.387060183143\n",
      "20 0.346530245021\n",
      "30 0.33131295404\n",
      "40 0.322855925634\n",
      "50 0.317359345568\n",
      "60 0.313462553738\n",
      "70 0.310541371287\n",
      "80 0.308264347076\n",
      "90 0.306437351184\n",
      "100 0.304938356012\n"
     ]
    },
    {
     "data": {
      "image/png": "[encoded data removed]",
      "text/plain": [
       "<matplotlib.figure.Figure at 0x105b26908>"
      ]
     },
     "metadata": {},
     "output_type": "display_data"
    }
   ],
   "source": [
    "for t in range(100):\n",
    "    ex_3_model.single_epoch(800, eta = 2)\n",
    "    if (t+1) % 10 == 0:\n",
    "        print(t + 1, ex_3_model.validating_error())\n",
    "\n",
    "plt.plot(data, ex_3_model.prediction(data))\n",
    "plt.show()"
   ]
  },
  {
   "cell_type": "code",
   "execution_count": 57,
   "metadata": {
    "scrolled": true
   },
   "outputs": [
    {
     "name": "stderr",
     "output_type": "stream",
     "text": [
      "/usr/local/lib/python3.5/site-packages/ipykernel/__main__.py:300: FutureWarning: comparison to `None` will result in an elementwise object comparison in the future.\n",
      "/usr/local/lib/python3.5/site-packages/ipykernel/__main__.py:276: FutureWarning: comparison to `None` will result in an elementwise object comparison in the future.\n",
      "/usr/local/lib/python3.5/site-packages/ipykernel/__main__.py:311: FutureWarning: comparison to `None` will result in an elementwise object comparison in the future.\n"
     ]
    },
    {
     "name": "stdout",
     "output_type": "stream",
     "text": [
      "100 0.0103100638901\n",
      "200 0.0091378164823\n",
      "300 0.00832205815443\n",
      "400 0.00771062367407\n",
      "500 0.00722938837443\n",
      "600 0.00683727446406\n",
      "700 0.00650940427174\n",
      "800 0.00622969707948\n",
      "900 0.00598722596691\n",
      "1000 0.00577426626292\n"
     ]
    },
    {
     "data": {
      "image/png": "[encoded data removed]",
      "text/plain": [
       "<matplotlib.figure.Figure at 0x105dcffd0>"
      ]
     },
     "metadata": {},
     "output_type": "display_data"
    }
   ],
   "source": [
    "for t in range(1000):\n",
    "    ex_3_w_model.single_epoch(800, eta = 5)\n",
    "    if (t+1) % 100 == 0:\n",
    "        print(t + 1, ex_3_w_model.validating_error())\n",
    "\n",
    "plt.plot(data, ex_3_w_model.prediction(data))\n",
    "plt.show()"
   ]
  },
  {
   "cell_type": "markdown",
   "metadata": {},
   "source": [
    "# example 4\n",
    "\n"
   ]
  },
  {
   "cell_type": "code",
   "execution_count": 15,
   "metadata": {
    "collapsed": true
   },
   "outputs": [],
   "source": [
    "ex_4_model =DogikoNN()\n",
    "\n",
    "feature = np.random.rand(1000, 1)*4 - 2\n",
    "result = np.zeros((1000,1))\n",
    "result += (abs(feature) < 1)\n",
    "\n",
    "ex_4_model.set_training_data(feature[:500], result[:500])\n",
    "ex_4_model.set_validating_data(feature[500:], result[500:])\n",
    "\n",
    "# ex_4_model.define_normalization(\"normal\")\n",
    "ex_4_model.insert_layer(\n",
    "    \"A\",\n",
    "    Layer(\n",
    "        layers_from=[\"input source\"],\n",
    "        nodes_n=2,\n",
    "        active_function=Hypertan()\n",
    "    )\n",
    ")\n",
    "\n",
    "\n",
    "ex_4_model.insert_layer(\n",
    "    \"B\",\n",
    "    Layer(\n",
    "        layers_from=[\"A\"],\n",
    "        nodes_n=1,\n",
    "        active_function=Sigmoid()\n",
    "    )\n",
    ")\n",
    "\n",
    "ex_4_model.build()"
   ]
  },
  {
   "cell_type": "code",
   "execution_count": 64,
   "metadata": {},
   "outputs": [
    {
     "data": {
      "text/plain": [
       "0.24439523389641754"
      ]
     },
     "execution_count": 64,
     "metadata": {},
     "output_type": "execute_result"
    }
   ],
   "source": [
    "for i in range(1):\n",
    "    ex_4_model.single_epoch(500, eta=1.)\n",
    "ex_4_model.validating_error()"
   ]
  },
  {
   "cell_type": "code",
   "execution_count": 65,
   "metadata": {},
   "outputs": [
    {
     "data": {
      "image/png": "[encoded data removed]",
      "text/plain": [
       "<matplotlib.figure.Figure at 0x10c314ba8>"
      ]
     },
     "metadata": {},
     "output_type": "display_data"
    }
   ],
   "source": [
    "plt.plot(feature.reshape(1000), result.reshape(1000),\"bp\", feature.reshape(1000), ex_4_model.prediction(feature), \"rp\")\n",
    "plt.show()"
   ]
  },
  {
   "cell_type": "code",
   "execution_count": 66,
   "metadata": {},
   "outputs": [
    {
     "name": "stdout",
     "output_type": "stream",
     "text": [
      "[[ 1.98952816  1.99881824]]\n",
      "[[ 0.01047184  0.00118176]]\n"
     ]
    }
   ],
   "source": [
    "print(ex_4_model.layers[\"B\"].weights[\"A\"].values)\n",
    "print(ex_4_model.layers[\"B\"].weights[\"A\"].diff)"
   ]
  },
  {
   "cell_type": "code",
   "execution_count": 67,
   "metadata": {},
   "outputs": [
    {
     "name": "stdout",
     "output_type": "stream",
     "text": [
      "[-2.01048066]\n",
      "[ 0.01048066]\n"
     ]
    }
   ],
   "source": [
    "print(ex_4_model.layers[\"B\"].bias.values)\n",
    "print(ex_4_model.layers[\"B\"].bias.diff)"
   ]
  },
  {
   "cell_type": "code",
   "execution_count": 68,
   "metadata": {},
   "outputs": [
    {
     "name": "stdout",
     "output_type": "stream",
     "text": [
      "[[ 2.00000317]\n",
      " [-1.99814052]]\n",
      "[[ -3.16697368e-06]\n",
      " [ -1.85947932e-03]]\n"
     ]
    }
   ],
   "source": [
    "print(ex_4_model.layers[\"A\"].weights[\"input source\"].values)\n",
    "print(ex_4_model.layers[\"A\"].weights[\"input source\"].diff)"
   ]
  },
  {
   "cell_type": "code",
   "execution_count": 69,
   "metadata": {},
   "outputs": [
    {
     "name": "stdout",
     "output_type": "stream",
     "text": [
      "[ 1.99996475  1.97930519]\n",
      "[  3.52463836e-05   2.06948109e-02]\n"
     ]
    }
   ],
   "source": [
    "print(ex_4_model.layers[\"A\"].bias.values)\n",
    "print(ex_4_model.layers[\"A\"].bias.diff)"
   ]
  },
  {
   "cell_type": "code",
   "execution_count": 83,
   "metadata": {
    "collapsed": true
   },
   "outputs": [],
   "source": [
    "ex_4_model.layers[\"B\"].weights[\"A\"].values = np.array([[2., 2.]])\n",
    "ex_4_model.layers[\"B\"].bias.values = np.array([-2.])\n",
    "ex_4_model.layers[\"A\"].weights[\"input source\"].values = np.array([[2.], [-2.]])\n",
    "ex_4_model.layers[\"A\"].bias.values = np.array([2., 2.])"
   ]
  },
  {
   "cell_type": "markdown",
   "metadata": {},
   "source": [
    "# Debug"
   ]
  },
  {
   "cell_type": "code",
   "execution_count": 70,
   "metadata": {
    "collapsed": true
   },
   "outputs": [],
   "source": [
    "ex_4_model =DogikoNN()\n",
    "\n",
    "feature = np.array([[-2.], [0.], [2.]])\n",
    "result = np.array([[0.], [1.], [0.]])\n",
    "\n",
    "ex_4_model.set_training_data(feature, result)\n",
    "ex_4_model.set_validating_data(feature, result)\n",
    "\n",
    "# ex_4_model.define_normalization(\"normal\")\n",
    "ex_4_model.insert_layer(\n",
    "    \"A\",\n",
    "    Layer(\n",
    "        layers_from=[\"input source\"],\n",
    "        nodes_n=2,\n",
    "        active_function=Hypertan()\n",
    "    )\n",
    ")\n",
    "\n",
    "\n",
    "ex_4_model.insert_layer(\n",
    "    \"B\",\n",
    "    Layer(\n",
    "        layers_from=[\"A\"],\n",
    "        nodes_n=1,\n",
    "        active_function=Sigmoid()\n",
    "    )\n",
    ")\n",
    "\n",
    "ex_4_model.build()"
   ]
  },
  {
   "cell_type": "code",
   "execution_count": 85,
   "metadata": {},
   "outputs": [
    {
     "data": {
      "text/plain": [
       "0.07520313292705004"
      ]
     },
     "execution_count": 85,
     "metadata": {},
     "output_type": "execute_result"
    }
   ],
   "source": [
    "for i in range(1):\n",
    "    ex_4_model.single_epoch(3, eta=1.)\n",
    "ex_4_model.validating_error()"
   ]
  },
  {
   "cell_type": "code",
   "execution_count": 86,
   "metadata": {},
   "outputs": [
    {
     "data": {
      "image/png": "[encoded data removed]",
      "text/plain": [
       "<matplotlib.figure.Figure at 0x10c10aa20>"
      ]
     },
     "metadata": {},
     "output_type": "display_data"
    }
   ],
   "source": [
    "\n",
    "plt.plot(feature.reshape(3), result.reshape(3),\"bp\", np.arange(40)/10 -2, ex_4_model.prediction((np.arange(40)/10 -2).reshape(40,1)), \"rp\")\n",
    "plt.show()"
   ]
  },
  {
   "cell_type": "code",
   "execution_count": null,
   "metadata": {
    "collapsed": true
   },
   "outputs": [],
   "source": []
  }
 ],
 "metadata": {
  "kernelspec": {
   "display_name": "Python 3",
   "language": "python",
   "name": "python3"
  },
  "language_info": {
   "codemirror_mode": {
    "name": "ipython",
    "version": 3
   },
   "file_extension": ".py",
   "mimetype": "text/x-python",
   "name": "python",
   "nbconvert_exporter": "python",
   "pygments_lexer": "ipython3",
   "version": "3.6.1"
  }
 },
 "nbformat": 4,
 "nbformat_minor": 2
}
