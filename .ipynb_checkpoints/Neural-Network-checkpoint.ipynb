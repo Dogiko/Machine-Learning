{
 "cells": [
  {
   "cell_type": "markdown",
   "metadata": {},
   "source": [
    "# Import"
   ]
  },
  {
   "cell_type": "code",
   "execution_count": 1,
   "metadata": {
    "collapsed": true
   },
   "outputs": [],
   "source": [
    "import numpy as np\n",
    "import random as rd"
   ]
  },
  {
   "cell_type": "markdown",
   "metadata": {},
   "source": [
    "# Define"
   ]
  },
  {
   "cell_type": "code",
   "execution_count": 24,
   "metadata": {
    "collapsed": false
   },
   "outputs": [],
   "source": [
    "class Sigmoid():\n",
    "    def trans(self, x):\n",
    "        return 1 / (1 + np.exp(-x))\n",
    "    \n",
    "    def diff(self, x):\n",
    "        return 1 / ((1 + np.exp(x)) * (1 + np.exp(-x)))\n",
    "\n",
    "class Layer():\n",
    "    def __init__(self, nodes_num, active_function):\n",
    "        self.nodes_n = nodes_num\n",
    "        self.nodes_before = np.zeros([nodes_num])\n",
    "        self.nodes_after = np.zeros([nodes_num])\n",
    "        self.nodes_diff = np.zeros([nodes_num])\n",
    "        self.af = active_function\n",
    "    \n",
    "    def forward(self):\n",
    "        for i in range(self.nodes_n):\n",
    "            self.nodes_after[i] = self.af.trans(self.nodes_before[i])\n",
    "    \"\"\"\n",
    "    def trans(self):\n",
    "        for i in range(len(self.nodes_n)):\n",
    "            self.nodes_diff[i] = self.af.diff(self.nodes_before[i])\n",
    "    \"\"\"\n",
    "    \n",
    "class DogikoNN():\n",
    "    def __init__(self):\n",
    "        self.training_data = None\n",
    "        self.pp_matrix = None # pre-processing linear translation\n",
    "        self.layers = []\n",
    "    \n",
    "    def input_data(self, input_array):\n",
    "        # type input_array : numpy array\n",
    "        self.training_data = input_data\n",
    "        \n",
    "    def define_normalized(normalized_method):\n",
    "        self.normalized_method = normalized_method\n",
    "        \n",
    "    def insert_layer(layer):\n",
    "        self.layers.append(layer)\n",
    "    \n",
    "    \n",
    "    "
   ]
  },
  {
   "cell_type": "code",
   "execution_count": null,
   "metadata": {
    "collapsed": true
   },
   "outputs": [],
   "source": []
  }
 ],
 "metadata": {
  "kernelspec": {
   "display_name": "Python 3",
   "language": "python",
   "name": "python3"
  },
  "language_info": {
   "codemirror_mode": {
    "name": "ipython",
    "version": 3
   },
   "file_extension": ".py",
   "mimetype": "text/x-python",
   "name": "python",
   "nbconvert_exporter": "python",
   "pygments_lexer": "ipython3",
   "version": "3.5.2"
  }
 },
 "nbformat": 4,
 "nbformat_minor": 2
}
