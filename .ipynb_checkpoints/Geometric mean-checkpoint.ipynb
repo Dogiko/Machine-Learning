{
 "cells": [
  {
   "cell_type": "markdown",
   "metadata": {},
   "source": [
    "# Calculate geometric mean of some active function differentiation"
   ]
  },
  {
   "cell_type": "code",
   "execution_count": 1,
   "metadata": {
    "collapsed": true
   },
   "outputs": [],
   "source": [
    "import numpy as np"
   ]
  },
  {
   "cell_type": "markdown",
   "metadata": {},
   "source": [
    "# Define mean function"
   ]
  },
  {
   "cell_type": "code",
   "execution_count": 17,
   "metadata": {
    "collapsed": true
   },
   "outputs": [],
   "source": [
    "def uniform(af_diff, start=-1, end=1, point=1000):\n",
    "    log_out_put = 0\n",
    "    samples = start + (np.arange(point)*(end - start)/point)\n",
    "    for p in range(point):\n",
    "        log_out_put += np.log(af_diff(abs(samples[p]) + 0.0001))\n",
    "    \n",
    "    log_out_put /= point\n",
    "    return np.exp(log_out_put)\n",
    "\n",
    "def normal(af_diff, mean=0, std = 1., point=1000):\n",
    "    log_out_put = 0\n",
    "    samples = np.random.normal(mean, std, 1000)\n",
    "    for p in range(point):\n",
    "        log_out_put += np.log(af_diff(abs(samples[p]) + 0.0001))\n",
    "    \n",
    "    log_out_put /= point\n",
    "    return np.exp(log_out_put)"
   ]
  },
  {
   "cell_type": "markdown",
   "metadata": {},
   "source": [
    "## Sigmoid"
   ]
  },
  {
   "cell_type": "code",
   "execution_count": 24,
   "metadata": {
    "collapsed": false
   },
   "outputs": [
    {
     "name": "stdout",
     "output_type": "stream",
     "text": [
      "unimean :  0.230463621502\n",
      "normean :  0.198575691858\n"
     ]
    }
   ],
   "source": [
    "def sigmoid_diff(x):\n",
    "    return 1/(np.exp(x)+np.exp(-x)+2)\n",
    "\n",
    "print(\"unimean : \", uniform(sigmoid_diff))\n",
    "print(\"normean : \", normal(sigmoid_diff))"
   ]
  },
  {
   "cell_type": "code",
   "execution_count": 23,
   "metadata": {
    "collapsed": false
   },
   "outputs": [
    {
     "name": "stdout",
     "output_type": "stream",
     "text": [
      "unimean :  0.616448111214\n",
      "normean :  0.661649149541\n"
     ]
    }
   ],
   "source": [
    "def soft_relu_diff(x):\n",
    "    return 1/(1+np.exp(-x))\n",
    "\n",
    "print(\"unimean : \", uniform(soft_relu_diff))\n",
    "print(\"normean : \", normal(soft_relu_diff))"
   ]
  },
  {
   "cell_type": "code",
   "execution_count": null,
   "metadata": {
    "collapsed": true
   },
   "outputs": [],
   "source": []
  }
 ],
 "metadata": {
  "kernelspec": {
   "display_name": "Python 3",
   "language": "python",
   "name": "python3"
  },
  "language_info": {
   "codemirror_mode": {
    "name": "ipython",
    "version": 3
   },
   "file_extension": ".py",
   "mimetype": "text/x-python",
   "name": "python",
   "nbconvert_exporter": "python",
   "pygments_lexer": "ipython3",
   "version": "3.5.2"
  }
 },
 "nbformat": 4,
 "nbformat_minor": 2
}
