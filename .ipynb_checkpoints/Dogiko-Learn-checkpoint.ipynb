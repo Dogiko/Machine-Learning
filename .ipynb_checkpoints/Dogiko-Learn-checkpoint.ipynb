{
 "cells": [
  {
   "cell_type": "code",
   "execution_count": 91,
   "metadata": {
    "collapsed": true
   },
   "outputs": [],
   "source": [
    "import numpy as np\n",
    "import os\n",
    "import matplotlib.pyplot as plt\n",
    "from DoNN import *"
   ]
  },
  {
   "cell_type": "markdown",
   "metadata": {},
   "source": [
    "# Gradient cheak"
   ]
  },
  {
   "cell_type": "code",
   "execution_count": 4,
   "metadata": {},
   "outputs": [
    {
     "name": "stdout",
     "output_type": "stream",
     "text": [
      "done\n"
     ]
    }
   ],
   "source": [
    "X = np.random.normal(0, 1, (1000,2))\n",
    "Y = np.dot(X, np.random.normal(0, 2, (2,1)))\n",
    "\n",
    "NN = DogikoNeuralNetwork()\n",
    "NN.SetTrainData(X, Y)\n",
    "NN.SetValidData(X, Y)\n",
    "NN.SetTestData(X, Y)\n",
    "NN.SetLossFunction(\"r2\")\n",
    "NN.SetRegularizer(0., 0.)\n",
    "NN.AddHiddenLayer(2, Identity())\n",
    "NN.AddHiddenLayer(2, Sigmoid())\n",
    "NN.AddHiddenLayer(2, Hypertan())\n",
    "NN.AddHiddenLayer(2, Relu())\n",
    "NN.AddHiddenLayer(2, LeakyRelu())\n",
    "NN.AddHiddenLayer(2, SoftPlus())\n",
    "NN.SetOutputFunction(Selu())\n",
    "NN.SetTerminator(10,20,-0.)\n",
    "NN.Build(initial_strategy=\"Xavier\")\n",
    "\n",
    "step = 0.001\n",
    "\n",
    "for l in range(NN.GetNumHiddenLayers()):\n",
    "    for j in range(NN.hiddenLayerList[l].linear.value.shape[1]):\n",
    "        for i in range(NN.hiddenLayerList[l].linear.value.shape[0]):\n",
    "            b = NN.GetTrainLoss()\n",
    "            NN.ZeroDeri()\n",
    "            NN.Backward(X, Y)\n",
    "            partial_deri = NN.hiddenLayerList[l].linear.total_deri[i, j]\n",
    "            NN.hiddenLayerList[l].linear.value[i, j] += step\n",
    "            a = NN.GetTrainLoss()\n",
    "            if np.abs(((a-b)/step)/partial_deri - 1) > 0.01:\n",
    "                print(((a-b)/step)/partial_deri - 1)\n",
    "        \n",
    "        b = NN.GetTrainLoss()\n",
    "        NN.ZeroDeri()\n",
    "        NN.Backward(X, Y)\n",
    "        partial_deri = NN.hiddenLayerList[l].bias.total_deri[0, j]\n",
    "        NN.hiddenLayerList[l].bias.value[0, j] += step\n",
    "        a = NN.GetTrainLoss()\n",
    "        if np.abs(((a-b)/step)/partial_deri - 1) > 0.01:\n",
    "            print(((a-b)/step)/partial_deri - 1)\n",
    "\n",
    "for j in range(NN.outputLayer.linear.value.shape[1]):\n",
    "    for i in range(NN.outputLayer.linear.value.shape[0]):\n",
    "        b = NN.GetTrainLoss()\n",
    "        NN.ZeroDeri()\n",
    "        NN.Backward(X, Y)\n",
    "        partial_deri = NN.outputLayer.linear.total_deri[i, j]\n",
    "        NN.outputLayer.linear.value[i, j] += step\n",
    "        a = NN.GetTrainLoss()\n",
    "        if np.abs(((a-b)/step)/partial_deri - 1) > 0.01:\n",
    "            print(((a-b)/step)/partial_deri - 1)\n",
    "\n",
    "    b = NN.GetTrainLoss()\n",
    "    NN.ZeroDeri()\n",
    "    NN.Backward(X, Y)\n",
    "    partial_deri = NN.outputLayer.bias.total_deri[0, j]\n",
    "    NN.outputLayer.bias.value[0, j] += step\n",
    "    a = NN.GetTrainLoss()\n",
    "    if np.abs(((a-b)/step)/partial_deri - 1) > 0.01:\n",
    "        print(((a-b)/step)/partial_deri - 1)\n",
    "\n",
    "print(\"done\")"
   ]
  },
  {
   "cell_type": "markdown",
   "metadata": {},
   "source": [
    "# Xavier initializer test"
   ]
  },
  {
   "cell_type": "code",
   "execution_count": 5,
   "metadata": {
    "collapsed": true
   },
   "outputs": [],
   "source": [
    "X = np.random.normal(0, 1, (1000,256))\n",
    "Y = np.dot(X, np.random.normal(0, 1, (256,16)))\n",
    "\n",
    "NN = DogikoNeuralNetwork()\n",
    "NN.SetTrainData(X, Y)\n",
    "NN.SetValidData(X, Y)\n",
    "NN.SetTestData(X, Y)\n",
    "NN.SetLossFunction(\"r2\")\n",
    "NN.SetRegularizer(0., 0.)\n",
    "NN.AddHiddenLayer(2, Identity())\n",
    "NN.SetOutputFunction(Hypertan())\n",
    "NN.SetTerminator(10,20,-0.)\n",
    "NN.Build(initial_strategy=\"Xavier\")"
   ]
  },
  {
   "cell_type": "code",
   "execution_count": 6,
   "metadata": {},
   "outputs": [
    {
     "name": "stdout",
     "output_type": "stream",
     "text": [
      "0.00887325039195832\n",
      "0.0004605327591410284\n",
      "0.08557019083979728\n",
      "0.03855732348986285\n"
     ]
    }
   ],
   "source": [
    "for l in range(NN.GetNumHiddenLayers()):\n",
    "    print(NN.hiddenLayerList[l].linear.value.var())\n",
    "    print(NN.hiddenLayerList[l].bias.value.var())\n",
    "\n",
    "print(NN.outputLayer.linear.value.var())\n",
    "print(NN.outputLayer.bias.value.var())"
   ]
  },
  {
   "cell_type": "markdown",
   "metadata": {},
   "source": [
    "# Simple Case : Regression"
   ]
  },
  {
   "cell_type": "code",
   "execution_count": 51,
   "metadata": {
    "collapsed": true
   },
   "outputs": [],
   "source": [
    "X = ((np.arange(400)-200)/100).reshape(-1,1)\n",
    "Y = np.zeros((X.shape[0], 1))\n",
    "\n",
    "Y[:, :1] = np.random.randint(0, 2, X.shape)*(X>-1.0)*(X<-0.5) + 1*(X>-0.5)*(X<0.5) + np.random.randint(0, 2, X.shape)*(X>0.5)*(X<1.0)\n",
    "\n",
    "NN = DogikoNeuralNetwork()\n",
    "NN.SetTrainData(X, Y)\n",
    "NN.SetValidData(X, Y)\n",
    "NN.SetTestData(X, Y)\n",
    "NN.SetLossFunction(\"r2\")\n",
    "NN.SetRegularizer(0.000001, 0.)\n",
    "NN.AddHiddenLayer(2, Sigmoid())\n",
    "NN.SetOutputFunction(Identity())\n",
    "NN.SetTerminator(10,20,-0.01)\n",
    "NN.Build(initial_strategy=\"Xavier\")"
   ]
  },
  {
   "cell_type": "code",
   "execution_count": 52,
   "metadata": {
    "scrolled": false
   },
   "outputs": [
    {
     "name": "stdout",
     "output_type": "stream",
     "text": [
      "0.3114939242899148\n"
     ]
    },
    {
     "data": {
      "image/png": "[encoded data removed]",
      "text/plain": [
       "<matplotlib.figure.Figure at 0x10c12b908>"
      ]
     },
     "metadata": {},
     "output_type": "display_data"
    }
   ],
   "source": [
    "NN.Train(times=500, method=\"normal\", step=0.1, is_termination=False)\n",
    "\n",
    "print(NN.GetTrainLoss())\n",
    "\n",
    "NN.GetInference(X)\n",
    "\n",
    "plt.plot(X.reshape(-1), NN.GetInference(X).reshape(-1), \"rp\", X.reshape(-1), Y.reshape(-1), \"bp\")\n",
    "plt.show()"
   ]
  },
  {
   "cell_type": "markdown",
   "metadata": {},
   "source": [
    "# Simple Case : Classification"
   ]
  },
  {
   "cell_type": "code",
   "execution_count": 55,
   "metadata": {
    "collapsed": true
   },
   "outputs": [],
   "source": [
    "X = ((np.arange(400)-200)/100).reshape(-1,1)\n",
    "Y = np.zeros((X.shape[0], 2))\n",
    "Y[:, :1] = 1*(X>-1.)\n",
    "Y[:, :1] *= 1*(X<1.)\n",
    "Y[:, 1:] = 1 - Y[:, :1]\n",
    "\n",
    "NN = DogikoNeuralNetwork()\n",
    "NN.SetTrainData(X, Y)\n",
    "NN.SetValidData(X, Y)\n",
    "NN.SetTestData(X, Y)\n",
    "NN.SetLossFunction(\"cross entropy\")\n",
    "NN.SetRegularizer(0.0001, 0.)\n",
    "NN.AddHiddenLayer(10, Hypertan())\n",
    "NN.SetOutputFunction(Softmax())\n",
    "NN.SetTerminator(10,20,-0.01)\n",
    "NN.Build()"
   ]
  },
  {
   "cell_type": "code",
   "execution_count": 56,
   "metadata": {},
   "outputs": [
    {
     "name": "stdout",
     "output_type": "stream",
     "text": [
      "1, 10 0.4975 0.7278271154198691\n",
      "500, 2 1.0 0.028097873145394026\n",
      "500, 2 1.0 0.021904371758533932\n",
      "500, 2 1.0 0.01918063361417905\n",
      "500, 2 1.0 0.017617294969389317\n",
      "500, 2 1.0 0.016607472221535646\n"
     ]
    }
   ],
   "source": [
    "print(NN.Train(times=1, method=\"normal\", is_termination=False), end = \", \")\n",
    "print(NN.hiddenLayerList[0].num_unit, NN.GetTrainAccuracy(), NN.GetTrainLoss())\n",
    "\n",
    "for t in range(5):\n",
    "    NN.UnitsRefined(layer_index=0, method=\"info\", threshold=0.01)\n",
    "    print(NN.Train(times=500, method=\"normal\", is_termination=False), end = \", \")\n",
    "    print(NN.hiddenLayerList[0].num_unit, NN.GetTrainAccuracy(), NN.GetTrainLoss())"
   ]
  },
  {
   "cell_type": "markdown",
   "metadata": {},
   "source": [
    "# Odd or even\n",
    "\n",
    "## Regression"
   ]
  },
  {
   "cell_type": "code",
   "execution_count": 72,
   "metadata": {
    "collapsed": true,
    "scrolled": true
   },
   "outputs": [],
   "source": [
    "X = np.random.normal(0, 0.2, (700, 1))\n",
    "Y = np.zeros(X.shape)\n",
    "for i in range(7):\n",
    "    X[i*100:(i+1)*100] += i-3\n",
    "    Y[i*100:(i+1)*100] = 0.5*(1+(-1)**(i+1))\n",
    "\n",
    "NN = DogikoNeuralNetwork()\n",
    "NN.SetTrainData(X, Y)\n",
    "NN.SetValidData(X, Y)\n",
    "NN.SetTestData(X, Y)\n",
    "NN.SetLossFunction(\"r2\")\n",
    "NN.SetRegularizer(0.0001, 0.)\n",
    "NN.AddHiddenLayer(10, Hypertan())\n",
    "NN.SetOutputFunction(Identity())\n",
    "NN.Build(initial_strategy=\"Xavier\")"
   ]
  },
  {
   "cell_type": "code",
   "execution_count": 76,
   "metadata": {
    "scrolled": true
   },
   "outputs": [
    {
     "name": "stdout",
     "output_type": "stream",
     "text": [
      "1000, 0.05526185111168543, "
     ]
    },
    {
     "data": {
      "image/png": "[encoded data removed]",
      "text/plain": [
       "<matplotlib.figure.Figure at 0x107112278>"
      ]
     },
     "metadata": {},
     "output_type": "display_data"
    }
   ],
   "source": [
    "print(NN.Train(times=1000, method=\"normal\", step=0.01, is_termination=False), end = \", \")\n",
    "print(NN.GetTrainLoss(), end=\", \")\n",
    "\n",
    "samples = ((np.arange(500)-250)/100).reshape(-1,1)\n",
    "\n",
    "NN.GetInference(samples)\n",
    "\n",
    "plt.plot(X.reshape(-1), NN.GetInference(X).reshape(-1), \"rp\", X.reshape(-1), Y.reshape(-1), \"bp\")\n",
    "plt.show()"
   ]
  },
  {
   "cell_type": "markdown",
   "metadata": {},
   "source": [
    "# Odd or even\n",
    "\n",
    "## Classification"
   ]
  },
  {
   "cell_type": "code",
   "execution_count": 68,
   "metadata": {
    "collapsed": true
   },
   "outputs": [],
   "source": [
    "X = np.random.normal(0, 0.1, (700, 1))\n",
    "Y = np.zeros((X.shape[0], 2))\n",
    "for i in range(7):\n",
    "    X[i*100:(i+1)*100] += i-3\n",
    "    Y[i*100:(i+1)*100, :1] = 0.5*(1+(-1)**(i+1))\n",
    "\n",
    "Y[:,1:] = 1 - Y[:,:1]\n",
    "\n",
    "NN = DogikoNeuralNetwork()\n",
    "NN.SetTrainData(X, Y)\n",
    "NN.SetValidData(X, Y)\n",
    "NN.SetTestData(X, Y)\n",
    "NN.SetLossFunction(\"cross entropy\")\n",
    "NN.SetRegularizer(0.0001, 0.)\n",
    "NN.AddHiddenLayer(20, Hypertan())\n",
    "NN.SetOutputFunction(Softmax())\n",
    "NN.Build(\"Xavier\")"
   ]
  },
  {
   "cell_type": "code",
   "execution_count": 69,
   "metadata": {
    "scrolled": false
   },
   "outputs": [
    {
     "name": "stdout",
     "output_type": "stream",
     "text": [
      "1.0\n"
     ]
    },
    {
     "data": {
      "image/png": "[encoded data removed]",
      "text/plain": [
       "<matplotlib.figure.Figure at 0x10710c908>"
      ]
     },
     "metadata": {},
     "output_type": "display_data"
    }
   ],
   "source": [
    "NN.Train(times=1000, method=\"normal\", step=1, is_termination=False)\n",
    "print(NN.GetTrainAccuracy())\n",
    "\n",
    "samples = ((np.arange(700)-350)/100).reshape(-1,1)\n",
    "\n",
    "NN.GetInference(samples)\n",
    "\n",
    "plt.plot(X.reshape(-1), NN.GetInference(X)[:,0], \"rp\", X.reshape(-1), Y[:,0], \"bp\")\n",
    "plt.show()"
   ]
  },
  {
   "cell_type": "markdown",
   "metadata": {},
   "source": [
    "# Skew chessboard"
   ]
  },
  {
   "cell_type": "code",
   "execution_count": 79,
   "metadata": {
    "collapsed": true
   },
   "outputs": [],
   "source": [
    "X = 4*np.random.rand(20000,2) - 2\n",
    "Y = np.zeros((X.shape[0],2))\n",
    "Y[:, 0] = (((np.floor((X[:,0] + X[:,1])%2) + np.floor((X[:,0] - X[:,1])%2)) %2) == 1)\n",
    "Y[:, 1] = 1- Y[:, 0]"
   ]
  },
  {
   "cell_type": "code",
   "execution_count": 80,
   "metadata": {
    "collapsed": true
   },
   "outputs": [],
   "source": [
    "NN = DogikoNeuralNetwork()\n",
    "NN.SetTrainData(X[:10000], Y[:10000])\n",
    "NN.SetValidData(X[10000:15000], Y[10000:15000])\n",
    "NN.SetTestData(X[15000:], Y[15000:])\n",
    "NN.SetLossFunction(\"cross entropy\")\n",
    "NN.SetRegularizer(0.0001, 1.)\n",
    "NN.AddHiddenLayer(20, Hypertan())\n",
    "NN.AddHiddenLayer(20, Hypertan())\n",
    "NN.SetOutputFunction(Softmax())\n",
    "NN.SetTerminator(10,30, -0.1)\n",
    "NN.Build()\n",
    "\n",
    "NN.Train(times=1000, batch_size=10000, method=\"Rprop\", is_termination=True, accuracy_record=True)"
   ]
  },
  {
   "cell_type": "markdown",
   "metadata": {},
   "source": [
    "### Training directly"
   ]
  },
  {
   "cell_type": "code",
   "execution_count": 82,
   "metadata": {
    "scrolled": false
   },
   "outputs": [
    {
     "name": "stdout",
     "output_type": "stream",
     "text": [
      "38, 20, 20, 0.5295 0.518 0.5258\n",
      "1000, 20, 20, 0.8442 0.8366 0.8296\n",
      "1000, 20, 20, 0.862 0.859 0.8572\n",
      "1000, 20, 20, 0.9078 0.8994 0.9016\n",
      "1000, 20, 20, 0.7877 0.778 0.7826\n",
      "1000, 20, 20, 0.8847 0.8866 0.884\n",
      "1000, 20, 20, 0.9601 0.9546 0.961\n",
      "1000, 20, 20, 0.8079 0.7972 0.8108\n",
      "1000, 20, 20, 0.8405 0.8394 0.839\n",
      "1000, 20, 20, 0.9673 0.9604 0.9628\n"
     ]
    }
   ],
   "source": [
    "NN = DogikoNeuralNetwork()\n",
    "NN.SetTrainData(X[:10000], Y[:10000])\n",
    "NN.SetValidData(X[10000:15000], Y[10000:15000])\n",
    "NN.SetTestData(X[15000:], Y[15000:])\n",
    "NN.SetLossFunction(\"cross entropy\")\n",
    "NN.SetRegularizer(0.0001, 1.)\n",
    "NN.AddHiddenLayer(20, Hypertan())\n",
    "NN.AddHiddenLayer(20, Hypertan())\n",
    "NN.SetOutputFunction(Softmax())\n",
    "NN.SetTerminator(10,30, -0.)\n",
    "\n",
    "times = 10\n",
    "record = np.zeros((times))\n",
    "for t in range(times):\n",
    "    NN.Build(initial_strategy=\"Xavier\")\n",
    "    print(NN.Train(times=1000, batch_size=10000, method=\"Rprop\", is_termination=True), end = \", \")\n",
    "    for l in range(NN.GetNumHiddenLayers()):\n",
    "        print(NN.hiddenLayerList[l].num_unit, end = \", \")\n",
    "    \n",
    "    print(NN.GetTrainAccuracy(), NN.GetValidAccuracy(), NN.GetTestAccuracy())\n",
    "    record[t] = NN.GetTestAccuracy()"
   ]
  },
  {
   "cell_type": "markdown",
   "metadata": {},
   "source": [
    "### Repeat add-fit-kill-fit for fix number of units"
   ]
  },
  {
   "cell_type": "code",
   "execution_count": 83,
   "metadata": {
    "scrolled": false
   },
   "outputs": [
    {
     "name": "stdout",
     "output_type": "stream",
     "text": [
      "109, 0.5598 0.5506 0.555\n",
      "392, 0.6297 0.6304 0.6286\n",
      "181, 0.6941 0.6996 0.7006\n",
      "250, 0.7531 0.7574 0.7562\n",
      "427, 0.8901 0.8934 0.8856\n",
      "500, 0.9189 0.9196 0.9114\n",
      "216, 0.9345 0.9254 0.9276\n",
      "140, 0.9447 0.9364 0.9392\n",
      "170, 0.9495 0.9436 0.9438\n",
      "149, 0.9464 0.9394 0.9414\n",
      "107, 0.9509 0.9452 0.9464\n",
      "87, 0.9537 0.9452 0.9498\n",
      "27, 0.9542 0.9458 0.9472\n",
      "43, 0.954 0.947 0.9478\n",
      "52, 0.9586 0.9496 0.9512\n",
      "41, 0.9566 0.9456 0.9496\n",
      "81, 0.9577 0.9512 0.952\n",
      "79, 0.9592 0.9524 0.949\n",
      "33, 0.9602 0.9528 0.9528\n",
      "16, 0.9621 0.9534 0.9514\n",
      "50, 0.9635 0.9546 0.9528\n",
      "24, 0.9629 0.9536 0.953\n",
      "24, 0.9617 0.952 0.9522\n",
      "79, 0.964 0.954 0.9552\n",
      "28, 0.9648 0.9564 0.9548\n",
      "96, 0.9656 0.956 0.9538\n",
      "17, 0.9648 0.9582 0.956\n",
      "63, 0.9644 0.9558 0.9534\n",
      "83, 0.9659 0.9572 0.9566\n",
      "26, 0.9664 0.9558 0.957\n",
      "39, 0.965 0.9548 0.9542\n"
     ]
    },
    {
     "data": {
      "image/png": "[encoded data removed]",
      "text/plain": [
       "<matplotlib.figure.Figure at 0x10cbcbb00>"
      ]
     },
     "metadata": {},
     "output_type": "display_data"
    }
   ],
   "source": [
    "NN = DogikoNeuralNetwork()\n",
    "NN.SetTrainData(X[:10000], Y[:10000])\n",
    "NN.SetValidData(X[10000:15000], Y[10000:15000])\n",
    "NN.SetTestData(X[15000:], Y[15000:])\n",
    "NN.SetLossFunction(\"cross entropy\")\n",
    "NN.SetRegularizer(0.001, 2.)\n",
    "NN.AddHiddenLayer(20, Hypertan())\n",
    "NN.AddHiddenLayer(20, Hypertan())\n",
    "NN.SetOutputFunction(Softmax())\n",
    "NN.SetTerminator(5,10, -0.)\n",
    "\n",
    "NN.Build()\n",
    "\n",
    "print(NN.Train(times=500, batch_size=5000, method=\"Rprop\", is_termination=True), end = \", \")\n",
    "print(NN.GetTrainAccuracy(), NN.GetValidAccuracy(), NN.GetTestAccuracy())\n",
    "\n",
    "for t in range(30):\n",
    "    for l in range(NN.GetNumHiddenLayers()):\n",
    "        NN.UnitsRefined(layer_index=l, method=\"remove\", threshold=2)\n",
    "        NN.AddUnit(layer_index=l, num_added=2, output_linear_bound=0.001)\n",
    "    \n",
    "    NN.ResetCwiseStep(0.01)\n",
    "    print(NN.Train(times=500, batch_size=5000, method=\"Rprop\", is_termination=True, shuffling=True), end = \", \")    \n",
    "    print(NN.GetTrainAccuracy(), NN.GetValidAccuracy(), NN.GetTestAccuracy())\n",
    "\n",
    "I = NN.GetInference(X)[:, 0]\n",
    "plt.plot(X[:, 0][I>0.5], X[:, 1][I>0.5], \"bp\")\n",
    "plt.plot(X[:, 0][I<0.5], X[:, 1][I<0.5], \"rp\")\n",
    "plt.show()"
   ]
  },
  {
   "cell_type": "markdown",
   "metadata": {},
   "source": [
    "### Find suitable units by info ratio of layer output"
   ]
  },
  {
   "cell_type": "code",
   "execution_count": 84,
   "metadata": {
    "scrolled": false
   },
   "outputs": [
    {
     "name": "stdout",
     "output_type": "stream",
     "text": [
      "786, 20, 20, 0.6674 0.6738 0.681\n",
      "1000, 1000, 13, 20, 0.9442 0.9344 0.9368\n",
      "1000, 1000, 12, 20, 0.9568 0.9464 0.9476\n",
      "1000, 382, 13, 21, 0.9736 0.9654 0.9664\n",
      "807, 821, 13, 22, 0.9766 0.9694 0.9704\n",
      "186, 35, 13, 23, 0.977 0.9696 0.9714\n",
      "53, 272, 13, 23, 0.9779 0.9702 0.9698\n",
      "53, 282, 13, 24, 0.9782 0.9708 0.9716\n",
      "166, 149, 12, 24, 0.9714 0.9628 0.9656\n",
      "494, 83, 13, 24, 0.976 0.9694 0.971\n",
      "362, 144, 13, 24, 0.9774 0.9694 0.9718\n",
      "46, 85, 13, 24, 0.9774 0.9696 0.9722\n",
      "222, 193, 13, 24, 0.978 0.9704 0.9724\n",
      "32, 47, 13, 24, 0.9782 0.9704 0.973\n",
      "42, 40, 13, 24, 0.9785 0.9704 0.972\n",
      "41, 119, 13, 24, 0.9788 0.9702 0.9726\n",
      "46, 50, 13, 24, 0.9794 0.9708 0.9726\n",
      "39, 38, 13, 25, 0.9798 0.9718 0.9724\n",
      "42, 115, 13, 25, 0.9797 0.9712 0.9724\n",
      "111, 127, 13, 25, 0.9805 0.9714 0.9718\n",
      "111, 94, 13, 25, 0.9802 0.9706 0.9726\n"
     ]
    },
    {
     "data": {
      "image/png": "[encoded data removed]",
      "text/plain": [
       "<matplotlib.figure.Figure at 0x10ba72278>"
      ]
     },
     "metadata": {},
     "output_type": "display_data"
    }
   ],
   "source": [
    "NN = DogikoNeuralNetwork()\n",
    "NN.SetTrainData(X[:10000], Y[:10000])\n",
    "NN.SetValidData(X[10000:15000], Y[10000:15000])\n",
    "NN.SetTestData(X[15000:], Y[15000:])\n",
    "NN.SetLossFunction(\"cross entropy\")\n",
    "NN.SetRegularizer(0.0001, 1.)\n",
    "NN.AddHiddenLayer(20, Hypertan())\n",
    "NN.AddHiddenLayer(20, Hypertan())\n",
    "NN.SetOutputFunction(Softmax())\n",
    "NN.SetTerminator(10,30, -0.)\n",
    "\n",
    "NN.Build()\n",
    "\n",
    "print(NN.Train(times=1000, batch_size=5000, method=\"Rprop\", is_termination=True), end = \", \")\n",
    "for l in range(NN.GetNumHiddenLayers()):\n",
    "    print(NN.hiddenLayerList[l].num_unit, end = \", \")\n",
    "\n",
    "print(NN.GetTrainAccuracy(), NN.GetValidAccuracy(), NN.GetTestAccuracy())\n",
    "\n",
    "for t in range(20):\n",
    "    for l in range(NN.GetNumHiddenLayers()):\n",
    "        NN.AddUnit(layer_index=l, num_added=1, output_linear_bound=0.01)\n",
    "    \n",
    "    NN.ResetCwiseStep(0.001)\n",
    "    print(NN.Train(times=1000, batch_size=10000, method=\"Rprop\", is_termination=True), end = \", \")\n",
    "    for l in range(NN.GetNumHiddenLayers()):\n",
    "        NN.UnitsRefined(layer_index=l, method=\"info ratio\", threshold=0.001)\n",
    "    \n",
    "    NN.ResetCwiseStep(0.001)\n",
    "    print(NN.Train(times=1000, batch_size=10000, method=\"Rprop\", is_termination=True), end = \", \")\n",
    "    for l in range(NN.GetNumHiddenLayers()):\n",
    "        print(NN.hiddenLayerList[l].num_unit, end = \", \")\n",
    "    \n",
    "    print(NN.GetTrainAccuracy(), NN.GetValidAccuracy(), NN.GetTestAccuracy())\n",
    "\n",
    "I = NN.GetInference(X)[:, 0]\n",
    "plt.plot(X[:, 0][I>0.5], X[:, 1][I>0.5], \"bp\")\n",
    "plt.plot(X[:, 0][I<0.5], X[:, 1][I<0.5], \"rp\")\n",
    "plt.show()"
   ]
  },
  {
   "cell_type": "markdown",
   "metadata": {},
   "source": [
    "# \"Is Skin\" on UCI\n",
    "\n",
    "raw data https://archive.ics.uci.edu/ml/datasets/skin+segmentation"
   ]
  },
  {
   "cell_type": "code",
   "execution_count": 85,
   "metadata": {
    "collapsed": true
   },
   "outputs": [],
   "source": [
    "X = np.load(\"../UCI/Is-skin/data-npy/data.npy\").astype(np.float64)\n",
    "Y = np.load(\"../UCI/Is-skin/data-npy/label.npy\").astype(np.float64)\n",
    "X *= 2/255\n",
    "X -= 1\n",
    "shuffle = np.arange(X.shape[0])\n",
    "np.random.shuffle(shuffle)\n",
    "X = X[shuffle]\n",
    "Y = Y[shuffle]"
   ]
  },
  {
   "cell_type": "markdown",
   "metadata": {},
   "source": [
    "### Train directly"
   ]
  },
  {
   "cell_type": "code",
   "execution_count": 86,
   "metadata": {},
   "outputs": [
    {
     "name": "stdout",
     "output_type": "stream",
     "text": [
      "96, 0.9779 0.979 0.9774\n",
      "115, 0.9771 0.9782 0.9766\n",
      "108, 0.9943 0.9945 0.9942\n",
      "139, 0.9767 0.9776 0.9767\n",
      "95, 0.9771 0.9781 0.9765\n",
      "160, 0.9944 0.9945 0.9941\n",
      "201, 0.9928 0.993 0.993\n",
      "94, 0.9784 0.9794 0.9779\n",
      "112, 0.9941 0.9944 0.994\n",
      "102, 0.9941 0.9935 0.9941\n"
     ]
    }
   ],
   "source": [
    "NN = DogikoNeuralNetwork()\n",
    "NN.SetTrainData(X[:150000], Y[:150000])\n",
    "NN.SetValidData(X[150000:200000], Y[150000:200000])\n",
    "NN.SetTestData(X[200000:], Y[200000:])\n",
    "NN.SetLossFunction(\"cross entropy\")\n",
    "NN.SetRegularizer(0.0001, 0.)\n",
    "NN.AddHiddenLayer(2, Hypertan())\n",
    "NN.SetOutputFunction(Softmax())\n",
    "NN.SetTerminator(10,30, -0.01)\n",
    "for t in range(10):\n",
    "    NN.Build()\n",
    "    print(NN.Train(times=2000, batch_size=50000, method=\"Rprop\", is_termination=True), end = \", \")\n",
    "    print(NN.GetTrainAccuracy(), NN.GetValidAccuracy(), NN.GetTestAccuracy())"
   ]
  },
  {
   "cell_type": "markdown",
   "metadata": {},
   "source": [
    "### Repeat add-fit-kill-fit for fix number of units"
   ]
  },
  {
   "cell_type": "code",
   "execution_count": 88,
   "metadata": {},
   "outputs": [
    {
     "name": "stdout",
     "output_type": "stream",
     "text": [
      "322, 2, 0.9945 0.9944 0.9944\n",
      "314, 38, 2, 0.9951 0.9947 0.9953\n",
      "202, 45, 2, 0.9949 0.9946 0.9953\n",
      "382, 83, 2, 0.9949 0.9945 0.9952\n",
      "176, 39, 2, 0.9947 0.9947 0.9949\n",
      "2000, 2000, 2, 0.9947 0.9946 0.9948\n",
      "187, 50, 2, 0.9947 0.9946 0.9948\n",
      "143, 2000, 2, 0.9946 0.9944 0.9946\n",
      "186, 54, 2, 0.9952 0.9949 0.9955\n",
      "386, 60, 2, 0.9951 0.9947 0.9954\n",
      "169, 2000, 2, 0.9947 0.9946 0.9949\n"
     ]
    }
   ],
   "source": [
    "NN = DogikoNeuralNetwork()\n",
    "NN.SetTrainData(X[:150000], Y[:150000])\n",
    "NN.SetValidData(X[150000:200000], Y[150000:200000])\n",
    "NN.SetTestData(X[200000:], Y[200000:])\n",
    "NN.SetLossFunction(\"cross entropy\")\n",
    "NN.SetRegularizer(0.0001, 1.)\n",
    "NN.AddHiddenLayer(2, Hypertan())\n",
    "NN.SetOutputFunction(Softmax())\n",
    "NN.SetTerminator(10,30, -0.)\n",
    "\n",
    "NN.Build()\n",
    "\n",
    "print(NN.Train(times=2000, batch_size=50000, method=\"Rprop\", is_termination=True), end = \", \")\n",
    "for l in range(NN.GetNumHiddenLayers()):\n",
    "    print(NN.hiddenLayerList[l].num_unit, end = \", \")\n",
    "\n",
    "print(NN.GetTrainAccuracy(), NN.GetValidAccuracy(), NN.GetTestAccuracy())\n",
    "\n",
    "for t in range(10):\n",
    "    for l in range(NN.GetNumHiddenLayers()):\n",
    "        NN.AddUnit(layer_index=l, num_added=1, output_linear_bound=0.01)\n",
    "    \n",
    "    NN.ResetCwiseStep(0.001)\n",
    "    print(NN.Train(times=2000, batch_size=50000, method=\"Rprop\", is_termination=True), end = \", \")\n",
    "    for l in range(NN.GetNumHiddenLayers()):\n",
    "        NN.UnitsRefined(layer_index=l, method=\"remain\", threshold=2)\n",
    "    \n",
    "    NN.ResetCwiseStep(0.001)\n",
    "    print(NN.Train(times=2000, batch_size=50000, method=\"Rprop\", is_termination=True), end = \", \")\n",
    "    for l in range(NN.GetNumHiddenLayers()):\n",
    "        print(NN.hiddenLayerList[l].num_unit, end = \", \")\n",
    "    \n",
    "    print(NN.GetTrainAccuracy(), NN.GetValidAccuracy(), NN.GetTestAccuracy())"
   ]
  },
  {
   "cell_type": "markdown",
   "metadata": {},
   "source": [
    "### Find suitable units by info ratio of layer output"
   ]
  },
  {
   "cell_type": "code",
   "execution_count": 90,
   "metadata": {},
   "outputs": [
    {
     "name": "stdout",
     "output_type": "stream",
     "text": [
      "107, 10, 0.995 0.9952 0.9948\n",
      "43, 30, 8, 0.9953 0.9956 0.9952\n",
      "30, 30, 7, 0.9954 0.9956 0.9952\n",
      "30, 30, 7, 0.9955 0.9956 0.9954\n",
      "106, 30, 8, 0.9955 0.9957 0.9951\n",
      "30, 30, 8, 0.9955 0.9957 0.9951\n"
     ]
    }
   ],
   "source": [
    "NN = DogikoNeuralNetwork()\n",
    "NN.SetTrainData(X[:150000], Y[:150000])\n",
    "NN.SetValidData(X[150000:200000], Y[150000:200000])\n",
    "NN.SetTestData(X[200000:], Y[200000:])\n",
    "NN.SetLossFunction(\"cross entropy\")\n",
    "NN.SetRegularizer(0.0001, 0.)\n",
    "NN.AddHiddenLayer(10, Hypertan())\n",
    "NN.SetOutputFunction(Softmax())\n",
    "NN.SetTerminator(10,30, -0.01)\n",
    "\n",
    "NN.Build()\n",
    "\n",
    "print(NN.Train(times=2000, batch_size=50000, method=\"Rprop\", is_termination=True), end = \", \")\n",
    "for l in range(NN.GetNumHiddenLayers()):\n",
    "    print(NN.hiddenLayerList[l].num_unit, end = \", \")\n",
    "\n",
    "print(NN.GetTrainAccuracy(), NN.GetValidAccuracy(), NN.GetTestAccuracy())\n",
    "\n",
    "for t in range(5):\n",
    "    for l in range(NN.GetNumHiddenLayers()):\n",
    "        NN.AddUnit(layer_index=l, num_added=1, output_linear_bound=0.01)\n",
    "    \n",
    "    NN.ResetCwiseStep(0.001)\n",
    "    print(NN.Train(times=2000, batch_size=50000, method=\"Rprop\", is_termination=True), end = \", \")\n",
    "    for l in range(NN.GetNumHiddenLayers()):\n",
    "        NN.UnitsRefined(layer_index=l, method=\"info ratio\", threshold=0.0001)\n",
    "    \n",
    "    NN.ResetCwiseStep(0.001)\n",
    "    print(NN.Train(times=2000, batch_size=50000, method=\"Rprop\", is_termination=True), end = \", \")\n",
    "    for l in range(NN.GetNumHiddenLayers()):\n",
    "        print(NN.hiddenLayerList[l].num_unit, end = \", \")\n",
    "    \n",
    "    print(NN.GetTrainAccuracy(), NN.GetValidAccuracy(), NN.GetTestAccuracy())"
   ]
  },
  {
   "cell_type": "markdown",
   "metadata": {},
   "source": [
    "# MNIST"
   ]
  },
  {
   "cell_type": "code",
   "execution_count": 154,
   "metadata": {
    "collapsed": true
   },
   "outputs": [],
   "source": [
    "NN = DogikoNeuralNetwork()\n",
    "\n",
    "mnist_train_X = np.load(\"../mnist-npy/train_data.npy\")*2/255 - 1\n",
    "mnist_train_Y = np.load(\"../mnist-npy/train_label.npy\")\n",
    "\n",
    "shuffle = np.arange(60000)\n",
    "np.random.shuffle(shuffle)\n",
    "\n",
    "mnist_test_X = np.load(\"../mnist-npy/test_data.npy\")*2/255 - 1\n",
    "mnist_test_Y = np.load(\"../mnist-npy/test_label.npy\")\n",
    "\n",
    "NN.SetTrainData(mnist_train_X[:55000], mnist_train_Y[:55000])\n",
    "NN.SetValidData(mnist_train_X[55000:], mnist_train_Y[55000:])\n",
    "NN.SetTestData(mnist_test_X, mnist_test_Y)\n",
    "NN.SetLossFunction(\"cross entropy\")\n",
    "NN.SetRegularizer(0., 0.00001)\n",
    "NN.AddHiddenLayer(50, Hypertan())\n",
    "\n",
    "NN.SetOutputFunction(Softmax())\n",
    "NN.SetTerminator(5,10, -0.1)\n",
    "NN.Build()"
   ]
  },
  {
   "cell_type": "code",
   "execution_count": 156,
   "metadata": {},
   "outputs": [
    {
     "name": "stdout",
     "output_type": "stream",
     "text": [
      "done\n"
     ]
    }
   ],
   "source": [
    "NN.Train(init_cwise_step=0.001, method=\"Rprop\", times= 200, max_move=0.1)\n",
    "print(\"done\")"
   ]
  },
  {
   "cell_type": "code",
   "execution_count": null,
   "metadata": {
    "collapsed": true
   },
   "outputs": [],
   "source": [
    "for t in range(10):\n",
    "    for l in range(NN.GetNumHiddenLayers()):\n",
    "        NN.UnitsModify(layer_index=l, set_num_unit=49,output_linear_bound=0.001)\n",
    "        NN.UnitsModify(layer_index=l, set_num_unit=50,output_linear_bound=0.001)\n",
    "    \n",
    "    print(NN.Train(init_cwise_step=0.001, method=\"Rprop\", times= 40, max_move=0.1), NN.GetTestAccuracy())"
   ]
  },
  {
   "cell_type": "markdown",
   "metadata": {
    "collapsed": true
   },
   "source": [
    "### Repeat test"
   ]
  },
  {
   "cell_type": "code",
   "execution_count": null,
   "metadata": {
    "collapsed": true
   },
   "outputs": [],
   "source": [
    "NN = DogikoNeuralNetwork()\n",
    "\n",
    "mnist_train_X = np.load(\"../mnist-npy/train_data.npy\")*2/255 - 1\n",
    "mnist_train_Y = np.load(\"../mnist-npy/train_label.npy\")\n",
    "mnist_test_X = np.load(\"../mnist-npy/test_data.npy\")*2/255 - 1\n",
    "mnist_test_Y = np.load(\"../mnist-npy/test_label.npy\")\n",
    "\n",
    "num_layers = 1\n",
    "num_units = 5\n",
    "\n",
    "path = \"../mnist-test/Case-5x1\"\n",
    "\n",
    "try:\n",
    "    NN.LoadModel(path + \"/model\")\n",
    "except:\n",
    "    shuffle = np.arange(60000)\n",
    "    np.random.shuffle(shuffle)\n",
    "    \n",
    "    NN.SetTrainData(mnist_train_X[:55000], mnist_train_Y[:55000])\n",
    "    NN.SetValidData(mnist_train_X[55000:], mnist_train_Y[55000:])\n",
    "    NN.SetTestData(mnist_test_X, mnist_test_Y)\n",
    "    NN.SetLossFunction(\"cross entropy\")\n",
    "    NN.SetRegularizer(0., 0.)\n",
    "    for l in range(num_layers):\n",
    "        NN.AddHiddenLayer(num_units, Hypertan())\n",
    "    \n",
    "    NN.SetOutputFunction(Softmax())\n",
    "    NN.SetTerminator(5,10, -0.)\n",
    "    NN.Build()\n",
    "    NN.SaveModel(path + \"/model\")\n",
    "\n",
    "try:\n",
    "    timer = np.load(path + \"/timer.npy\")\n",
    "except:\n",
    "    timer = np.zeros((), dtype=np.int)\n",
    "\n",
    "rounds = 10\n",
    "try:\n",
    "    record = np.load(path + \"/record.npy\")\n",
    "except:\n",
    "    record = np.zeros((100, rounds+1))\n",
    "\n",
    "bound = 0.001\n",
    "while timer < 100:\n",
    "    shuffle = np.arange(60000)\n",
    "    np.random.shuffle(shuffle)\n",
    "    mnist_train_X = mnist_train_X[shuffle]\n",
    "    mnist_train_Y = mnist_train_Y[shuffle]\n",
    "    NN.SetTrainData(mnist_train_X[:55000], mnist_train_Y[:55000])\n",
    "    NN.SetValidData(mnist_train_X[55000:], mnist_train_Y[55000:])\n",
    "    NN.SetTestData(mnist_test_X, mnist_test_Y)\n",
    "    NN.Build() # reset weights\n",
    "    \n",
    "    for r in range(rounds+1):\n",
    "        if r > 0:\n",
    "            for l in range(NN.GetNumHiddenLayers()):\n",
    "                NN.UnitsModify(layer_index=l, set_num_unit=num_units+1, output_linear_bound=bound)\n",
    "            \n",
    "            NN.Train(init_cwise_step=0.001, method=\"Rprop\", times= 40, max_move=0.1, is_termination=False)\n",
    "        \n",
    "        for l in range(NN.GetNumHiddenLayers()):\n",
    "            NN.UnitsModify(layer_index=l, set_num_unit=num_units, output_linear_bound=bound)\n",
    "        \n",
    "        NN.Train(init_cwise_step=0.001, method=\"Rprop\", times= 40, max_move=0.1, is_termination=False)\n",
    "        record[timer, r] = NN.GetTestAccuracy()\n",
    "    \n",
    "    timer += 1\n",
    "    np.save(path + \"/timer.npy\", timer)\n",
    "    np.save(path + \"/record.npy\", record)\n",
    "    print(timer)"
   ]
  },
  {
   "cell_type": "code",
   "execution_count": 11,
   "metadata": {},
   "outputs": [
    {
     "data": {
      "text/plain": [
       "array([[0.8149, 0.86  , 0.8704, 0.8742, 0.8765, 0.8783, 0.8828, 0.8847,\n",
       "        0.886 , 0.8872, 0.8873],\n",
       "       [0.7606, 0.852 , 0.8626, 0.8667, 0.8701, 0.8729, 0.8754, 0.877 ,\n",
       "        0.8778, 0.88  , 0.8799],\n",
       "       [0.8007, 0.8517, 0.8717, 0.8778, 0.8808, 0.8852, 0.8884, 0.8918,\n",
       "        0.8935, 0.8945, 0.8944],\n",
       "       [0.7293, 0.8401, 0.8616, 0.8718, 0.8767, 0.8815, 0.8861, 0.8872,\n",
       "        0.8902, 0.8913, 0.8921],\n",
       "       [0.8026, 0.857 , 0.8639, 0.8697, 0.8766, 0.8812, 0.8831, 0.8875,\n",
       "        0.8885, 0.8903, 0.8916],\n",
       "       [0.7449, 0.8408, 0.8587, 0.8707, 0.8786, 0.8828, 0.8868, 0.8896,\n",
       "        0.8935, 0.8946, 0.8954],\n",
       "       [0.7955, 0.8662, 0.8791, 0.8819, 0.8862, 0.8881, 0.8892, 0.8905,\n",
       "        0.8928, 0.8932, 0.8928]])"
      ]
     },
     "execution_count": 11,
     "metadata": {},
     "output_type": "execute_result"
    }
   ],
   "source": [
    "record[:7]"
   ]
  }
 ],
 "metadata": {
  "kernelspec": {
   "display_name": "Python 3",
   "language": "python",
   "name": "python3"
  },
  "language_info": {
   "codemirror_mode": {
    "name": "ipython",
    "version": 3
   },
   "file_extension": ".py",
   "mimetype": "text/x-python",
   "name": "python",
   "nbconvert_exporter": "python",
   "pygments_lexer": "ipython3",
   "version": "3.6.4"
  }
 },
 "nbformat": 4,
 "nbformat_minor": 2
}
