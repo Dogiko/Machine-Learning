{
 "cells": [
  {
   "cell_type": "markdown",
   "metadata": {},
   "source": [
    "# Import"
   ]
  },
  {
   "cell_type": "code",
   "execution_count": 1,
   "metadata": {
    "collapsed": true
   },
   "outputs": [],
   "source": [
    "import numpy as np\n",
    "import random as rd"
   ]
  },
  {
   "cell_type": "markdown",
   "metadata": {},
   "source": [
    "# Define"
   ]
  },
  {
   "cell_type": "code",
   "execution_count": 8,
   "metadata": {
    "collapsed": false
   },
   "outputs": [],
   "source": [
    "class Sigmoid():\n",
    "    def trans(self, x):\n",
    "        out_put = np.zeros([len(x)])\n",
    "        for i in range(len(x)):\n",
    "            out_put[i] = 1 / (1 + np.exp(-x[i]))\n",
    "        \n",
    "        return out_put\n",
    "    \n",
    "    def diff(self, x):\n",
    "        out_put = np.zeros([len(x), len(x)])\n",
    "        for i in range(len(x)):\n",
    "            out_put[i][i] = 1 / (1 + np.exp(x[i])*(1 + np.exp(-x[i])))\n",
    "            \n",
    "        return out_put\n",
    "    \n",
    "class Identity():\n",
    "    def trans(self, x):\n",
    "        return x\n",
    "    \n",
    "    def diff(self, x):\n",
    "        return np.identity(len(x))\n",
    "\n",
    "class Layer():\n",
    "    def __init__(self, layers_from, nodes_n, active_function):\n",
    "        self.lf = layers_from # layers connected before\n",
    "        self.lt = [] # layers connected after\n",
    "        self.nodes_n = nodes_n\n",
    "        self.nodes_before = np.zeros([nodes_n])\n",
    "        self.nodes_after = np.zeros([nodes_n])\n",
    "        self.nodes_diff = np.zeros([nodes_n])\n",
    "        self.af = active_function\n",
    "    \n",
    "    def forward(self):\n",
    "        self.nodes_after = self.af.trans(self.nodes_before)\n",
    "    \n",
    "    def jacobi(self):\n",
    "        self.nodes_diff = self.af.diff(self.nodes_before)\n",
    "    \n",
    "class DogikoNN():\n",
    "    def __init__(self):\n",
    "        self.training_data = None\n",
    "        self.pp_linear = {\n",
    "            \"multi\" : None,\n",
    "            \"trans\" : None\n",
    "        } # pre-processing linear translation\n",
    "        self.layers = []\n",
    "    \n",
    "    def set_data(self, input_data, input_answer, input_weights = None):\n",
    "        # type input_data : numpy array\n",
    "        # type input_answer : numpy array\n",
    "        self.t_data = input_data\n",
    "        self.t_answer = input_answer\n",
    "        self.t_weights = input_weights\n",
    "        \n",
    "    def define_normalized(normalized_algorithm):\n",
    "        self.normal_alg = normalized_algorithm\n",
    "        \n",
    "    def insert_layer(layer):\n",
    "        self.layers.append(layer)\n",
    "        \n",
    "    def build():\n",
    "        "
   ]
  },
  {
   "cell_type": "code",
   "execution_count": null,
   "metadata": {
    "collapsed": true
   },
   "outputs": [],
   "source": []
  }
 ],
 "metadata": {
  "kernelspec": {
   "display_name": "Python 3",
   "language": "python",
   "name": "python3"
  },
  "language_info": {
   "codemirror_mode": {
    "name": "ipython",
    "version": 3
   },
   "file_extension": ".py",
   "mimetype": "text/x-python",
   "name": "python",
   "nbconvert_exporter": "python",
   "pygments_lexer": "ipython3",
   "version": "3.5.2"
  }
 },
 "nbformat": 4,
 "nbformat_minor": 2
}
