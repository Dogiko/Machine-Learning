{
 "cells": [
  {
   "cell_type": "markdown",
   "metadata": {},
   "source": [
    "# Import"
   ]
  },
  {
   "cell_type": "code",
   "execution_count": 1,
   "metadata": {
    "collapsed": true
   },
   "outputs": [],
   "source": [
    "import numpy as np\n",
    "import matplotlib.pyplot as plt"
   ]
  },
  {
   "cell_type": "markdown",
   "metadata": {},
   "source": [
    "# Define"
   ]
  },
  {
   "cell_type": "code",
   "execution_count": 57,
   "metadata": {
    "collapsed": false
   },
   "outputs": [],
   "source": [
    "def guess_square_error(input_answers, input_weights = None):\n",
    "    answers = np.array(input_answers, dtype = \"float64\") # formate float64\n",
    "    rowwise_mean = np.average(answers, axis = 0)\n",
    "    answers -= rowwise_mean\n",
    "    square_ans = answers * answers\n",
    "    if input_weights != None:\n",
    "        for w in range(len(input_weights)):\n",
    "            square_ans[w] *= input_weights[w]\n",
    "    \n",
    "    return square_ans.sum()\n",
    "\n",
    "class SingleEntryMatrix():\n",
    "    def __init__(self, size):\n",
    "        self.elements = np.zeros(size + size, dtype = bool)\n",
    "        for i in range(size[0]):\n",
    "            for j in range(size[1]):\n",
    "                self.elements[i][j][i][j] = True\n",
    "\n",
    "class VariableArray():\n",
    "    def __init__(self, size, mean = 0., std = 1., work_components = 1., is_independent_learning = False):\n",
    "        self.size = size\n",
    "        self.values = np.random.normal(mean, std, size)\n",
    "        self.diff = np.zeros(size)\n",
    "        self.drop = np.ones(size, dtype = bool)\n",
    "        if work_components == 1:\n",
    "            self.work = np.ones(size, dtype = bool)\n",
    "        else:\n",
    "            self.work = (np.random.random(size) < work_components)\n",
    "        \n",
    "        self.values *= self.work\n",
    "        \n",
    "        if is_independent_learning:\n",
    "            self.eta_m = np.zeros(size)\n",
    "        else:\n",
    "            self.eta_m = None\n",
    "    \n",
    "    def move(self, eta = None):\n",
    "        if eta == None:\n",
    "            self.values += self.eta_m * self.diff * self.work\n",
    "        else:\n",
    "            self.values += eta * self.diff * self.work\n",
    "    \n",
    "    def zerodiff(self):\n",
    "        self.diff *= 0.\n",
    "    \n",
    "    def set_drop(self, rate):\n",
    "        self.drop = (np.random.random(size) < rate)\n",
    "\n",
    "class Sigmoid():\n",
    "    def set_dim(self, domain_dim):\n",
    "        self.dd = domain_dim # domain dimension\n",
    "        self.cd = domain_dim # codomain dimension\n",
    "    \n",
    "    def trans(self, x):\n",
    "        return 1. / (1. + np.exp(-x))\n",
    "    \n",
    "    def diff(self, x):            \n",
    "        return np.diag(1. / (np.exp(x) + np.exp(-x) + 2.))\n",
    "\n",
    "class Identity():\n",
    "    def set_dim(self, domain_dim):\n",
    "        self.dd = domain_dim # domain dimension\n",
    "        self.cd = domain_dim # codomain dimension\n",
    "    \n",
    "    def trans(self, x):\n",
    "        return x\n",
    "    \n",
    "    def diff(self, x):\n",
    "        return np.identity(self.dd)\n",
    "\n",
    "class Layer():\n",
    "    def __init__(self, layers_from, nodes_n, active_function):\n",
    "        self.lf = layers_from # list :layers connected before\n",
    "        self.lt = [] # layers connected to\n",
    "        self.in_d = nodes_n\n",
    "        self.weights = {}\n",
    "        self.bias = VariableArray([self.in_d])\n",
    "        self.backwards = {}\n",
    "        self.af = active_function\n",
    "        self.af.set_dim(self.in_d)\n",
    "        self.out_d = self.af.cd\n",
    "        self.nodes_input = np.zeros([self.in_d])\n",
    "        self.output = np.zeros([self.out_d])\n",
    "        self.af_diff = np.zeros([self.out_d, self.in_d])\n",
    "    \n",
    "    def forward(self):\n",
    "        self.output = self.af.trans(self.nodes_input)\n",
    "    \n",
    "    def jacobi(self):\n",
    "        self.af_diff = self.af.diff(self.nodes_input)\n",
    "\n",
    "class DogikoNN():\n",
    "    def __init__(self):\n",
    "        self.pp_linear = {\n",
    "            \"multi\" : None,\n",
    "            \"trans\" : None\n",
    "        } # pre-processing linear translation\n",
    "        self.flow = []\n",
    "        self.layers = {}\n",
    "    \n",
    "    def set_training_data(self, input_datas, input_answers, input_weights = None):\n",
    "        # type input_data : numpy array\n",
    "        # type input_answer : numpy array\n",
    "        self.t_datas = input_datas\n",
    "        self.t_answers = input_answers\n",
    "        self.t_weights = input_weights\n",
    "        self.single_data_size = self.t_datas.shape[1:]\n",
    "        self.answer_size = self.t_answers.shape[1:]\n",
    "        if self.t_weights == None:\n",
    "            self.t_square_error = guess_square_error(self.t_answers)\n",
    "        else:\n",
    "            self.t_square_error = guess_square_error(self.t_answers, self.t_weights)\n",
    "        \n",
    "        if self.t_square_error == 0:\n",
    "            self.t_square_error = 1\n",
    "            print (\"all training data has same result, can't normalize error\")\n",
    "    \n",
    "    def set_validating_data(self, input_datas, input_answers, input_weights = None):\n",
    "        # type input_data : numpy array\n",
    "        # type input_answer : numpy array\n",
    "        if input_datas.shape[1:] != self.single_data_size:\n",
    "            print (\"Size of datas should be the same as training data, must set_training_data before set_validating_data!\")\n",
    "        \n",
    "        if input_answers.shape[1:] != self.answer_size:\n",
    "            print (\"Size of answers should be the same as training data, must set_training_data before set_validating_data!\")\n",
    "        \n",
    "        self.v_datas = input_datas\n",
    "        self.v_answers = input_answers\n",
    "        self.v_weights = input_weights\n",
    "        if self.v_weights == None:\n",
    "            self.v_square_error = guess_square_error(self.v_answers)\n",
    "        else:\n",
    "            self.v_square_error = guess_square_error(self.v_answers, self.v_weights)\n",
    "        \n",
    "        if self.v_square_error == 0:\n",
    "            self.v_square_error = 1\n",
    "            print (\"all validating data has same result, can't normalize error\")\n",
    "    \n",
    "    def define_normalization(self, normalized_algorithm):\n",
    "        self.normal_alg = normalized_algorithm\n",
    "    \n",
    "    def normalized(self, input_datas):\n",
    "        return (input_datas - self.pp_linear[\"trans\"]) * self.pp_linear[\"multi\"]\n",
    "    \n",
    "    def layers_clear(self):\n",
    "        self.layers = {}\n",
    "        \n",
    "    def insert_layer(self, name, layer, is_flow_add = True):\n",
    "        self.layers[name] = layer\n",
    "        if is_flow_add:\n",
    "            self.flow.append(name)\n",
    "        \n",
    "    def build(self):\n",
    "        if self.normal_alg == \"normal\":            \n",
    "            self.pp_linear[\"trans\"] = np.average(self.t_datas, axis=0)\n",
    "            \n",
    "            temp_std = np.std(self.t_datas, axis=0)\n",
    "            temp_std[temp_std == 0] = 1\n",
    "            self.pp_linear[\"multi\"] = 1 / temp_std\n",
    "        else:\n",
    "            print (\"unacceptable normalized_algorithm\")\n",
    "            return (\"unacceptable normalized_algorithm\")\n",
    "        \n",
    "        self.n_t_datas = self.normalized(self.t_datas)\n",
    "        self.n_v_datas = self.normalized(self.v_datas)\n",
    "        if len(self.flow) != len(set(self.flow)):\n",
    "            print (\"each element in .flow should be unique (layer name)\")\n",
    "            return (\"each element in .flow should be unique (layer name)\")\n",
    "        \n",
    "        self.single_entry_matrix = {}\n",
    "        for l in range(len(self.flow)):\n",
    "            ln = self.flow[l]\n",
    "            self.layers[ln].lt = []\n",
    "            for lnf in self.layers[ln].lf:\n",
    "                if lnf == \"input source\":\n",
    "                    self.layers[ln].weights[lnf] = VariableArray((self.layers[ln].in_d, ) + self.single_data_size)\n",
    "                    self.layers[ln].backwards[lnf] = np.zeros(self.single_data_size)\n",
    "                elif lnf not in self.layers:\n",
    "                    print (\"layer \" + lnf + \" doesn't exist!\")\n",
    "                else:\n",
    "                    if self.flow.index(lnf) > l:\n",
    "                        print (\"layer \" + lnf + \" shoud work before layer \" + ln)\n",
    "                        return (\"layer \" + lnf + \" shoud work before layer \" + ln)\n",
    "                    \n",
    "                    self.layers[lnf].lt.append(ln)\n",
    "                    self.layers[ln].weights[lnf] = VariableArray((self.layers[ln].in_d, self.layers[lnf].out_d,))\n",
    "                    self.layers[ln].backwards[lnf] = np.zeros((self.layers[lnf].out_d))\n",
    "                \n",
    "                self.single_entry_matrix[self.layers[ln].weights[lnf].size] = SingleEntryMatrix(self.layers[ln].weights[lnf].size)\n",
    "        \n",
    "        self.layers[self.flow[-1]].lt.append(\"output result\")\n",
    "        \n",
    "        if self.layers[self.flow[-1]].out_d != self.answer_size[0]:\n",
    "            print (\"out put size of final layer should be the same with answer size\")\n",
    "            return (\"out put size of final layer should be the same with answer size\")\n",
    "    \n",
    "    def t_cost_greadient(self, predict, answer):\n",
    "        return (predict - answer) / self.t_square_error\n",
    "        \n",
    "    def forward_propagation(self, input_array):\n",
    "        for l in range(len(self.flow)):\n",
    "            ln = self.flow[l]\n",
    "            self.layers[ln].nodes_input *= 0.\n",
    "            for lnf in self.layers[ln].lf:\n",
    "                if lnf == \"input source\":\n",
    "                    self.layers[ln].nodes_input += self.layers[ln].weights[lnf].values.dot(input_array)\n",
    "                else:\n",
    "                    self.layers[ln].nodes_input += self.layers[ln].weights[lnf].values.dot(self.layers[lnf].output)\n",
    "            \n",
    "            self.layers[ln].nodes_input += self.layers[ln].bias.values\n",
    "            self.layers[ln].forward()\n",
    "            self.layers[ln].jacobi()\n",
    "            \n",
    "        return self.layers[self.flow[-1]].output\n",
    "    \n",
    "    def prediction(self, input_data):\n",
    "        temp_data = normalized(input_data)\n",
    "        output = np.zeros(input_data.shape[:1] + self.answer_size)\n",
    "        for d in range(input_data.shape[0]):\n",
    "            output[d] = self.forward_propagation(temp_data[d])\n",
    "        \n",
    "        return output\n",
    "    \n",
    "    def backward_propagation(self, data, answer, predict, cost_gradient, weight = None):     \n",
    "        if weight == None:\n",
    "            weight = 1.\n",
    "\n",
    "        for l in range(len(self.flow) - 1, -1, -1):\n",
    "            ln = self.flow[l]\n",
    "            temp_array = np.zeros((self.layers[ln].out_d))\n",
    "            for lnt in self.layers[ln].lt:\n",
    "                if lnt == \"output result\":\n",
    "                    temp_array += cost_gradient(predict, answer)\n",
    "                else:\n",
    "                    temp_array += self.layers[lnt].backward[ln]\n",
    "            \n",
    "            temp_array = temp_array.dot(self.layers[ln].af_diff)\n",
    "            self.layers[ln].bias.diff += weight * temp_array\n",
    "            for lnf in self.layers[ln].lf:\n",
    "                for i in range(self.layers[ln].weights[lnf].size[0]):\n",
    "                    for j in range(self.layers[ln].weights[lnf].size[1]):\n",
    "                        if self.layers[ln].weights[lnf].work[i][j] and self.layers[ln].weights[lnf].drop[i][j]:\n",
    "                            if lnf == \"input source\":\n",
    "                                self.layers[ln].weights[lnf].diff[i][j] += weight * temp_array.dot(\n",
    "                                    self.single_entry_matrix[self.layers[ln].weights[lnf].size].elements[i][j].dot(data)\n",
    "                                )\n",
    "                            else:\n",
    "                                self.layers[ln].weights[lnf].diff[i][j] += weight * temp_array.dot(\n",
    "                                    self.single_entry_matrix[self.layers[ln].weights[lnf].size].elements[i][j].dot(self.layers[lnf].output)\n",
    "                                )\n",
    "                \n",
    "                self.layers[ln].backwards[lnf] = temp_array.dot(self.layers[ln].weights[lnf].values)\n",
    "    \n",
    "    def var_zerodiff(self):\n",
    "        for l in range(len(self.flow)):\n",
    "            ln = self.flow[l]\n",
    "            self.layers[ln].bias.zerodiff()\n",
    "            for lnf in self.layers[ln].lf:\n",
    "                self.layers[ln].weights[lnf].zerodiff()\n",
    "    \n",
    "    def var_move(self, eta):\n",
    "        for l in range(len(self.flow)):\n",
    "            ln = self.flow[l]\n",
    "            self.layers[ln].bias.move(eta)\n",
    "            for lnf in self.layers[ln].lf:\n",
    "                self.layers[ln].weights[lnf].move(eta)\n",
    "    \n",
    "    def var_set_drop(self, rate):\n",
    "        for l in range(len(self.flow)):\n",
    "            ln = self.flow[l]\n",
    "            self.layers[ln].bias.set_drop(rate)\n",
    "            for lnf in self.layers[ln].lf:\n",
    "                self.layers[ln].weights[lnf].set_drop(rate)\n",
    "    \n",
    "    def single_batch(self, batch_datas, batch_answers, batch_weights = None, eta = None, g_change = None):\n",
    "        self.var_zerodiff()\n",
    "        batch_prediction = self.prediction(batch_datas)\n",
    "        if batch_weights == None:\n",
    "            for d in range(len(batch_datas)):\n",
    "                self.backward_propagation(batch_datas[d], batch_prediction[d], batch_answers[d], self.t_cost_greadient, weight = None)\n",
    "        else:\n",
    "            for d in range(len(batch_datas)):\n",
    "                self.backward_propagation(batch_datas[d], batch_prediction[d], batch_answers[d], self.t_cost_greadient, weight = batch_weights[d])\n",
    "        \n",
    "        self.var_move(eta)\n",
    "    \n",
    "    def single_epoch(self, batch_size, batchs_n = None, eta = None,  g_change = None, shuffle = False):\n",
    "        batchs_allowed = int(len(self.n_t_datas) / batch_size)\n",
    "        if batchs_allowed == 0:\n",
    "            print(\"batch size should smaller than testing data amount\")\n",
    "            return \"batch size should smaller than testing data amount\"\n",
    "        \n",
    "        if batchs_n == None:\n",
    "            batchs_n = batchs_allowed\n",
    "        \n",
    "        if shuffle:\n",
    "            pass\n",
    "        else:\n",
    "            for b in range(min(batchs_allowed, batchs_n)):\n",
    "                batch_datas = self.n_t_datas[b * batch_size:(b+1) * batch_size]\n",
    "                batch_answers = self.t_answers[b * batch_size:(b+1) * batch_size]\n",
    "                if self.t_weights != None:\n",
    "                    batch_weights = self.t_weights[b * batch_size:(b+1) * batch_size]\n",
    "                else:\n",
    "                    batch_weights = None\n",
    "                \n",
    "                self.single_batch(batch_datas, batch_answers, batch_weights, eta = eta, g_change = g_change)\n",
    "    \n",
    "    def validating_error(self):\n",
    "        temp_prediction = self.prediction(self.v_datas)\n",
    "        temp_diff = temp_prediction - self.v_answers\n",
    "        temp_sqr = temp_diff*temp_diff\n",
    "        if self.v_weights != None:\n",
    "            for d in range(temp_sqr.shape[0]):\n",
    "                temp_sqr[d] *= self.v_weights[d]\n",
    "        \n",
    "        output = temp_sqr.sum()/self.v_square_error\n",
    "        return output"
   ]
  },
  {
   "cell_type": "markdown",
   "metadata": {},
   "source": [
    "# example\n",
    "Use 1 layer linear model predict sin-wave superposition with some noise"
   ]
  },
  {
   "cell_type": "code",
   "execution_count": 235,
   "metadata": {
    "collapsed": false
   },
   "outputs": [],
   "source": [
    "lms_NN = DogikoNN()\n",
    "\n",
    "pre_d = np.zeros([400])\n",
    "for i in range(400):\n",
    "    pre_d[i] = np.sin(np.pi * i /20) + np.sin(np.pi * i /13)\n",
    "\n",
    "pre_d += (0.1 * np.random.rand(400) - 0.05)\n",
    "\n",
    "try_data = np.zeros([395, 4])\n",
    "try_answer = np.zeros([395, 1])\n",
    "for i in range(395):\n",
    "    try_data[i] = pre_d[i:i+4]\n",
    "    try_answer[i] = pre_d[i+4:i+5]\n",
    "\n",
    "lms_NN.set_training_data(try_data, try_answer)\n",
    "lms_NN.set_validating_data(try_data, try_answer)\n",
    "\n",
    "lms_NN.define_normalization(\"normal\")\n",
    "\n",
    "lms_NN.insert_layer(\n",
    "    'A',\n",
    "    Layer(\n",
    "        layers_from = [\"input source\"],\n",
    "        nodes_n = 1,\n",
    "        active_function = Identity()\n",
    "    )\n",
    ")\n",
    "\n",
    "lms_NN.build()\n"
   ]
  },
  {
   "cell_type": "code",
   "execution_count": 245,
   "metadata": {
    "collapsed": false,
    "scrolled": true
   },
   "outputs": [
    {
     "name": "stdout",
     "output_type": "stream",
     "text": [
      "100 0.0040473280058\n",
      "200 0.00392645719023\n",
      "300 0.00382805312542\n",
      "400 0.00374794513498\n",
      "500 0.00368273631458\n",
      "600 0.00362966001391\n",
      "700 0.00358646293579\n",
      "800 0.00355130991569\n",
      "900 0.0035227063612\n",
      "1000 0.00349943507614\n"
     ]
    }
   ],
   "source": [
    "for t in range(1000):\n",
    "    lms_NN.single_epoch(79, eta = 1)\n",
    "    if (t+1) % 100 == 0:\n",
    "        print(t + 1, lms_NN.validating_error())"
   ]
  },
  {
   "cell_type": "code",
   "execution_count": 246,
   "metadata": {
    "collapsed": false
   },
   "outputs": [],
   "source": [
    "predict_data = np.zeros([395,4])\n",
    "for i in range(395):\n",
    "    predict_data[i] = pre_d[i:i + 4]"
   ]
  },
  {
   "cell_type": "code",
   "execution_count": 247,
   "metadata": {
    "collapsed": false,
    "scrolled": true
   },
   "outputs": [
    {
     "data": {
      "image/png": "[encoded data removed]",
      "text/plain": [
       "<matplotlib.figure.Figure at 0x10922cbe0>"
      ]
     },
     "metadata": {},
     "output_type": "display_data"
    }
   ],
   "source": [
    "ans = lms_NN.prediction(predict_data)\n",
    "plt.plot(ans.reshape(395), \"-r\", pre_d[4:], \"-b\")\n",
    "plt.show()"
   ]
  },
  {
   "cell_type": "markdown",
   "metadata": {
    "collapsed": true
   },
   "source": [
    "# example 2\n",
    "## weight test\n",
    "\n",
    "random 0, 1 answer on $[-2, 2]$\n",
    "\n",
    "set weight = 0 on $[-2, 2]$\n",
    "\n",
    "compare weighted and non-weighted model"
   ]
  },
  {
   "cell_type": "code",
   "execution_count": 258,
   "metadata": {
    "collapsed": false
   },
   "outputs": [
    {
     "data": {
      "image/png": "[encoded data removed]",
      "text/plain": [
       "<matplotlib.figure.Figure at 0x1093995c0>"
      ]
     },
     "metadata": {},
     "output_type": "display_data"
    }
   ],
   "source": [
    "data = ((np.arange(800) - 400)/100).reshape(800,1)\n",
    "answer = np.zeros((800,1)) + (data > 2.) + ((abs(data) < 2.) * np.random.randint(0,2, (800,1)))\n",
    "weight = np.zeros((800)) + (abs(data.reshape(800)) > 2.)\n",
    "\n",
    "\n",
    "plt.plot(data.reshape(800), answer.reshape(800), \"--r\")\n",
    "plt.show()"
   ]
  },
  {
   "cell_type": "code",
   "execution_count": 259,
   "metadata": {
    "collapsed": false
   },
   "outputs": [
    {
     "name": "stderr",
     "output_type": "stream",
     "text": [
      "/usr/local/lib/python3.5/site-packages/ipykernel/__main__.py:109: FutureWarning: comparison to `None` will result in an elementwise object comparison in the future.\n",
      "/usr/local/lib/python3.5/site-packages/ipykernel/__main__.py:6: FutureWarning: comparison to `None` will result in an elementwise object comparison in the future.\n",
      "/usr/local/lib/python3.5/site-packages/ipykernel/__main__.py:130: FutureWarning: comparison to `None` will result in an elementwise object comparison in the future.\n"
     ]
    }
   ],
   "source": [
    "model = DogikoNN()\n",
    "w_model = DogikoNN()\n",
    "\n",
    "model.set_training_data(data, answer)\n",
    "model.set_validating_data(data, answer)\n",
    "model.define_normalization(\"normal\")\n",
    "model.insert_layer(\n",
    "    \"A\",\n",
    "    Layer(\n",
    "        layers_from=[\"input source\"],\n",
    "        nodes_n=1,\n",
    "        active_function=Sigmoid()\n",
    "    )\n",
    ")\n",
    "\n",
    "model.build()\n",
    "\n",
    "w_model.set_training_data(data, answer, weight)\n",
    "w_model.set_validating_data(data, answer, weight)\n",
    "w_model.define_normalization(\"normal\")\n",
    "w_model.insert_layer(\n",
    "    \"A\",\n",
    "    Layer(\n",
    "        layers_from=[\"input source\"],\n",
    "        nodes_n=1,\n",
    "        active_function=Sigmoid()\n",
    "    )\n",
    ")\n",
    "w_model.build()"
   ]
  },
  {
   "cell_type": "code",
   "execution_count": 260,
   "metadata": {
    "collapsed": false
   },
   "outputs": [
    {
     "name": "stdout",
     "output_type": "stream",
     "text": [
      "10 0.666538746909\n",
      "20 0.689869996396\n",
      "30 0.703161161401\n",
      "40 0.711866208166\n",
      "50 0.718048826533\n",
      "60 0.722676013818\n",
      "70 0.726267537957\n",
      "80 0.72913054104\n",
      "90 0.731459546809\n",
      "100 0.733384450967\n"
     ]
    },
    {
     "data": {
      "image/png": "[encoded data removed]",
      "text/plain": [
       "<matplotlib.figure.Figure at 0x1099d1a90>"
      ]
     },
     "metadata": {},
     "output_type": "display_data"
    }
   ],
   "source": [
    "for t in range(100):\n",
    "    model.single_epoch(800, eta = 1)\n",
    "    if (t+1) % 10 == 0:\n",
    "        print(t + 1, model.validating_error())\n",
    "\n",
    "plt.plot(data, model.prediction(data))\n",
    "plt.show()"
   ]
  },
  {
   "cell_type": "code",
   "execution_count": 261,
   "metadata": {
    "collapsed": false,
    "scrolled": true
   },
   "outputs": [
    {
     "name": "stderr",
     "output_type": "stream",
     "text": [
      "/usr/local/lib/python3.5/site-packages/ipykernel/__main__.py:301: FutureWarning: comparison to `None` will result in an elementwise object comparison in the future.\n",
      "/usr/local/lib/python3.5/site-packages/ipykernel/__main__.py:277: FutureWarning: comparison to `None` will result in an elementwise object comparison in the future.\n",
      "/usr/local/lib/python3.5/site-packages/ipykernel/__main__.py:312: FutureWarning: comparison to `None` will result in an elementwise object comparison in the future.\n"
     ]
    },
    {
     "name": "stdout",
     "output_type": "stream",
     "text": [
      "10 0.00142955031016\n",
      "20 0.000366159123865\n",
      "30 0.000178951840063\n",
      "40 0.00010996335328\n",
      "50 7.60396072817e-05\n",
      "60 5.65125819618e-05\n",
      "70 4.40918172036e-05\n",
      "80 3.56254327161e-05\n",
      "90 2.9553855193e-05\n",
      "100 2.50270284427e-05\n"
     ]
    },
    {
     "data": {
      "image/png": "[encoded data removed]",
      "text/plain": [
       "<matplotlib.figure.Figure at 0x10817ffd0>"
      ]
     },
     "metadata": {},
     "output_type": "display_data"
    }
   ],
   "source": [
    "for t in range(100):\n",
    "    w_model.single_epoch(800, eta = 1)\n",
    "    if (t+1) % 10 == 0:\n",
    "        print(t + 1, w_model.validating_error())\n",
    "\n",
    "plt.plot(data, w_model.prediction(data))\n",
    "plt.show()"
   ]
  },
  {
   "cell_type": "code",
   "execution_count": 13,
   "metadata": {
    "collapsed": true
   },
   "outputs": [],
   "source": [
    "test_NN =DogikoNN()\n",
    "feature = np.array([[0.],[2.]])\n",
    "result = np.array([[2.],[0.]])\n",
    "\n",
    "test_NN.set_training_data(feature, result)\n",
    "test_NN.set_validating_data(feature, result)\n",
    "\n",
    "test_NN.define_normalization(\"normal\")\n",
    "test_NN.insert_layer(\n",
    "    \"A\",\n",
    "    Layer(\n",
    "        layers_from=[\"input source\"],\n",
    "        nodes_n=1,\n",
    "        active_function=Identity()\n",
    "    )\n",
    ")"
   ]
  },
  {
   "cell_type": "code",
   "execution_count": 58,
   "metadata": {
    "collapsed": false
   },
   "outputs": [],
   "source": [
    "test_NN.build()"
   ]
  },
  {
   "cell_type": "code",
   "execution_count": 67,
   "metadata": {
    "collapsed": false
   },
   "outputs": [
    {
     "data": {
      "text/plain": [
       "array([[ 1.00091364],\n",
       "       [-0.87469854]])"
      ]
     },
     "execution_count": 67,
     "metadata": {},
     "output_type": "execute_result"
    }
   ],
   "source": [
    "test_NN.prediction(test_NN.v_datas)"
   ]
  },
  {
   "cell_type": "code",
   "execution_count": 62,
   "metadata": {
    "collapsed": false
   },
   "outputs": [
    {
     "data": {
      "text/plain": [
       "0.88163554136239908"
      ]
     },
     "execution_count": 62,
     "metadata": {},
     "output_type": "execute_result"
    }
   ],
   "source": [
    "test_NN.validating_error()"
   ]
  },
  {
   "cell_type": "code",
   "execution_count": 61,
   "metadata": {
    "collapsed": true
   },
   "outputs": [],
   "source": [
    "test_NN.single_epoch(2,eta=0.5)"
   ]
  },
  {
   "cell_type": "code",
   "execution_count": 63,
   "metadata": {
    "collapsed": false
   },
   "outputs": [
    {
     "data": {
      "text/plain": [
       "array([[-0.93780609]])"
      ]
     },
     "execution_count": 63,
     "metadata": {},
     "output_type": "execute_result"
    }
   ],
   "source": [
    "test_NN.layers[\"A\"].weights[\"input source\"].values"
   ]
  },
  {
   "cell_type": "code",
   "execution_count": 64,
   "metadata": {
    "collapsed": false
   },
   "outputs": [
    {
     "data": {
      "text/plain": [
       "array([ 1.00091364])"
      ]
     },
     "execution_count": 64,
     "metadata": {},
     "output_type": "execute_result"
    }
   ],
   "source": [
    "test_NN.layers[\"A\"].bias.values"
   ]
  },
  {
   "cell_type": "code",
   "execution_count": null,
   "metadata": {
    "collapsed": true
   },
   "outputs": [],
   "source": []
  }
 ],
 "metadata": {
  "kernelspec": {
   "display_name": "Python 3",
   "language": "python",
   "name": "python3"
  },
  "language_info": {
   "codemirror_mode": {
    "name": "ipython",
    "version": 3
   },
   "file_extension": ".py",
   "mimetype": "text/x-python",
   "name": "python",
   "nbconvert_exporter": "python",
   "pygments_lexer": "ipython3",
   "version": "3.5.2"
  }
 },
 "nbformat": 4,
 "nbformat_minor": 2
}
