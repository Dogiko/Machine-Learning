{
 "cells": [
  {
   "cell_type": "markdown",
   "metadata": {},
   "source": [
    "# Import"
   ]
  },
  {
   "cell_type": "code",
   "execution_count": 18,
   "metadata": {
    "collapsed": true
   },
   "outputs": [],
   "source": [
    "import numpy as np\n",
    "import matplotlib.pyplot as plt\n",
    "from scipy.special import expit"
   ]
  },
  {
   "cell_type": "markdown",
   "metadata": {},
   "source": [
    "# Define"
   ]
  },
  {
   "cell_type": "code",
   "execution_count": 35,
   "metadata": {
    "collapsed": true
   },
   "outputs": [],
   "source": [
    "def array_sign(array):\n",
    "    # return +1, 0, -1 respect to positive, zero, negtive\n",
    "    return 1.*(array>0) - 1.*(array<0)\n",
    "\n",
    "class VariableArray():\n",
    "    def __init__(self, size, cs_initial=0.01):\n",
    "        self.v = np.random.normal(0., 1., size) # array values\n",
    "        self.td = np.zeros(self.v.shape) # total derivative, used to descent\n",
    "        self.ltd = None # last total derivative\n",
    "        self.m = np.zeros(self.v.shape) # moving array\n",
    "        self.cs = cs_initial*np.ones(self.v.shape) # component-wise step\n",
    "        self.work = np.ones(self.v.shape) # working components, defult to be fully connected\n",
    "    \n",
    "    def assign_values(self, values, cs_initial=0.01):\n",
    "        self.v = values\n",
    "        self.td = np.zeros(self.v.shape)\n",
    "        self.ltd = None\n",
    "        self.m = np.zeros(self.v.shape)\n",
    "        self.cs = cs_initial*np.ones(self.v.shape)\n",
    "        self.work = np.ones(self.v.shape)\n",
    "    \n",
    "    def derivative_assign(self, values):\n",
    "        if values.shape != self.td.shape:\n",
    "            raise ValueError(\"values shape error\")\n",
    "        \n",
    "        self.ltd = np.array(self.td)\n",
    "        self.td = values\n",
    "    \n",
    "    def max_cs(self):\n",
    "        return self.cs.max()\n",
    "    \n",
    "    def descent(self, step = 1., descent_method = \"normal\", regularizer = (\"None\",),step_max=1., step_min=0.000001):\n",
    "        if regularizer[0] == \"r_square\":\n",
    "            self.td += regularizer[1] * self.v\n",
    "        \n",
    "        if descent_method == \"normal\":\n",
    "            self.m = np.array(self.td)\n",
    "            self.v -= step * self.m * self.work\n",
    "        elif descent_method == \"Rprop\":\n",
    "            self.m = array_sign(self.td)\n",
    "            if type(self.ltd) != type(None):\n",
    "                self.cs *= 0.7*(self.td*self.ltd>0) +0.5 # 1.2 for positive, 0.5 for non-positive\n",
    "            \n",
    "            self.cs = self.cs * (self.cs < step_max) * (self.cs > step_min)+ step_max*(self.cs >= step_max) + step_min*(self.cs <= step_min)\n",
    "            self.v -= self.cs * self.m * self.work\n",
    "        elif descent_method == \"Dogiko Rprop\":\n",
    "            self.m = array_sign(self.td)\n",
    "            if type(self.ltd) != type(None):\n",
    "                step_change = 1.2*(self.td*self.ltd>0.) + 1.*(self.td*self.ltd==0.) + 1.*(self.td==self.ltd)\n",
    "                step_change[step_change == 0.] = self.td[step_change == 0.]/(self.ltd-self.td)[step_change == 0.]\n",
    "                step_change[step_change < 0.3] = 0.3\n",
    "                self.cs *= step_change\n",
    "            \n",
    "            self.cs = self.cs * (self.cs < step_max) * (self.cs > step_min)+ step_max*(self.cs >= step_max) + step_min*(self.cs <= step_min)\n",
    "            self.v -= self.cs * self.m * self.work\n",
    "\n",
    "# Activation functions defined start\n",
    "\n",
    "class Identity():\n",
    "    def trans(self, x):\n",
    "        return x\n",
    "    \n",
    "    def diff(self, x):\n",
    "        return np.ones(x.shape, dtype = np.float64)\n",
    "\n",
    "class Sigmoid():\n",
    "    def trans(self, x):\n",
    "        return expit(x)\n",
    "    \n",
    "    def diff(self, x):\n",
    "        return expit(x)*expit(-x)\n",
    "\n",
    "class Hypertan():\n",
    "    def trans(self, x):\n",
    "        return np.tanh(x)\n",
    "    \n",
    "    def diff(self, x):\n",
    "        return 1. / np.square(np.cosh(x))\n",
    "\n",
    "class Relu():\n",
    "    def trans(self, x):\n",
    "        return x*(x>0)\n",
    "    \n",
    "    def diff(self, x):\n",
    "        return 1.*(x>0)\n",
    "\n",
    "class LeakyRelu():\n",
    "    def __init__(self, alpha = 0.1):\n",
    "        self.alpha = alpha\n",
    "    \n",
    "    def trans(self, x):\n",
    "        return x*(x>0) + self.alpha*x*(x<0)\n",
    "    \n",
    "    def diff(self, x):\n",
    "        return 1.*(x>0) + self.alpha*(x<0)\n",
    "\n",
    "class SoftPlus():\n",
    "    def trans(self, x):\n",
    "        return np.log(1. + np.exp(x))\n",
    "    \n",
    "    def diff(self, x):\n",
    "        return expit(x)\n",
    "\n",
    "class Selu():\n",
    "    def __init__(self):\n",
    "        self.ahpha = 1.05071\n",
    "        self.beta = 1.67326\n",
    "    \n",
    "    def trans(self, x):\n",
    "        return self.ahpha*(x*(x>0) + self.beta*(np.exp(x) - 1)*(x<0))\n",
    "    \n",
    "    def diff(self, x):\n",
    "        return self.ahpha*((x>0) + self.beta*np.exp(x)*(x<0))\n",
    "\n",
    "# Activation functions defined end\n",
    "\n",
    "class Layer():\n",
    "    def __init__(self, neuron_n, activation_function):\n",
    "        self.nn = neuron_n\n",
    "        self.af = activation_function\n",
    "        self.w = VariableArray((self.nn, 0)) # linear weights working before active function\n",
    "        self.b = VariableArray((self.nn)) # bias working before active function\n",
    "        self.x = np.zeros((0, self.nn))\n",
    "        self.y = np.zeros((0, self.nn))\n",
    "    \n",
    "    def forward(self, _input):\n",
    "        temp_dn = _input.shape[1] # _input datum n\n",
    "        self.x = np.dot(self.w.v, _input) + self.b.v.repeat(temp_dn).reshape((self.nn, temp_dn))\n",
    "        self.y = self.af.trans(self.x)\n",
    "    \n",
    "    def backward(self, _input, source):\n",
    "        derivative = self.af.diff(self.x)*_input\n",
    "        self.w.derivative_assign(np.dot(derivative, source.T))\n",
    "        self.b.derivative_assign(np.sum(derivative, axis=1))\n",
    "        derivative = np.dot(derivative.T, self.w.v)\n",
    "        return derivative.T\n",
    "    \n",
    "    def descent(self, step, descent_method, regularizer):\n",
    "        self.w.descent(step, descent_method, regularizer)\n",
    "        self.b.descent(step, descent_method, regularizer)\n",
    "\n",
    "class DogikoLearn():\n",
    "    def __init__(self, loss_function = \"r2\"):\n",
    "        self.lf = loss_function # loss function type\n",
    "        self.ly = [] # layers list\n",
    "        self.rg = (\"None\",) # Regularizetion method\n",
    "    \n",
    "    def r_square_regularizer(self, alpha):\n",
    "        # Assign regularization method as radius square\n",
    "        # i.e Error += alpha*0.5sum(weight**2) when descent\n",
    "        self.rg = (\"r_square\", alpha)\n",
    "    \n",
    "    def set_training_data(self, training_input, training_labels):\n",
    "        self.tx = np.array(training_input) # training data input\n",
    "        self.ty = np.array(training_labels) # training data lables(answers)\n",
    "        if self.tx.shape[0] != self.ty.shape[0]:\n",
    "            temp_min = min(self.tx.shape[0], self.ty.shape[0])\n",
    "            self.tx = self.tx[:temp_min]\n",
    "            self.ty = self.ty[:temp_min]\n",
    "            print(\"training data #input != #output, took the minimun size automatically\")\n",
    "        \n",
    "        self.xs = self.tx.shape[1] # size of each datum input\n",
    "        self.ys = self.ty.shape[1] # size of each datum output\n",
    "    \n",
    "    def set_validating_data(self, validating_input, validating_labels):\n",
    "        self.vx = np.array(validating_input) # validating data input\n",
    "        self.vy = np.array(validating_labels) # validating data lables(answers)\n",
    "        if self.vx.shape[1] != self.xs:\n",
    "            raise ValueError(\"validating data input size should be equal to training data\")\n",
    "        \n",
    "        if self.vy.shape[1] != self.ys:\n",
    "            raise ValueError(\"validating data lables size should be equal to training data\")\n",
    "    \n",
    "    def add_layer(self, new_layer):\n",
    "        self.ly.append(new_layer)\n",
    "    \n",
    "    def assign_regularizer(self, method):\n",
    "        self.rg = method\n",
    "    \n",
    "    def build(self):\n",
    "        self.ln = len(self.ly) # amount of layers\n",
    "        self.ly[0].w.assign_values(np.random.normal(0., 1., (self.ly[0].nn, self.xs)))\n",
    "        self.ly[0].b.assign_values(np.random.normal(0., 1., (self.ly[0].nn)))\n",
    "        for l in range(1,self.ln):\n",
    "            self.ly[l].w.assign_values(np.random.normal(0., 1., (self.ly[l].nn, self.ly[l-1].nn)))\n",
    "            self.ly[l].b.assign_values(np.random.normal(0., 1., (self.ly[l].nn)))\n",
    "        \n",
    "        if self.ly[-1].nn != self.ys: # cheak output size\n",
    "            raise ValueError(\"output layer must has the same size with datum lables(answer)\")\n",
    "    \n",
    "    def prediction(self, data_input):\n",
    "        self.px = np.array(data_input) # prediction data input of last time predic\n",
    "        if self.px.shape[1] != self.xs:\n",
    "            raise ValueError(\"datum size error\")\n",
    "        \n",
    "        self.ly[0].forward(self.px.T)\n",
    "        for l in range(1,self.ln):\n",
    "            self.ly[l].forward(self.ly[l-1].y)\n",
    "        \n",
    "        self.py = self.ly[l].y.T # prediction result of last time predict\n",
    "    \n",
    "    def descent(self, step = 1., descent_method = \"normal\"):\n",
    "        for l in range(self.ln):\n",
    "            self.ly[l].descent(step, descent_method, self.rg)\n",
    "        \n",
    "        if descent_method in [\"Rprop\", \"Dogiko Rprop\"]:\n",
    "            self.max_cs = 0.\n",
    "            for l in range(self.ln):\n",
    "                self.max_cs = max(self.max_cs, self.ly[l].w.max_cs(), self.ly[l].b.max_cs())\n",
    "    \n",
    "    def batch_fit(self, batch_input, batch_labels, step = 1., descent_method = \"normal\"):\n",
    "        self.prediction(batch_input)\n",
    "        if self.lf == \"r2\":\n",
    "            temp_derivative = 2*(self.py - batch_labels).T/(batch_labels.shape[0]*batch_labels.var(axis=0).sum())\n",
    "        \n",
    "        for l in range(self.ln-1, 0, -1):\n",
    "            temp_derivative = self.ly[l].backward(temp_derivative, self.ly[l-1].y)\n",
    "        \n",
    "        self.ly[0].backward(temp_derivative, batch_input.T)\n",
    "        self.descent(step, descent_method)\n",
    "    \n",
    "    def validate(self):\n",
    "        self.prediction(self.vx)\n",
    "        if self.lf == \"r2\":\n",
    "            return np.square(self.py - self.vy).mean()/self.vy.var(axis=0).mean()\n"
   ]
  },
  {
   "cell_type": "markdown",
   "metadata": {},
   "source": [
    "# Example 1\n",
    "\n",
    "Fit $y = \\sin{x}$"
   ]
  },
  {
   "cell_type": "code",
   "execution_count": 23,
   "metadata": {
    "collapsed": true
   },
   "outputs": [],
   "source": [
    "X = (np.arange(81)/20) - 2\n",
    "X = X.reshape((81,1))\n",
    "Y = np.sin(2*X)"
   ]
  },
  {
   "cell_type": "code",
   "execution_count": 24,
   "metadata": {},
   "outputs": [
    {
     "name": "stdout",
     "output_type": "stream",
     "text": [
      "136\n",
      "0.00248797526079\n"
     ]
    },
    {
     "data": {
      "image/png": "[encoded data removed]",
      "text/plain": [
       "<matplotlib.figure.Figure at 0x1052f03c8>"
      ]
     },
     "metadata": {},
     "output_type": "display_data"
    }
   ],
   "source": [
    "NN = DogikoLearn()\n",
    "NN.set_training_data(X, Y)\n",
    "NN.set_validating_data(X, Y)\n",
    "NN.add_layer(Layer(100,Sigmoid()))\n",
    "NN.add_layer(Layer(1,Identity()))\n",
    "NN.build()\n",
    "\n",
    "counter = 0\n",
    "for i in range(1000):\n",
    "    NN.batch_fit(X,Y,step=0.02, descent_method=\"Dogiko Rprop\")\n",
    "    if NN.max_cs < 0.01:\n",
    "        counter +=1\n",
    "        if counter ==10:\n",
    "            print(i)\n",
    "            break\n",
    "    else:\n",
    "        counter =0\n",
    "\n",
    "print(NN.validate())\n",
    "\n",
    "plt.plot(X.reshape((81)), NN.py.reshape((81)), \"b\", X.reshape((81)), Y.reshape((81)))\n",
    "plt.show()"
   ]
  },
  {
   "cell_type": "markdown",
   "metadata": {
    "collapsed": true
   },
   "source": [
    "# Example 2\n",
    "\n",
    "Net-shape classification"
   ]
  },
  {
   "cell_type": "code",
   "execution_count": 36,
   "metadata": {},
   "outputs": [
    {
     "data": {
      "image/png": "[encoded data removed]",
      "text/plain": [
       "<matplotlib.figure.Figure at 0x100a17278>"
      ]
     },
     "metadata": {},
     "output_type": "display_data"
    }
   ],
   "source": [
    "X = np.array([np.arange(41).repeat(41), np.arange(41*41) % 41]).astype(np.float64)\n",
    "X -= 20.\n",
    "X /= 20.\n",
    "Y = (((X[0] + X[1] - 0.5) % 2.) > 1.) ^ (((X[0] - X[1] - 0.5) % 2.) > 1.)\n",
    "Y = Y.reshape((Y.shape + (1,))).astype(np.float64)\n",
    "X = X.T\n",
    "plt.figure(figsize=(5,5))\n",
    "plt.plot(X.T[0][Y.T[0] == 1], X.T[1][Y.T[0] == 1], \"bp\")\n",
    "plt.show()"
   ]
  },
  {
   "cell_type": "code",
   "execution_count": 41,
   "metadata": {},
   "outputs": [
    {
     "name": "stdout",
     "output_type": "stream",
     "text": [
      "0.164544531747\n",
      "0.203061771958\n",
      "0.0651110526985\n",
      "0.0130620754384\n",
      "0.0311964027934\n",
      "0.00652042477007\n",
      "0.0156235897608\n",
      "0.0156235897608\n",
      "0.0233342916053\n",
      "0.00864988997032\n",
      "0.00772336762424\n",
      "0.00427598786021\n",
      "0.00507127629178\n",
      "0.00308372231418\n",
      "0.00730263786017\n",
      "0.00186534011853\n",
      "0.00438871438561\n",
      "0.00258654019052\n",
      "1858\n"
     ]
    },
    {
     "data": {
      "text/plain": [
       "0.1064308394347788"
      ]
     },
     "execution_count": 41,
     "metadata": {},
     "output_type": "execute_result"
    }
   ],
   "source": [
    "NN = DogikoLearn()\n",
    "NN.r_square_regularizer(0.001)\n",
    "NN.set_training_data(X, Y)\n",
    "NN.set_validating_data(X, Y)\n",
    "NN.add_layer(Layer(30,Selu()))\n",
    "NN.add_layer(Layer(30,Selu()))\n",
    "NN.add_layer(Layer(1,Sigmoid()))\n",
    "NN.build()\n",
    "\n",
    "for i in range(10000):\n",
    "    NN.batch_fit(X,Y,step=0.01, descent_method=\"Dogiko Rprop\")\n",
    "    if NN.max_cs < 0.001:\n",
    "        print(i)\n",
    "        break\n",
    "    \n",
    "    if (i+1) % 100 == 0:\n",
    "        print(NN.max_cs)\n",
    "\n",
    "NN.validate()"
   ]
  },
  {
   "cell_type": "code",
   "execution_count": 13,
   "metadata": {},
   "outputs": [],
   "source": [
    "aa = (None,)"
   ]
  },
  {
   "cell_type": "code",
   "execution_count": 16,
   "metadata": {},
   "outputs": [
    {
     "name": "stdout",
     "output_type": "stream",
     "text": [
      "None\n"
     ]
    }
   ],
   "source": []
  },
  {
   "cell_type": "code",
   "execution_count": 12,
   "metadata": {},
   "outputs": [
    {
     "data": {
      "text/plain": [
       "'None'"
      ]
     },
     "execution_count": 12,
     "metadata": {},
     "output_type": "execute_result"
    }
   ],
   "source": []
  },
  {
   "cell_type": "code",
   "execution_count": null,
   "metadata": {
    "collapsed": true
   },
   "outputs": [],
   "source": []
  }
 ],
 "metadata": {
  "kernelspec": {
   "display_name": "Python 3",
   "language": "python",
   "name": "python3"
  },
  "language_info": {
   "codemirror_mode": {
    "name": "ipython",
    "version": 3
   },
   "file_extension": ".py",
   "mimetype": "text/x-python",
   "name": "python",
   "nbconvert_exporter": "python",
   "pygments_lexer": "ipython3",
   "version": "3.6.1"
  }
 },
 "nbformat": 4,
 "nbformat_minor": 2
}
