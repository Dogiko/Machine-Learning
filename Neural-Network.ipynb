{
 "cells": [
  {
   "cell_type": "markdown",
   "metadata": {},
   "source": [
    "# Import"
   ]
  },
  {
   "cell_type": "code",
   "execution_count": 1,
   "metadata": {
    "collapsed": true
   },
   "outputs": [],
   "source": [
    "import numpy as np\n",
    "import matplotlib.pyplot as plt\n",
    "from scipy.special import expit"
   ]
  },
  {
   "cell_type": "markdown",
   "metadata": {},
   "source": [
    "# Define"
   ]
  },
  {
   "cell_type": "code",
   "execution_count": 183,
   "metadata": {
    "collapsed": true
   },
   "outputs": [],
   "source": [
    "def array_sign(array):\n",
    "    # return +1, 0, -1 respect to positive, zero, negtive\n",
    "    return 1.*(array>0) - 1.*(array<0)\n",
    "\n",
    "def column_operate(matrix, thresh_hold = 0.001):\n",
    "    rm = np.array(matrix) # reduced matrix\n",
    "    fm = np.array(matrix) # filtered matrix\n",
    "    ms = matrix.shape # matrix size\n",
    "    mk = np.ones(matrix.shape) # mask\n",
    "    pv = -1*np.ones((ms[1]), dtype = np.int) # pivots\n",
    "    for t in range(ms[1]):\n",
    "        fm = rm*mk # filtered matrix\n",
    "        if np.abs(fm).max() < thresh_hold:\n",
    "            break\n",
    "        \n",
    "        pr, pc = np.unravel_index(np.abs(fm).argmax(), ms) # pivot row, pivot column\n",
    "        rm[:,pc] /= rm[pr][pc]\n",
    "        multi = np.array(rm[pr])\n",
    "        multi[pc] = 0.\n",
    "        rm -= np.dot(rm[:,pc].reshape((ms[0], 1)), multi.reshape((1, ms[1])))\n",
    "        mk[pr] = 0.\n",
    "        mk[:,pc] = 0.\n",
    "        pv[pc] = pr\n",
    "    \n",
    "    rm = rm[:, pv != -1]\n",
    "    pv = pv[pv != -1]\n",
    "    \n",
    "    return rm, pv\n",
    "\n",
    "def mcmc_normal(targets, drop_t = 10, mean=0., std=1.):\n",
    "    output = np.random.normal(mean, std, targets.shape[1:])\n",
    "    if drop_t>1:\n",
    "        for t in range(1, drop_t):\n",
    "            c = np.random.normal(mean, std, targets.shape[1:]) # candicate\n",
    "            cd = np.sqrt(np.square(np.subtract(targets, c)).sum(axis=tuple(np.arange(1,len(targets.shape)))).min())\n",
    "            # distance of candicate to target\n",
    "            od = np.sqrt(np.square(np.subtract(targets, output)).sum(axis=tuple(np.arange(1,len(targets.shape)))).min())\n",
    "            # distance of currently output to target\n",
    "            if np.random.rand()*od < cd:\n",
    "                output = np.array(c)\n",
    "    \n",
    "    return output\n",
    "\n",
    "class VariableArray():\n",
    "    def __init__(self, size, cs_initial=0.1):\n",
    "        self.v = np.random.normal(0., 1., size) # array values\n",
    "        self.td = np.zeros(self.v.shape) # total derivative, used to descent\n",
    "        self.ltd = None # last total derivative\n",
    "        self.m = np.zeros(self.v.shape) # moving array\n",
    "        self.cs = cs_initial*np.ones(self.v.shape) # component-wise step\n",
    "        self.work = np.ones(self.v.shape) # working components, defult to be fully connected\n",
    "    \n",
    "    def assign_values(self, values, cs_initial=0.1):\n",
    "        self.v = np.array(values)\n",
    "        self.td = np.zeros(self.v.shape)\n",
    "        self.ltd = None\n",
    "        self.m = np.zeros(self.v.shape)\n",
    "        self.cs = cs_initial*np.ones(self.v.shape)\n",
    "        self.work = np.ones(self.v.shape)\n",
    "    \n",
    "    def derivative_assign(self, values):\n",
    "        if values.shape != self.td.shape:\n",
    "            raise ValueError(\"values shape error\")\n",
    "        \n",
    "        self.ltd = np.array(self.td)\n",
    "        self.td = np.array(values)\n",
    "    \n",
    "    def add_row(self, new_row, cs_initial=0.1):\n",
    "        self.v = np.append(self.v, np.array([new_row]), axis = 0)\n",
    "        self.td = np.append(self.td, np.zeros((1,)+new_row.shape), axis = 0)\n",
    "        self.ltd = None\n",
    "        self.m = np.zeros(self.v.shape)\n",
    "        self.cs = np.append(self.cs, cs_initial*np.ones((1,)+new_row.shape), axis = 0)\n",
    "        self.work = np.ones(self.v.shape)\n",
    "    \n",
    "    def add_column(self, new_column, cs_initial=0.1):\n",
    "        self.v = np.append(self.v, np.array([new_column]).T, axis = 1)\n",
    "        self.td = np.append(self.td, np.zeros(new_column.shape + (1,)), axis = 1)\n",
    "        self.ltd = None\n",
    "        self.m = np.zeros(self.v.shape)\n",
    "        self.cs = np.append(self.cs, cs_initial*np.ones(new_column.shape + (1,)), axis = 1)\n",
    "        self.work = np.ones(self.v.shape)\n",
    "    \n",
    "    def max_cs(self):\n",
    "        return self.cs.max()\n",
    "    \n",
    "    def descent(self, step = 1., descent_method = \"normal\", regularizer = (\"None\",),step_max=1., step_min=0.000001):\n",
    "        if regularizer[0] == \"r_square\":\n",
    "            self.td += regularizer[1] * self.v\n",
    "        \n",
    "        if regularizer[0] == \"rs_extend\":\n",
    "            self.td += regularizer[1] * ((self.v>regularizer[2])*(self.v-regularizer[2]) + (self.v < -regularizer[2])*(self.v+regularizer[2]))\n",
    "        \n",
    "        if descent_method == \"normal\":\n",
    "            self.m = np.array(self.td)\n",
    "            self.v -= step * self.m * self.work\n",
    "        elif descent_method == \"Rprop\":\n",
    "            self.m = array_sign(self.td)\n",
    "            self.cs *= 1.2*(self.td*self.ltd>0) + 1.*(self.td*self.ltd==0) + 0.5*(self.td*self.ltd<0)\n",
    "            self.cs = self.cs * (self.cs < step_max) * (self.cs > step_min)+ step_max*(self.cs >= step_max) + step_min*(self.cs <= step_min)\n",
    "            self.v -= self.cs * self.m * self.work\n",
    "        elif descent_method == \"Dogiko Rprop\":\n",
    "            self.m = array_sign(self.td)\n",
    "            step_change = 1.2*(self.td*self.ltd>0.) + 1.*(self.td*self.ltd==0.) + 1.*(self.td==self.ltd)\n",
    "            step_change[step_change == 0.] = self.td[step_change == 0.]/(self.ltd-self.td)[step_change == 0.]\n",
    "            step_change[step_change < 0.1] = 0.1\n",
    "            self.cs *= step_change\n",
    "            \n",
    "            self.cs = self.cs * (self.cs < step_max) * (self.cs > step_min)+ step_max*(self.cs >= step_max) + step_min*(self.cs <= step_min)\n",
    "            self.v -= self.cs * self.m * self.work\n",
    "\n",
    "# Activation functions defined start\n",
    "\n",
    "class Identity():\n",
    "    def trans(self, x):\n",
    "        return x\n",
    "    \n",
    "    def diff(self, x):\n",
    "        return np.ones(x.shape, dtype = np.float64)\n",
    "\n",
    "class Sigmoid():\n",
    "    def trans(self, x):\n",
    "        return expit(x)\n",
    "    \n",
    "    def diff(self, x):\n",
    "        return expit(x)*expit(-x)\n",
    "\n",
    "class Hypertan():\n",
    "    def trans(self, x):\n",
    "        return np.tanh(x)\n",
    "    \n",
    "    def diff(self, x):\n",
    "        return 1. / np.square(np.cosh(x))\n",
    "\n",
    "class Relu():\n",
    "    def trans(self, x):\n",
    "        return x*(x>0)\n",
    "    \n",
    "    def diff(self, x):\n",
    "        return 1.*(x>0)\n",
    "\n",
    "class LeakyRelu():\n",
    "    def __init__(self, alpha = 0.1):\n",
    "        self.alpha = alpha\n",
    "    \n",
    "    def trans(self, x):\n",
    "        return x*(x>0) + self.alpha*x*(x<0)\n",
    "    \n",
    "    def diff(self, x):\n",
    "        return 1.*(x>0) + self.alpha*(x<0)\n",
    "\n",
    "class SoftPlus():\n",
    "    def trans(self, x):\n",
    "        return np.log(1. + np.exp(x))\n",
    "    \n",
    "    def diff(self, x):\n",
    "        return expit(x)\n",
    "\n",
    "class Selu():\n",
    "    def __init__(self):\n",
    "        self.ahpha = 1.05071\n",
    "        self.beta = 1.67326\n",
    "    \n",
    "    def trans(self, x):\n",
    "        return self.ahpha*(x*(x>0) + self.beta*(np.exp(x) - 1)*(x<0))\n",
    "    \n",
    "    def diff(self, x):\n",
    "        return self.ahpha*((x>0) + self.beta*np.exp(x)*(x<0))\n",
    "\n",
    "# Activation functions defined end\n",
    "\n",
    "class Layer():\n",
    "    def __init__(self, neuron_n, activation_function):\n",
    "        if type(activation_function) == type:\n",
    "            raise TypeError(\"activation_function should be a class. eg: Use 'Sigmoid()', not 'Sigmoid'\")\n",
    "        \n",
    "        self.nn = neuron_n\n",
    "        self.af = activation_function\n",
    "        self.w = VariableArray((self.nn, 0)) # linear weights working before active function\n",
    "        self.b = VariableArray((self.nn, 1)) # bias working before active function\n",
    "        self.x = np.zeros((0, self.nn))\n",
    "        self.y = np.zeros((0, self.nn))\n",
    "    \n",
    "    def forward(self, _input):\n",
    "        self.x = np.dot(self.w.v, _input) + self.b.v\n",
    "        self.y = self.af.trans(self.x)\n",
    "    \n",
    "    def backward(self, _input, source):\n",
    "        derivative = self.af.diff(self.x)*_input\n",
    "        self.w.derivative_assign(np.dot(derivative, source.T))\n",
    "        self.b.derivative_assign(np.sum(derivative, axis=1).reshape(derivative.shape[0], 1))\n",
    "        derivative = np.dot(derivative.T, self.w.v)\n",
    "        return derivative.T\n",
    "    \n",
    "    def descent(self, step, descent_method, regularizer):\n",
    "        self.w.descent(step, descent_method, regularizer)\n",
    "        self.b.descent(step, descent_method, regularizer)\n",
    "\n",
    "class DogikoLearn():\n",
    "    def __init__(self, loss_function = \"r2\"):\n",
    "        self.lf = loss_function # loss function type\n",
    "        self.ly = [] # layers list\n",
    "        self.rg = (\"None\",) # Regularizetion method\n",
    "        self.csi = 0.1 # initial component-wise step when claim new weights and bias\n",
    "    \n",
    "    def r_square_regularizer(self, alpha):\n",
    "        # Assign regularization method as radius square\n",
    "        # i.e Error += alpha*0.5*sum(weight**2) when descent\n",
    "        if alpha <= 0:\n",
    "            raise ValueError(\"Input should be positive\")\n",
    "        \n",
    "        self.rg = (\"r_square\", alpha)\n",
    "    \n",
    "    def rs_extend_regularizer(self, alpha, beta):\n",
    "        # Assign regularization method as radius square\n",
    "        # i.e Error += alpha*0.5sum(weight**2) when descent\n",
    "        if (alpha <= 0) or (alpha <= 0):\n",
    "            raise ValueError(\"All input should be positive\")\n",
    "        \n",
    "        self.rg = (\"rs_extend\", alpha, beta)\n",
    "    \n",
    "    def set_training_data(self, training_input, training_labels):\n",
    "        self.tx = np.array(training_input) # training data input\n",
    "        self.ty = np.array(training_labels) # training data lables(answers)\n",
    "        if self.tx.shape[0] != self.ty.shape[0]:\n",
    "            temp_min = min(self.tx.shape[0], self.ty.shape[0])\n",
    "            self.tx = self.tx[:temp_min]\n",
    "            self.ty = self.ty[:temp_min]\n",
    "            print(\"training data #input != #output, took the minimun size automatically\")\n",
    "        \n",
    "        self.xs = self.tx.shape[1] # size of each datum input\n",
    "        self.ys = self.ty.shape[1] # size of each datum output\n",
    "    \n",
    "    def set_validating_data(self, validating_input, validating_labels):\n",
    "        self.vx = np.array(validating_input) # validating data input\n",
    "        self.vy = np.array(validating_labels) # validating data lables(answers)\n",
    "        if self.vx.shape[1] != self.xs:\n",
    "            raise ValueError(\"validating data input size should be equal to training data\")\n",
    "        \n",
    "        if self.vy.shape[1] != self.ys:\n",
    "            raise ValueError(\"validating data lables size should be equal to training data\")\n",
    "    \n",
    "    def add_layer(self, new_layer):\n",
    "        if type(new_layer) != Layer:\n",
    "            raise TypeError(\"new_layer should be a Layer (class). eg: 'Layer(30, Sigmoid())'\")\n",
    "\n",
    "        self.ly.append(new_layer)\n",
    "    \n",
    "    def build(self):\n",
    "        self.ln = len(self.ly) # amount of layers\n",
    "        self.ly[0].w.assign_values(np.random.normal(0., 1., (self.ly[0].nn, self.xs)), self.csi)\n",
    "        self.ly[0].b.assign_values(np.random.normal(0., 1., (self.ly[0].nn, 1)), self.csi)\n",
    "        for l in range(1,self.ln):\n",
    "            self.ly[l].w.assign_values(np.random.normal(0., 1., (self.ly[l].nn, self.ly[l-1].nn)), self.csi)\n",
    "            self.ly[l].b.assign_values(np.random.normal(0., 1., (self.ly[l].nn, 1)), self.csi)\n",
    "        \n",
    "        if self.ly[-1].nn != self.ys: # cheak output size\n",
    "            raise ValueError(\"output layer must has the same size with datum lables(answer)\")\n",
    "    \n",
    "    def prediction(self, data_input):\n",
    "        self.px = np.array(data_input) # prediction data input of last time predic\n",
    "        if self.px.shape[1] != self.xs:\n",
    "            raise ValueError(\"datum size error\")\n",
    "        \n",
    "        self.ly[0].forward(self.px.T)\n",
    "        for l in range(1,self.ln):\n",
    "            self.ly[l].forward(self.ly[l-1].y)\n",
    "        \n",
    "        self.py = self.ly[l].y.T # prediction result of last time predict\n",
    "    \n",
    "    def descent(self, step = 1., descent_method = \"normal\"):\n",
    "        for l in range(self.ln):\n",
    "            self.ly[l].descent(step, descent_method, self.rg)\n",
    "        \n",
    "        if descent_method in [\"Rprop\", \"Dogiko Rprop\"]:\n",
    "            self.max_cs = 0.\n",
    "            for l in range(self.ln):\n",
    "                self.max_cs = max(self.max_cs, self.ly[l].w.max_cs(), self.ly[l].b.max_cs())\n",
    "    \n",
    "    def batch_fit(self, batch_input, batch_labels, step = 1., descent_method = \"normal\"):\n",
    "        self.prediction(batch_input)\n",
    "        if self.lf == \"r2\":\n",
    "            temp_derivative = 2*(self.py - batch_labels).T/(batch_labels.shape[0]*batch_labels.var(axis=0).sum())\n",
    "        \n",
    "        for l in range(self.ln-1, 0, -1):\n",
    "            temp_derivative = self.ly[l].backward(temp_derivative, self.ly[l-1].y)\n",
    "        \n",
    "        self.ly[0].backward(temp_derivative, batch_input.T)\n",
    "        self.descent(step, descent_method)\n",
    "    \n",
    "    def validate(self):\n",
    "        self.prediction(self.vx)\n",
    "        if self.lf == \"r2\":\n",
    "            return np.square(self.py - self.vy).mean()/self.vy.var(axis=0).mean()\n",
    "    \n",
    "    def neuron_refined(self, l, info_rate = 0.01):\n",
    "        # l : the no. of layer\n",
    "        # info_rate : threshold for information contained of dimension be remaind\n",
    "        if type(l) != int:\n",
    "            raise TypeError(\"l should be the layer no. of hidden layer, an int between 0 to (neural_number - 2)\")\n",
    "        elif (l >= self.ln - 1) or (l < 0):\n",
    "            raise ValueError(\"l should be the layer no. of hidden layer, an int between 0 to (neural_number - 2)\")\n",
    "        \n",
    "        ym = NN.ly[l].y.mean(axis=1).reshape((NN.ly[l].nn,1)) # y (output of Layer) mean of each neurons\n",
    "        yn = NN.ly[l].y - ym # centralized y\n",
    "        ab = np.dot(NN.ly[l+1].w.v, ym) # Adjusted bias\n",
    "        ev, em = np.linalg.eigh(np.dot(yn, yn.T)) # eigenvalues and eigenmatrix(with eigenvectors as columns)\n",
    "        op, pv = column_operate(em[:,ev/ev.sum() > info_rate]) # column operator result and pivots\n",
    "        nw = np.dot(NN.ly[1].w.v, op) # new weight\n",
    "        NN.ly[l+1].b.assign_values(NN.ly[l+1].b.v + (np.dot(NN.ly[l+1].w.v, ym) -np.dot(nw, ym[pv])))\n",
    "        NN.ly[l+1].w.assign_values(nw) # l+1 weight should be rewrite after l+1 bias have been rewrite\n",
    "        NN.ly[l].w.assign_values(NN.ly[l].w.v[pv])\n",
    "        NN.ly[l].b.assign_values(NN.ly[l].b.v[pv])\n",
    "        NN.ly[l].nn = len(pv)\n"
   ]
  },
  {
   "cell_type": "markdown",
   "metadata": {},
   "source": [
    "# Example 1\n",
    "\n",
    "Fit $y = \\sin{x}$"
   ]
  },
  {
   "cell_type": "code",
   "execution_count": 380,
   "metadata": {
    "collapsed": true
   },
   "outputs": [],
   "source": [
    "X = (np.arange(81)/20) - 2\n",
    "X = X.reshape((81,1))\n",
    "Y = np.sin(2*X)"
   ]
  },
  {
   "cell_type": "code",
   "execution_count": 381,
   "metadata": {},
   "outputs": [
    {
     "name": "stdout",
     "output_type": "stream",
     "text": [
      "0.00210017968868\n"
     ]
    },
    {
     "data": {
      "image/png": "[encoded data removed]",
      "text/plain": [
       "<matplotlib.figure.Figure at 0x110d10278>"
      ]
     },
     "metadata": {},
     "output_type": "display_data"
    }
   ],
   "source": [
    "NN = DogikoLearn()\n",
    "NN.r_square_regularizer(0.0001)\n",
    "NN.set_training_data(X, Y)\n",
    "NN.set_validating_data(X, Y)\n",
    "NN.add_layer(Layer(30, Sigmoid()))\n",
    "NN.add_layer(Layer(1,Identity()))\n",
    "NN.build()\n",
    "\n",
    "counter = 0\n",
    "for i in range(10000):\n",
    "    NN.batch_fit(X,Y,step=0.02, descent_method=\"Dogiko Rprop\")\n",
    "    if NN.max_cs < 0.001:\n",
    "        break\n",
    "    else:\n",
    "        counter =0\n",
    "\n",
    "print(NN.validate())\n",
    "\n",
    "plt.plot(X.reshape((81)), NN.py.reshape((81)), \"b\", X.reshape((81)), Y.reshape((81)))\n",
    "plt.show()"
   ]
  },
  {
   "cell_type": "markdown",
   "metadata": {
    "collapsed": true
   },
   "source": [
    "# Example 2\n",
    "\n",
    "Net-shape classification"
   ]
  },
  {
   "cell_type": "code",
   "execution_count": 382,
   "metadata": {},
   "outputs": [
    {
     "data": {
      "image/png": "[encoded data removed]",
      "text/plain": [
       "<matplotlib.figure.Figure at 0x11020a940>"
      ]
     },
     "metadata": {},
     "output_type": "display_data"
    }
   ],
   "source": [
    "X = np.array([np.arange(41).repeat(41), np.arange(41*41) % 41]).astype(np.float64)\n",
    "X -= 20.\n",
    "X /= 20.\n",
    "Y = (((X[0] + X[1] - 0.5) % 2.) > 1.) ^ (((X[0] - X[1] - 0.5) % 2.) > 1.)\n",
    "Y = Y.reshape((Y.shape + (1,))).astype(np.float64)\n",
    "X = X.T\n",
    "plt.figure(figsize=(5,5))\n",
    "plt.plot(X.T[0][Y.T[0] == 1], X.T[1][Y.T[0] == 1], \"bp\")\n",
    "plt.show()"
   ]
  },
  {
   "cell_type": "code",
   "execution_count": 383,
   "metadata": {},
   "outputs": [
    {
     "name": "stdout",
     "output_type": "stream",
     "text": [
      "0.192608139585\n",
      "0.220489053735\n",
      "0.140210646915\n",
      "0.201903331558\n",
      "0.0738413379759\n",
      "0.332826865202\n",
      "0.0704418427484\n",
      "0.046956261961\n",
      "0.0305337206766\n",
      "0.0247293146835\n",
      "0.0339707960785\n",
      "0.0553085553969\n",
      "0.0424679864386\n",
      "0.0226448022574\n",
      "1437\n",
      "0.256783541419\n"
     ]
    }
   ],
   "source": [
    "NN = DogikoLearn()\n",
    "NN.rs_extend_regularizer(0.1,1.)\n",
    "NN.set_training_data(X, Y)\n",
    "NN.set_validating_data(X, Y)\n",
    "NN.add_layer(Layer(50,Sigmoid()))\n",
    "NN.add_layer(Layer(30,Sigmoid()))\n",
    "NN.add_layer(Layer(20,Sigmoid()))\n",
    "NN.add_layer(Layer(1,Sigmoid()))\n",
    "NN.build()\n",
    "\n",
    "for i in range(10000):\n",
    "    NN.batch_fit(X,Y,step=0.1, descent_method=\"Dogiko Rprop\")\n",
    "    if NN.max_cs < 0.005:\n",
    "        print(i)\n",
    "        break\n",
    "    \n",
    "    if (i+1) % 100 == 0:\n",
    "        print(NN.max_cs)\n",
    "\n",
    "print(NN.validate())\n"
   ]
  },
  {
   "cell_type": "code",
   "execution_count": 387,
   "metadata": {},
   "outputs": [
    {
     "data": {
      "text/plain": [
       "array([[ 1.00189863],\n",
       "       [-0.32172573],\n",
       "       [ 0.95174725],\n",
       "       [ 0.94570242],\n",
       "       [ 0.25257392],\n",
       "       [ 0.16550185],\n",
       "       [ 1.00991457],\n",
       "       [-0.96359809],\n",
       "       [ 0.61779987],\n",
       "       [ 0.49362721],\n",
       "       [ 0.54972537],\n",
       "       [ 1.00229711],\n",
       "       [-0.87629034],\n",
       "       [-0.68074189],\n",
       "       [ 0.5541682 ],\n",
       "       [-0.27304793],\n",
       "       [ 0.84449192],\n",
       "       [-1.0004535 ],\n",
       "       [ 0.52154281],\n",
       "       [-0.25704084]])"
      ]
     },
     "execution_count": 387,
     "metadata": {},
     "output_type": "execute_result"
    }
   ],
   "source": [
    "NN.ly[2].b.v"
   ]
  },
  {
   "cell_type": "code",
   "execution_count": 113,
   "metadata": {
    "collapsed": true
   },
   "outputs": [],
   "source": [
    "X = np.zeros((303))\n",
    "for t in range(3):\n",
    "    X[101*t:101*(t+1)] = (np.arange(101)-250+(200*t))*0.01\n",
    "Y = 1.*(np.arange(303) >= 101) * (np.arange(303) < 202)\n",
    "X = X.reshape(X.shape + (1,))\n",
    "Y = Y.reshape(Y.shape + (1,))"
   ]
  },
  {
   "cell_type": "code",
   "execution_count": 161,
   "metadata": {
    "collapsed": true
   },
   "outputs": [],
   "source": [
    "NN = DogikoLearn()\n",
    "NN.rs_extend_regularizer(0.02,2.)\n",
    "NN.set_training_data(X, Y)\n",
    "NN.set_validating_data(X, Y)\n",
    "NN.add_layer(Layer(20,Selu()))\n",
    "NN.add_layer(Layer(1,Sigmoid()))\n",
    "NN.build()"
   ]
  },
  {
   "cell_type": "code",
   "execution_count": 162,
   "metadata": {},
   "outputs": [
    {
     "name": "stdout",
     "output_type": "stream",
     "text": [
      "327\n",
      "1.5\n"
     ]
    },
    {
     "data": {
      "image/png": "[encoded data removed]",
      "text/plain": [
       "<matplotlib.figure.Figure at 0x11197e668>"
      ]
     },
     "metadata": {},
     "output_type": "display_data"
    }
   ],
   "source": [
    "for t in range(10000):\n",
    "    NN.batch_fit(X,Y,step=0.01, descent_method=\"Rprop\")\n",
    "    if NN.max_cs < 0.005:\n",
    "        print(t+1)\n",
    "        break\n",
    "\n",
    "NN.prediction(X)\n",
    "print(NN.validate())\n",
    "plt.plot(NN.px.T, NN.py.T, \"bp\", X.T, Y.T, \"rp\")\n",
    "plt.show()"
   ]
  },
  {
   "cell_type": "code",
   "execution_count": 169,
   "metadata": {},
   "outputs": [],
   "source": [
    "NN.neuron_refined(0,0.01)"
   ]
  },
  {
   "cell_type": "code",
   "execution_count": 170,
   "metadata": {},
   "outputs": [
    {
     "name": "stdout",
     "output_type": "stream",
     "text": [
      "1.50002999223\n"
     ]
    },
    {
     "data": {
      "image/png": "[encoded data removed]",
      "text/plain": [
       "<matplotlib.figure.Figure at 0x1124abc88>"
      ]
     },
     "metadata": {},
     "output_type": "display_data"
    }
   ],
   "source": [
    "for t in range(10000):\n",
    "    NN.batch_fit(X,Y,step=0.01, descent_method=\"Rprop\")\n",
    "    if NN.max_cs < 0.005:\n",
    "        break\n",
    "\n",
    "NN.prediction(X)\n",
    "print(NN.validate())\n",
    "plt.plot(NN.px.T, NN.py.T, \"bp\", X.T, Y.T, \"rp\")\n",
    "plt.show()"
   ]
  },
  {
   "cell_type": "code",
   "execution_count": 171,
   "metadata": {},
   "outputs": [],
   "source": [
    "\n",
    "for t in range(10):\n",
    "    NN.ly[0].w.add_row(4*np.random.rand((1))-2.)\n",
    "    NN.ly[0].b.add_row(4*np.random.rand((1))-2.)\n",
    "    NN.ly[1].w.add_column(4*np.random.rand((NN.ly[1].nn))-2.)\n",
    "    NN.ly[0].nn += 1"
   ]
  },
  {
   "cell_type": "code",
   "execution_count": 172,
   "metadata": {},
   "outputs": [
    {
     "name": "stdout",
     "output_type": "stream",
     "text": [
      "1.05746934482e-07\n"
     ]
    },
    {
     "data": {
      "image/png": "[encoded data removed]",
      "text/plain": [
       "<matplotlib.figure.Figure at 0x111fd6518>"
      ]
     },
     "metadata": {},
     "output_type": "display_data"
    }
   ],
   "source": [
    "for t in range(10000):\n",
    "    NN.batch_fit(X,Y,step=0.01, descent_method=\"Rprop\")\n",
    "    if NN.max_cs < 0.005:\n",
    "        break\n",
    "\n",
    "NN.prediction(X)\n",
    "print(NN.validate())\n",
    "plt.plot(NN.px.T, NN.py.T, \"bp\", X.T, Y.T, \"rp\")\n",
    "plt.show()"
   ]
  },
  {
   "cell_type": "code",
   "execution_count": 182,
   "metadata": {
    "scrolled": false
   },
   "outputs": [
    {
     "name": "stdout",
     "output_type": "stream",
     "text": [
      "2.07918346106\n"
     ]
    },
    {
     "data": {
      "image/png": "[encoded data removed]",
      "text/plain": [
       "<matplotlib.figure.Figure at 0x111895780>"
      ]
     },
     "metadata": {},
     "output_type": "display_data"
    },
    {
     "name": "stdout",
     "output_type": "stream",
     "text": [
      "1.5\n"
     ]
    },
    {
     "data": {
      "image/png": "[encoded data removed]",
      "text/plain": [
       "<matplotlib.figure.Figure at 0x110a92fd0>"
      ]
     },
     "metadata": {},
     "output_type": "display_data"
    },
    {
     "name": "stdout",
     "output_type": "stream",
     "text": [
      "1.5\n"
     ]
    },
    {
     "data": {
      "image/png": "[encoded data removed]",
      "text/plain": [
       "<matplotlib.figure.Figure at 0x112b3aeb8>"
      ]
     },
     "metadata": {},
     "output_type": "display_data"
    },
    {
     "name": "stdout",
     "output_type": "stream",
     "text": [
      "1.5\n"
     ]
    },
    {
     "data": {
      "image/png": "[encoded data removed]",
      "text/plain": [
       "<matplotlib.figure.Figure at 0x1119c20f0>"
      ]
     },
     "metadata": {},
     "output_type": "display_data"
    },
    {
     "name": "stdout",
     "output_type": "stream",
     "text": [
      "1.5\n"
     ]
    },
    {
     "data": {
      "image/png": "[encoded data removed]",
      "text/plain": [
       "<matplotlib.figure.Figure at 0x111c96518>"
      ]
     },
     "metadata": {},
     "output_type": "display_data"
    },
    {
     "name": "stdout",
     "output_type": "stream",
     "text": [
      "1.5\n"
     ]
    },
    {
     "data": {
      "image/png": "[encoded data removed]",
      "text/plain": [
       "<matplotlib.figure.Figure at 0x1120008d0>"
      ]
     },
     "metadata": {},
     "output_type": "display_data"
    },
    {
     "name": "stdout",
     "output_type": "stream",
     "text": [
      "6.09686503437e-10\n"
     ]
    },
    {
     "data": {
      "image/png": "[encoded data removed]",
      "text/plain": [
       "<matplotlib.figure.Figure at 0x1121785f8>"
      ]
     },
     "metadata": {},
     "output_type": "display_data"
    }
   ],
   "source": [
    "X = np.zeros((303))\n",
    "for t in range(3):\n",
    "    X[101*t:101*(t+1)] = (np.arange(101)-250+(200*t))*0.01\n",
    "Y = 1.*(np.arange(303) >= 101) * (np.arange(303) < 202)\n",
    "X = X.reshape(X.shape + (1,))\n",
    "Y = Y.reshape(Y.shape + (1,))\n",
    "\n",
    "NN = DogikoLearn()\n",
    "NN.rs_extend_regularizer(0.02,2.)\n",
    "NN.set_training_data(X, Y)\n",
    "NN.set_validating_data(X, Y)\n",
    "NN.add_layer(Layer(20,Selu()))\n",
    "NN.add_layer(Layer(1,Sigmoid()))\n",
    "NN.build()\n",
    "\n",
    "NN.prediction(X)\n",
    "print(NN.validate())\n",
    "plt.plot(NN.px.T, NN.py.T, \"bp\")\n",
    "plt.show()\n",
    "\n",
    "while NN.validate() >0.1:\n",
    "    for t in range(20):\n",
    "        NN.ly[0].w.add_row(6*np.random.rand((1))-3.)\n",
    "        NN.ly[0].b.add_row(6*np.random.rand((1))-3.)\n",
    "        NN.ly[1].w.add_column(6*np.random.rand((NN.ly[1].nn))-3.)\n",
    "        NN.ly[0].nn += 1\n",
    "    \n",
    "    for t in range(10000):\n",
    "        NN.batch_fit(X,Y,step=0.01, descent_method=\"Rprop\")\n",
    "        if NN.max_cs < 0.005:\n",
    "            break\n",
    "    NN.neuron_refined(0,0.01)\n",
    "    print(NN.validate())\n",
    "    \n",
    "    plt.plot(NN.px.T, NN.py.T, \"bp\")\n",
    "    plt.show()"
   ]
  },
  {
   "cell_type": "code",
   "execution_count": 193,
   "metadata": {
    "scrolled": false
   },
   "outputs": [
    {
     "name": "stdout",
     "output_type": "stream",
     "text": [
      "2.26354854536\n"
     ]
    },
    {
     "data": {
      "image/png": "[encoded data removed]",
      "text/plain": [
       "<matplotlib.figure.Figure at 0x112707ba8>"
      ]
     },
     "metadata": {},
     "output_type": "display_data"
    },
    {
     "name": "stdout",
     "output_type": "stream",
     "text": [
      "1.5\n"
     ]
    },
    {
     "data": {
      "image/png": "[encoded data removed]",
      "text/plain": [
       "<matplotlib.figure.Figure at 0x11290c5c0>"
      ]
     },
     "metadata": {},
     "output_type": "display_data"
    },
    {
     "name": "stdout",
     "output_type": "stream",
     "text": [
      "1.50004089493\n"
     ]
    },
    {
     "data": {
      "image/png": "[encoded data removed]",
      "text/plain": [
       "<matplotlib.figure.Figure at 0x1127f31d0>"
      ]
     },
     "metadata": {},
     "output_type": "display_data"
    },
    {
     "name": "stdout",
     "output_type": "stream",
     "text": [
      "1.50003876167\n"
     ]
    },
    {
     "data": {
      "image/png": "[encoded data removed]",
      "text/plain": [
       "<matplotlib.figure.Figure at 0x112826be0>"
      ]
     },
     "metadata": {},
     "output_type": "display_data"
    },
    {
     "name": "stdout",
     "output_type": "stream",
     "text": [
      "1.50004058634\n"
     ]
    },
    {
     "data": {
      "image/png": "[encoded data removed]",
      "text/plain": [
       "<matplotlib.figure.Figure at 0x1123a1c50>"
      ]
     },
     "metadata": {},
     "output_type": "display_data"
    },
    {
     "name": "stdout",
     "output_type": "stream",
     "text": [
      "1.50004134919\n"
     ]
    },
    {
     "data": {
      "image/png": "[encoded data removed]",
      "text/plain": [
       "<matplotlib.figure.Figure at 0x111c57940>"
      ]
     },
     "metadata": {},
     "output_type": "display_data"
    },
    {
     "name": "stdout",
     "output_type": "stream",
     "text": [
      "0.00955752248813\n"
     ]
    },
    {
     "data": {
      "image/png": "[encoded data removed]",
      "text/plain": [
       "<matplotlib.figure.Figure at 0x112cdc358>"
      ]
     },
     "metadata": {},
     "output_type": "display_data"
    }
   ],
   "source": [
    "X = np.zeros((303))\n",
    "for t in range(3):\n",
    "    X[101*t:101*(t+1)] = (np.arange(101)-250+(200*t))*0.01\n",
    "Y = 1.*(np.arange(303) >= 101) * (np.arange(303) < 202)\n",
    "X = X.reshape(X.shape + (1,))\n",
    "Y = Y.reshape(Y.shape + (1,))\n",
    "\n",
    "NN = DogikoLearn()\n",
    "NN.rs_extend_regularizer(0.02, 1.)\n",
    "NN.set_training_data(X, Y)\n",
    "NN.set_validating_data(X, Y)\n",
    "NN.add_layer(Layer(20,Selu()))\n",
    "NN.add_layer(Layer(1,Sigmoid()))\n",
    "NN.build()\n",
    "\n",
    "NN.prediction(X)\n",
    "print(NN.validate())\n",
    "plt.plot(NN.px.T, NN.py.T, \"bp\")\n",
    "plt.show()\n",
    "\n",
    "for t in range(10000):\n",
    "    NN.batch_fit(X,Y,step=0.01, descent_method=\"Rprop\")\n",
    "    if NN.max_cs < 0.005:\n",
    "        break\n",
    "\n",
    "NN.neuron_refined(0,0.01)\n",
    "print(NN.validate())\n",
    "\n",
    "plt.plot(NN.px.T, NN.py.T, \"bp\")\n",
    "plt.show()\n",
    "\n",
    "while NN.validate() >0.1:\n",
    "    for t in range(5):\n",
    "        NN.ly[0].w.add_row(mcmc_normal(NN.ly[0].w.v))\n",
    "        NN.ly[0].b.add_row(mcmc_normal(NN.ly[0].b.v))\n",
    "        NN.ly[1].w.add_column(2*np.random.rand((NN.ly[1].nn))-1.)\n",
    "        NN.ly[0].nn += 1\n",
    "    \n",
    "    for t in range(10000):\n",
    "        NN.batch_fit(X,Y,step=0.01, descent_method=\"Rprop\")\n",
    "        if NN.max_cs < 0.005:\n",
    "            break\n",
    "    NN.neuron_refined(0,0.01)\n",
    "    print(NN.validate())\n",
    "    \n",
    "    plt.plot(NN.px.T, NN.py.T, \"bp\")\n",
    "    plt.show()"
   ]
  },
  {
   "cell_type": "code",
   "execution_count": null,
   "metadata": {
    "collapsed": true
   },
   "outputs": [],
   "source": []
  }
 ],
 "metadata": {
  "kernelspec": {
   "display_name": "Python 3",
   "language": "python",
   "name": "python3"
  },
  "language_info": {
   "codemirror_mode": {
    "name": "ipython",
    "version": 3
   },
   "file_extension": ".py",
   "mimetype": "text/x-python",
   "name": "python",
   "nbconvert_exporter": "python",
   "pygments_lexer": "ipython3",
   "version": "3.6.1"
  }
 },
 "nbformat": 4,
 "nbformat_minor": 2
}
