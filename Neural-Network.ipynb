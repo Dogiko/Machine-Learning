{
 "cells": [
  {
   "cell_type": "markdown",
   "metadata": {},
   "source": [
    "# Import"
   ]
  },
  {
   "cell_type": "code",
   "execution_count": 1,
   "metadata": {
    "collapsed": true
   },
   "outputs": [],
   "source": [
    "import numpy as np\n",
    "import matplotlib.pyplot as plt\n",
    "from scipy.special import expit"
   ]
  },
  {
   "cell_type": "markdown",
   "metadata": {},
   "source": [
    "# Define"
   ]
  },
  {
   "cell_type": "code",
   "execution_count": 14,
   "metadata": {
    "collapsed": true
   },
   "outputs": [],
   "source": [
    "def array_sign(array):\n",
    "    # return +1, 0, -1 respect to positive, zero, negtive\n",
    "    return 1.*(array>0) - 1.*(array<0)\n",
    "\n",
    "def column_operate(matrix, threshold = 0.00001):\n",
    "    rm = np.array(matrix) # reduced matrix\n",
    "    fm = np.array(matrix) # filtered matrix\n",
    "    ms = matrix.shape # matrix size\n",
    "    mk = np.ones(matrix.shape) # mask\n",
    "    pv = -1*np.ones((ms[1]), dtype = np.int) # pivots\n",
    "    for t in range(ms[1]):\n",
    "        fm = rm*mk # filtered matrix\n",
    "        if np.abs(fm).max() < threshold:\n",
    "            break\n",
    "        \n",
    "        pr, pc = np.unravel_index(np.abs(fm).argmax(), ms) # pivot row, pivot column\n",
    "        rm[:,pc] /= rm[pr][pc]\n",
    "        multi = np.array(rm[pr])\n",
    "        multi[pc] = 0.\n",
    "        rm -= np.dot(rm[:,pc].reshape((ms[0], 1)), multi.reshape((1, ms[1])))\n",
    "        mk[pr] = 0.\n",
    "        mk[:,pc] = 0.\n",
    "        pv[pc] = pr\n",
    "    \n",
    "    rm = rm[:, pv != -1]\n",
    "    pv = pv[pv != -1]\n",
    "    \n",
    "    return rm, pv\n",
    "\n",
    "def mcmc_normal(targets, drop_t = 10, mean=0., std=1.):\n",
    "    output = np.random.normal(mean, std, targets.shape[1:])\n",
    "    if drop_t>1:\n",
    "        for t in range(1, drop_t):\n",
    "            c = np.random.normal(mean, std, targets.shape[1:]) # candicate\n",
    "            cd = np.sqrt(np.square(np.subtract(targets, c)).sum(axis=tuple(np.arange(1,len(targets.shape)))).min())\n",
    "            # distance of candicate to target\n",
    "            od = np.sqrt(np.square(np.subtract(targets, output)).sum(axis=tuple(np.arange(1,len(targets.shape)))).min())\n",
    "            # distance of currently output to target\n",
    "            if np.random.rand()*od < cd:\n",
    "                output = np.array(c)\n",
    "    \n",
    "    return output\n",
    "\n",
    "class VariableArray():\n",
    "    def __init__(self, size, cs_initial=0.1):\n",
    "        self.v = np.random.normal(0., 1., size) # array values\n",
    "        self.td = np.zeros(self.v.shape) # total derivative, used to descent\n",
    "        self.ltd = None # last total derivative\n",
    "        self.m = np.zeros(self.v.shape) # moving array\n",
    "        self.cs = cs_initial*np.ones(self.v.shape) # component-wise step\n",
    "        self.work = np.ones(self.v.shape) # working components, defult to be fully connected\n",
    "    \n",
    "    def assign_values(self, values, cs_initial=0.1):\n",
    "        self.v = np.array(values)\n",
    "        self.td = np.zeros(self.v.shape)\n",
    "        self.ltd = None\n",
    "        self.m = np.zeros(self.v.shape)\n",
    "        self.cs = cs_initial*np.ones(self.v.shape)\n",
    "        self.work = np.ones(self.v.shape)\n",
    "    \n",
    "    def derivative_assign(self, values):\n",
    "        if values.shape != self.td.shape:\n",
    "            raise ValueError(\"values shape error\")\n",
    "        \n",
    "        self.ltd = np.array(self.td)\n",
    "        self.td = np.array(values)\n",
    "    \n",
    "    def add_row(self, new_row, cs_initial=0.1):\n",
    "        self.v = np.append(self.v, np.array([new_row]), axis = 0)\n",
    "        self.td = np.append(self.td, np.zeros((1,)+new_row.shape), axis = 0)\n",
    "        self.ltd = None\n",
    "        self.m = np.zeros(self.v.shape)\n",
    "        self.cs = np.append(self.cs, cs_initial*np.ones((1,)+new_row.shape), axis = 0)\n",
    "        self.work = np.ones(self.v.shape)\n",
    "    \n",
    "    def add_column(self, new_column, cs_initial=0.1):\n",
    "        self.v = np.append(self.v, np.array([new_column]).T, axis = 1)\n",
    "        self.td = np.append(self.td, np.zeros(new_column.shape + (1,)), axis = 1)\n",
    "        self.ltd = None\n",
    "        self.m = np.zeros(self.v.shape)\n",
    "        self.cs = np.append(self.cs, cs_initial*np.ones(new_column.shape + (1,)), axis = 1)\n",
    "        self.work = np.ones(self.v.shape)\n",
    "    \n",
    "    def max_cs(self):\n",
    "        return self.cs.max()\n",
    "    \n",
    "    def reset_cs(self, new_cs):\n",
    "        self.cs = new_cs*np.ones(self.cs.shape)\n",
    "    \n",
    "    def descent(self, step = 1., descent_method = \"normal\", regularizer = (\"None\",), td_max = 0.1, move_max=1., move_min=0.000001):\n",
    "        if regularizer[0] == \"r_square\":\n",
    "            self.td += regularizer[1] * self.v\n",
    "        \n",
    "        if regularizer[0] == \"rs_extend\":\n",
    "            self.td += regularizer[1] * ((self.v>regularizer[2])*(self.v-regularizer[2]) + (self.v < -regularizer[2])*(self.v+regularizer[2]))\n",
    "        \n",
    "        if descent_method == \"normal\":\n",
    "            self.m = self.td * (np.abs(self.td) < td_max) + array_sign(self.td)*(np.abs(self.td) >= td_max)\n",
    "            self.v -= step * self.m * self.work\n",
    "        elif descent_method == \"Rprop\":\n",
    "            self.m = array_sign(self.td)\n",
    "            self.cs *= 1.2*(self.td*self.ltd>0) + 1.*(self.td*self.ltd==0) + 0.5*(self.td*self.ltd<0)\n",
    "            self.cs = self.cs * (self.cs < move_max) * (self.cs > move_min)+ move_max*(self.cs >= move_max) + move_min*(self.cs <= move_min)\n",
    "            self.v -= self.cs * self.m * self.work\n",
    "        elif descent_method == \"Dogiko Rprop\":\n",
    "            self.m = array_sign(self.td)\n",
    "            step_change = 1.2*(self.td*self.ltd>0.) + 1.*(self.td*self.ltd==0.) + 1.*(self.td==self.ltd)\n",
    "            step_change[step_change == 0.] = self.td[step_change == 0.]/(self.ltd-self.td)[step_change == 0.]\n",
    "            step_change[step_change < 0.1] = 0.1\n",
    "            self.cs *= step_change\n",
    "            self.cs = self.cs * (self.cs < move_max) * (self.cs > move_min)+ move_max*(self.cs >= move_max) + move_min*(self.cs <= move_min)\n",
    "            self.v -= self.cs * self.m * self.work\n",
    "\n",
    "# Activation functions defined start\n",
    "\n",
    "class Identity():\n",
    "    def trans(self, x):\n",
    "        return x\n",
    "    \n",
    "    def diff(self, x):\n",
    "        return np.ones(x.shape, dtype = np.float64)\n",
    "    \n",
    "    def backward(self, x,_input):\n",
    "        return self.diff(x)*_input\n",
    "\n",
    "class Sigmoid():\n",
    "    def trans(self, x):\n",
    "        return expit(x)\n",
    "    \n",
    "    def diff(self, x):\n",
    "        return expit(x)*expit(-x)\n",
    "    \n",
    "    def backward(self, x,_input):\n",
    "        return self.diff(x)*_input\n",
    "\n",
    "class Hypertan():\n",
    "    def trans(self, x):\n",
    "        return np.tanh(x)\n",
    "    \n",
    "    def diff(self, x):\n",
    "        return 1. / np.square(np.cosh(x))\n",
    "    \n",
    "    def backward(self, x,_input):\n",
    "        return self.diff(x)*_input\n",
    "\n",
    "class Relu():\n",
    "    def trans(self, x):\n",
    "        return x*(x>0)\n",
    "    \n",
    "    def diff(self, x):\n",
    "        return 1.*(x>0)\n",
    "    \n",
    "    def backward(self, x, _input):\n",
    "        return self.diff(x)*_input\n",
    "\n",
    "class LeakyRelu():\n",
    "    def __init__(self, alpha = 0.1):\n",
    "        self.alpha = alpha\n",
    "    \n",
    "    def trans(self, x):\n",
    "        return x*(x>0) + self.alpha*x*(x<0)\n",
    "    \n",
    "    def diff(self, x):\n",
    "        return 1.*(x>0) + self.alpha*(x<0)\n",
    "    \n",
    "    def backward(self, x,_input):\n",
    "        return self.diff(x)*_input\n",
    "\n",
    "class SoftPlus():\n",
    "    def trans(self, x):\n",
    "        return np.log(1. + np.exp(x))\n",
    "    \n",
    "    def diff(self, x):\n",
    "        return expit(x)\n",
    "    \n",
    "    def backward(self, x,_input):\n",
    "        return self.diff(x)*_input\n",
    "\n",
    "class Selu():\n",
    "    def __init__(self):\n",
    "        self.ahpha = 1.05071\n",
    "        self.beta = 1.67326\n",
    "    \n",
    "    def trans(self, x):\n",
    "        return self.ahpha*(x*(x>=0) + self.beta*(np.exp(x) - 1)*(x<0))\n",
    "    \n",
    "    def diff(self, x):\n",
    "        return self.ahpha*(1.*(x>=0) + self.beta*np.exp(x)*(x<0))\n",
    "    \n",
    "    def backward(self, x,_input):\n",
    "        return self.diff(x)*_input\n",
    "\n",
    "class Softmax():\n",
    "    def trans(self, x):\n",
    "        output = x - x.max(axis=0)\n",
    "        output = np.exp(output)\n",
    "        output /= output.sum(axis=0)\n",
    "        return output\n",
    "    \n",
    "    def backward(self, x, _input):\n",
    "        tr = self.trans(x) # result of self.trans\n",
    "        return tr*_input - tr*((tr*_input).sum(axis=0))\n",
    "\n",
    "# Activation functions defined end\n",
    "\n",
    "class Layer():\n",
    "    def __init__(self, neuron_n, activation_function):\n",
    "        if type(activation_function) == type:\n",
    "            raise TypeError(\"activation_function should be a class. eg: Use 'Sigmoid()', not 'Sigmoid'\")\n",
    "        \n",
    "        self.nn = neuron_n\n",
    "        self.af = activation_function\n",
    "        self.w = VariableArray((self.nn, 0)) # linear weights working before active function\n",
    "        self.b = VariableArray((self.nn, 1)) # bias working before active function\n",
    "        self.x = np.zeros((0, self.nn))\n",
    "        self.y = np.zeros((0, self.nn))\n",
    "    \n",
    "    def forward(self, _input):\n",
    "        self.x = np.dot(self.w.v, _input) + self.b.v\n",
    "        self.y = self.af.trans(self.x)\n",
    "    \n",
    "    def backward(self, _input, source):\n",
    "        derivative = self.af.backward(self.x, _input)\n",
    "        self.w.derivative_assign(np.dot(derivative, source.T))\n",
    "        self.b.derivative_assign(np.sum(derivative, axis=1).reshape(derivative.shape[0], 1))\n",
    "        derivative = np.dot(derivative.T, self.w.v)\n",
    "        return derivative.T\n",
    "    \n",
    "    def descent(self, step, descent_method, regularizer):\n",
    "        self.w.descent(step, descent_method, regularizer)\n",
    "        self.b.descent(step, descent_method, regularizer)\n",
    "    \n",
    "    def reset_cs(self, new_cs):\n",
    "        self.w.reset_cs(new_cs)\n",
    "        self.b.reset_cs(new_cs)\n",
    "    \n",
    "    def dimension(self):\n",
    "        return self.w.v.size + self.b.v.size\n",
    "\n",
    "class DogikoLearn():\n",
    "    def __init__(self, loss_function = \"r2\"):\n",
    "        self.lf = loss_function # loss function type\n",
    "        self.ly = [] # layers list\n",
    "        self.rg = (\"None\",) # Regularizetion method\n",
    "        self.csi = 0.1 # initial component-wise step when claim new weights and bias\n",
    "    \n",
    "    def r_square_regularizer(self, alpha):\n",
    "        # Assign regularization method as radius square\n",
    "        # i.e Error += alpha*0.5*sum(weight**2) when descent\n",
    "        if alpha <= 0:\n",
    "            raise ValueError(\"Input should be positive\")\n",
    "        \n",
    "        self.rg = (\"r_square\", alpha)\n",
    "    \n",
    "    def rs_extend_regularizer(self, alpha, beta):\n",
    "        # Assign regularization method as radius square\n",
    "        # i.e Error += alpha*0.5sum(weight**2) when descent\n",
    "        if (alpha <= 0) or (alpha <= 0):\n",
    "            raise ValueError(\"All input should be positive\")\n",
    "        \n",
    "        self.rg = (\"rs_extend\", alpha, beta)\n",
    "    \n",
    "    def set_training_data(self, training_input, training_labels):\n",
    "        self.tx = np.array(training_input) # training data input\n",
    "        self.ty = np.array(training_labels) # training data lables(answers)\n",
    "        if self.tx.shape[0] != self.ty.shape[0]:\n",
    "            temp_min = min(self.tx.shape[0], self.ty.shape[0])\n",
    "            self.tx = self.tx[:temp_min]\n",
    "            self.ty = self.ty[:temp_min]\n",
    "            print(\"training data #input != #output, took the minimun size automatically\")\n",
    "        \n",
    "        self.xs = self.tx.shape[1] # size of each datum input\n",
    "        self.ys = self.ty.shape[1] # size of each datum output\n",
    "    \n",
    "    def set_validation_data(self, validation_input, validation_labels):\n",
    "        self.vx = np.array(validation_input) # validation data input\n",
    "        self.vy = np.array(validation_labels) # validation data lables(answers)\n",
    "        if self.vx.shape[1] != self.xs:\n",
    "            raise ValueError(\"validation data input size should be equal to training data\")\n",
    "        \n",
    "        if self.vy.shape[1] != self.ys:\n",
    "            raise ValueError(\"validation data lables size should be equal to training data\")\n",
    "    \n",
    "    def add_layer(self, new_layer):\n",
    "        if type(new_layer) != Layer:\n",
    "            raise TypeError(\"new_layer should be a Layer (class). eg: 'Layer(30, Sigmoid())'\")\n",
    "        \n",
    "        self.ly.append(new_layer)\n",
    "    \n",
    "    def build(self):\n",
    "        self.ln = len(self.ly) # amount of layers\n",
    "        self.ly[0].w.assign_values(np.random.normal(0., 1., (self.ly[0].nn, self.xs)), self.csi)\n",
    "        self.ly[0].b.assign_values(np.random.normal(0., 1., (self.ly[0].nn, 1)), self.csi)\n",
    "        for l in range(1,self.ln):\n",
    "            self.ly[l].w.assign_values(np.random.normal(0., 1., (self.ly[l].nn, self.ly[l-1].nn)), self.csi)\n",
    "            self.ly[l].b.assign_values(np.random.normal(0., 1., (self.ly[l].nn, 1)), self.csi)\n",
    "        \n",
    "        if self.ly[-1].nn != self.ys: # cheak output size\n",
    "            raise ValueError(\"output layer must has the same size with datum lables(answer)\")\n",
    "    \n",
    "    def prediction(self, data_input):\n",
    "        self.px = np.array(data_input) # prediction data input of last time predic\n",
    "        if self.px.shape[1] != self.xs:\n",
    "            raise ValueError(\"datum size error\")\n",
    "        \n",
    "        self.ly[0].forward(self.px.T)\n",
    "        for l in range(1,self.ln):\n",
    "            self.ly[l].forward(self.ly[l-1].y)\n",
    "        \n",
    "        self.py = np.array(self.ly[-1].y.T) # prediction result of last time predict\n",
    "        \n",
    "        return self.py\n",
    "    \n",
    "    def descent(self, step = 1., descent_method = \"normal\"):\n",
    "        for l in range(self.ln):\n",
    "            self.ly[l].descent(step, descent_method, self.rg)\n",
    "        \n",
    "        if descent_method in [\"Rprop\", \"Dogiko Rprop\"]:\n",
    "            self.max_cs = 0.\n",
    "            for l in range(self.ln):\n",
    "                self.max_cs = max(self.max_cs, self.ly[l].w.max_cs(), self.ly[l].b.max_cs())\n",
    "    \n",
    "    def evaluate(self, _input, labels):\n",
    "        self.prediction(_input)\n",
    "        if self.lf == \"r2\":\n",
    "            return np.square(self.py - labels).mean()/labels.var(axis=0).mean()\n",
    "        elif self.lf == \"ce\":\n",
    "            return (-1*labels*np.log(self.py+0.0001)).sum(axis=1).mean()\n",
    "        else:\n",
    "            raise ValueError(\"loss function should be 'r2' or 'ce'\")\n",
    "    \n",
    "    def gradient_get(self, _input, labels):\n",
    "        self.prediction(_input)\n",
    "        if self.lf == \"r2\":\n",
    "            temp_derivative = 2*(self.py - labels).T/(labels.shape[0]*labels.var(axis=0).sum())\n",
    "        elif self.lf == \"ce\":\n",
    "            temp_derivative = -1*(labels/(self.py + 0.0001)).T/labels.shape[0]\n",
    "        else:\n",
    "            raise ValueError(\"loss function should be 'r2' or 'ce'\")\n",
    "        \n",
    "        for l in range(self.ln-1, 0, -1):\n",
    "            temp_derivative = self.ly[l].backward(temp_derivative, self.ly[l-1].y)\n",
    "        \n",
    "        self.ly[0].backward(temp_derivative, _input.T)\n",
    "    \n",
    "    def batch_fit(self, batch_input, batch_labels, step = 1., descent_method = \"normal\"):\n",
    "        self.gradient_get(batch_input, batch_labels)\n",
    "        self.descent(step, descent_method)\n",
    "    \n",
    "    def epoch_fit(self, batch_size = None, step = 1., descent_method = \"normal\"):\n",
    "        if type(batch_size) == type(None):\n",
    "            self.batch_fit(self.tx, self.ty, step, descent_method)\n",
    "        elif type(batch_size) == int:\n",
    "            if batch_size > 0:\n",
    "                for b in range(np.ceil(self.tx.shape[0]/ batch_size)):\n",
    "                    self.batch_fit(self.tx[b*batch_size: (b+1)*batch_size],\n",
    "                                   self.ty[b*batch_size: (b+1)*batch_size],\n",
    "                                   step,\n",
    "                                   descent_method\n",
    "                                  )\n",
    "            else:\n",
    "                raise ValueError(\"batch_size should be positive int\")\n",
    "            \n",
    "        else:\n",
    "            raise ValueError(\"batch_size should be positive int\")\n",
    "        \n",
    "    def train(self, times, batch_size = None, step = 1., descent_method = \"normal\"):\n",
    "        for t in range(times):\n",
    "            self.epoch_fit(batch_size, step, descent_method)\n",
    "    \n",
    "    def training_error(self):\n",
    "        return self.evaluate(self.tx, self.ty)\n",
    "    \n",
    "    def validation_error(self):\n",
    "        return self.evaluate(self.vx, self.vy)\n",
    "    \n",
    "    def neuron_refined(self, l, reference_data = None, info_rate = 0.01):\n",
    "        # l : the no. of layer\n",
    "        # info_rate : threshold for information contained of dimension be remaind\n",
    "        if type(l) != int:\n",
    "            raise TypeError(\"l should be the layer no. of hidden layer, an int between 0 to (neural_number - 2)\")\n",
    "        elif (l >= self.ln - 1) or (l < 0):\n",
    "            raise ValueError(\"l should be the layer no. of hidden layer, an int between 0 to (neural_number - 2)\")\n",
    "        \n",
    "        if type(reference_data) == type(None):\n",
    "            self.prediction(self.tx)\n",
    "        else:\n",
    "            self.prediction(reference_data)\n",
    "        \n",
    "        ym = NN.ly[l].y.mean(axis=1).reshape((NN.ly[l].nn,1)) # y (output of Layer) mean of each neurons\n",
    "        yn = NN.ly[l].y - ym # centralized y\n",
    "        ab = np.dot(NN.ly[l+1].w.v, ym) # Adjusted bias\n",
    "        ev, em = np.linalg.eigh(np.dot(yn, yn.T)) # eigenvalues and eigenmatrix(with eigenvectors as columns)\n",
    "        op, pv = column_operate(em[:,ev/ev.sum() > info_rate]) # column operator result and pivots\n",
    "        nw = np.dot(NN.ly[l+1].w.v, op) # new weight\n",
    "        NN.ly[l+1].b.assign_values(NN.ly[l+1].b.v + (np.dot(NN.ly[l+1].w.v, ym) -np.dot(nw, ym[pv])))\n",
    "        NN.ly[l+1].w.assign_values(nw) # l+1 weight should be rewrite after l+1 bias have been rewrite\n",
    "        NN.ly[l].w.assign_values(NN.ly[l].w.v[pv])\n",
    "        NN.ly[l].b.assign_values(NN.ly[l].b.v[pv])\n",
    "        NN.ly[l].nn = len(pv)\n",
    "    \n",
    "    def neuron_proliferate(self, proliferating_layer, proliferating_n = 1, output_weight_bound = 1.):\n",
    "        if proliferating_layer not in range(self.ln):\n",
    "            raise ValueError(\"proliferating_layer should be an int from 0 to (#layer-1)\")\n",
    "            \n",
    "        if type(proliferating_n) != int:\n",
    "            raise ValueError(\"proliferating_n should be int\")\n",
    "        \n",
    "        if proliferating_n <= 0:\n",
    "            raise ValueError(\"proliferating_n should be postive\")\n",
    "            \n",
    "        if output_weight_bound < 0.:\n",
    "            raise ValueError(\"output_weight_bound should be non-negative\")\n",
    "            \n",
    "        l = proliferating_layer\n",
    "        for t in range(proliferating_n):\n",
    "            NN.ly[l].w.add_row(mcmc_normal(NN.ly[l].w.v))\n",
    "            NN.ly[l].b.add_row(mcmc_normal(NN.ly[l].b.v))\n",
    "            NN.ly[l+1].w.add_column(output_weight_bound*(2*np.random.rand((NN.ly[l+1].nn))-1.))\n",
    "            NN.ly[l].nn += 1\n",
    "    \n",
    "    def reset_cs(self, new_cs):\n",
    "        for l in range(self.ln):\n",
    "            self.ly[l].reset_cs(new_cs)\n",
    "    \n",
    "    def inter_layer_linear_regression(self, layer_interval):\n",
    "        try:\n",
    "            ls = layer_interval[0] # layer start\n",
    "            le = layer_interval[1] # layer end\n",
    "            if (ls < le) and (ls >= 0) and (le < self.ln):\n",
    "                if ls == 0:\n",
    "                    ri = np.array(self.px.T) # regression input\n",
    "                else:\n",
    "                    ri = np.array(self.ly[ls-1].y)\n",
    "                \n",
    "                ri = np.append(ri, np.ones((1, ri.shape[1])), axis=0) # append 1. for each datum as bias\n",
    "                ro = np.array(self.ly[le].x)\n",
    "            else:\n",
    "                raise ValueError(\"layer_interval should be list-like, two int (a, b), with 0 <= a < b < total layer\")\n",
    "        \n",
    "        except:\n",
    "            raise ValueError(\"layer_interval should be list-like, two int (a, b), with 0 <= a < b < total layer\")\n",
    "        \n",
    "        rr = np.linalg.lstsq(ri.T, ro.T) # regression result (matrix, residuals, rank of ri, singuler values of ri)\n",
    "        if len(rr[1]) == 0:\n",
    "            raise ValueError(\"output data of layer\" + str(ls-1) + \"(= -1, for input data) should be full rank, try self.nruron_refine first\")\n",
    "        \n",
    "        return rr[0], rr[1]/ri.shape[1]\n",
    "    \n",
    "    def find_linearist_layers(self, reference_data = None):\n",
    "        output = (0, 0, np.inf, np.array([[]]), np.zeros((0,0)))\n",
    "        if type(reference_data) == type(None):\n",
    "            self.prediction(self.tx)\n",
    "        else:\n",
    "            self.prediction(reference_data)\n",
    "        \n",
    "        for l1 in range(NN.ln-1):\n",
    "            for l2 in range(i+1, NN.ln):\n",
    "                rr = NN.inter_layer_linear_regression((l1,l2))\n",
    "                if np.sqrt(rr[1].sum()) < output[2]:\n",
    "                    output = (l1, l2, np.sqrt(rr[1].sum()), rr[0])\n",
    "        \n",
    "        return output\n",
    "    \n",
    "    def layer_filled(self, layer_interval, weights, bias):\n",
    "        try:\n",
    "            ls = layer_interval[0] # layer start\n",
    "            le = layer_interval[1] # layer end\n",
    "            if (ls < le) and (ls >= 0) and (le < self.ln):\n",
    "                pass\n",
    "            else:\n",
    "                raise ValueError(\"layer_interval should be list-like, two int (a, b), with 0 <= a < b < total layer\")\n",
    "        except:\n",
    "            raise ValueError(\"layer_interval should be list-like, two int (a, b), with 0 <= a < b < total layer\")\n",
    "        \n",
    "        if weights.shape[0] != bias.shape[0]:\n",
    "            raise ValueError(\"weights.shape[0] doesn't match bias.shape[0]\")\n",
    "        \n",
    "        if weights.shape[0] != self.ly[le].nn:\n",
    "            raise ValueError(\"weights.shape[0] doesn't match #neuron of layer at end of layer_interval\")\n",
    "        \n",
    "        self.ly[le].w.assign_values(weights)\n",
    "        self.ly[le].b.assign_values(bias)\n",
    "        self.ly = self.ly[:ls] + self.ly[le:]\n",
    "        self.ln = len(self.ly)\n",
    "    \n",
    "    def linear_filled(self, layer_interval):\n",
    "        rr = NN.inter_layer_linear_regression(layer_interval)\n",
    "        NN.layer_filled(layer_interval, rr[0].T[:,:-1], rr[0].T[:,-1:])\n",
    "    \n",
    "    def insert_layer(self, position, weights, bias, activation_function, next_layer_weights, next_layer_bias):\n",
    "        if type(position) == int:\n",
    "            if position in range(self.ln):\n",
    "                pass\n",
    "        else:\n",
    "            raise ValueError(\"position should be int between 0 to self.ln\")\n",
    "        \n",
    "        if type(activation_function) == type:\n",
    "            raise TypeError(\"activation_function should be a class. eg: Use 'Sigmoid()', not 'Sigmoid'\")\n",
    "        \n",
    "        ilo, ili = weights.shape # input and output size of inserted layer\n",
    "        nlo, nli = next_layer_weights.shape # input and output size of next layer\n",
    "        \n",
    "        if position == 0:\n",
    "            if ili != self.xs:\n",
    "                raise ValueError(\"weights.shape error, cheak input and output size for this new layer\")\n",
    "        else:\n",
    "            if ili != self.ly[position-1].nn:\n",
    "                raise ValueError(\"weights.shape error, cheak input and output size for this new layer\")\n",
    "        \n",
    "        if (ilo != bias.shape[0]) or (ilo != nli):\n",
    "            raise ValueError(\"to define #neuron of new layer, all related weighs and bias size should be consistent\")\n",
    "        \n",
    "        if nlo != self.ly[position].nn:\n",
    "            raise ValueError(\"next_layer_weights.shape error, cheak #neuron of next layer\")\n",
    "        \n",
    "        if next_layer_bias.shape[0] != self.ly[position].nn:\n",
    "            raise ValueError(\"next_layer_bias.shape error, cheak #neuron of next layer\")\n",
    "        \n",
    "        if (bias.shape[1] != 1) or (next_layer_bias.shape[1] != 1):\n",
    "            raise ValueError(\"bias shape should be (#neuron, 1)\")\n",
    "        \n",
    "        l = position\n",
    "        \n",
    "        self.ly.insert(l, Layer(ilo, activation_function))\n",
    "        self.ly[l].w.assign_values(weights)\n",
    "        self.ly[l].b.assign_values(bias)\n",
    "        self.ly[l+1].w.assign_values(next_layer_weights)\n",
    "        self.ly[l+1].b.assign_values(next_layer_bias)\n",
    "        \n",
    "        self.ln = len(self.ly)\n",
    "    \n",
    "    def identity_dig(self, position, activation_function):\n",
    "        if type(position) == int:\n",
    "            if position in range(self.ln):\n",
    "                pass\n",
    "        else:\n",
    "            raise ValueError(\"position should be int between 0 to self.ln\")\n",
    "        \n",
    "        if type(activation_function) == type:\n",
    "            raise TypeError(\"activation_function should be a class. eg: Use 'Sigmoid()', not 'Sigmoid'\")\n",
    "        \n",
    "        l = position\n",
    "        # ids : size of identity transform, input size of new layer\n",
    "        if l == 0:\n",
    "            ids = self.xs\n",
    "        else:\n",
    "            ids = self.ly[l-1].nn\n",
    "        \n",
    "        if type(activation_function) in [Relu, SoftPlus]:\n",
    "            liw = np.concatenate((np.identity(ids), -np.identity(ids)), axis = 0)\n",
    "            lib = np.zeros((2*ids, 1))\n",
    "            low = np.concatenate((np.identity(ids), -np.identity(ids)), axis = 1)\n",
    "            lob = np.zeros((ids, 1))\n",
    "        else:\n",
    "            raise TypeError(\"activation_function type error\")\n",
    "        \n",
    "        nlw = np.dot(self.ly[l].w.v, low)\n",
    "        nlb = np.dot(self.ly[l].w.v, lob) + self.ly[l].b.v\n",
    "        \n",
    "        self.insert_layer(l,\n",
    "                          liw,\n",
    "                          lib,\n",
    "                          activation_function,\n",
    "                          nlw,\n",
    "                          nlb\n",
    "                         )\n",
    "    \n",
    "    def dimension(self):\n",
    "        output = 0\n",
    "        for l in range(self.ln):\n",
    "            output += self.ly[l].dimension()\n",
    "        \n",
    "        return output"
   ]
  },
  {
   "cell_type": "markdown",
   "metadata": {},
   "source": [
    "# Gradient cheak : case regression\n",
    "\n",
    "For the regression case, using r2 error\n",
    "\n",
    "Cheak backward propagation by computing difference between gradient got from backward propagation and numerical method\n",
    "\n",
    "The difference may become large when r2 error large by this property\n",
    "\n",
    "$$\\frac{\\partial}{\\partial x} x^2 = 2x$$"
   ]
  },
  {
   "cell_type": "code",
   "execution_count": 57,
   "metadata": {
    "collapsed": true
   },
   "outputs": [],
   "source": [
    "X = np.random.normal(0.,1., (1000,2))\n",
    "Y = np.sqrt((X**2).sum(axis=1)).reshape(-1,1)\n",
    "\n",
    "NN = DogikoLearn(loss_function=\"r2\")\n",
    "NN.set_training_data(X, Y)\n",
    "NN.set_validation_data(X, Y)\n",
    "NN.add_layer(Layer(4, Identity()))\n",
    "NN.add_layer(Layer(4, Sigmoid()))\n",
    "NN.add_layer(Layer(4, Hypertan()))\n",
    "NN.add_layer(Layer(4, Relu()))\n",
    "NN.add_layer(Layer(4, LeakyRelu()))\n",
    "NN.add_layer(Layer(4, SoftPlus()))\n",
    "NN.add_layer(Layer(4, Selu()))\n",
    "NN.add_layer(Layer(1, Identity()))\n",
    "NN.build()\n",
    "\n",
    "threshold = 10**(-4)\n",
    "epsilon = 10**(-8)\n",
    "\n",
    "for l in range(NN.ln):\n",
    "    for wi in range(NN.ly[l].w.v.shape[0]):\n",
    "        for wj in range(NN.ly[l].w.v.shape[1]):\n",
    "            NN.build() # reset weights randomly\n",
    "            NN.gradient_get(X,Y)\n",
    "            pd = NN.ly[l].w.td[wi][wj] # partial derivative by backward propagation\n",
    "            ea = NN.evaluate(X,Y) # error before slightly moving\n",
    "            NN.ly[l].w.v[wi][wj] += epsilon # slightly moving\n",
    "            eb = NN.evaluate(X,Y) # error after slightly moving\n",
    "            if (pd - (eb-ea)/epsilon) > threshold: # if difference large (than threshold), print.\n",
    "                print(pd - ((eb-ea)/epsilon), NN.evaluate(X,Y))\n",
    "            \n",
    "    for bi in range(NN.ly[l].b.v.shape[0]): # bias part\n",
    "        NN.build()\n",
    "        NN.gradient_get(X,Y)\n",
    "        pd = NN.ly[l].b.td[bi][0]\n",
    "        ea = NN.evaluate(X,Y)\n",
    "        NN.ly[l].b.v[bi][0] += epsilon\n",
    "        eb = NN.evaluate(X,Y)\n",
    "        if (pd - (eb-ea)/epsilon) > threshold:\n",
    "            print(pd - ((eb-ea)/epsilon), NN.evaluate(X,Y))"
   ]
  },
  {
   "cell_type": "markdown",
   "metadata": {},
   "source": [
    "# Gradient cheak : case classification\n",
    "\n",
    "For the case classification, using cross entropy\n",
    "\n",
    "Cheak backward propagation by computing difference between gradient got from backward propagation and numerical method\n"
   ]
  },
  {
   "cell_type": "code",
   "execution_count": 58,
   "metadata": {
    "collapsed": true
   },
   "outputs": [],
   "source": [
    "X = np.random.normal(0.,1., (1000,2))\n",
    "Y = np.zeros((1000,2))\n",
    "Y[:,0] = (1.*np.sqrt((X**2).sum(axis=1)) > 1.)\n",
    "Y[:,1] = 1. - Y[:,0]\n",
    "\n",
    "NN = DogikoLearn(loss_function=\"ce\")\n",
    "NN.set_training_data(X, Y)\n",
    "NN.set_validation_data(X, Y)\n",
    "NN.add_layer(Layer(4, Identity()))\n",
    "NN.add_layer(Layer(4, Sigmoid()))\n",
    "NN.add_layer(Layer(4, Hypertan()))\n",
    "NN.add_layer(Layer(4, Relu()))\n",
    "NN.add_layer(Layer(4, LeakyRelu()))\n",
    "NN.add_layer(Layer(4, SoftPlus()))\n",
    "NN.add_layer(Layer(4, Selu()))\n",
    "NN.add_layer(Layer(2, Softmax()))\n",
    "NN.build()\n",
    "\n",
    "threshold = 10**(-4)\n",
    "epsilon = 10**(-8)\n",
    "\n",
    "for l in range(NN.ln):\n",
    "    for wi in range(NN.ly[l].w.v.shape[0]):\n",
    "        for wj in range(NN.ly[l].w.v.shape[1]):\n",
    "            NN.build() # reset weights randomly\n",
    "            NN.gradient_get(X,Y)\n",
    "            pd = NN.ly[l].w.td[wi][wj] # partial derivative by backward propagation\n",
    "            ea = NN.evaluate(X,Y) # error before slightly moving\n",
    "            NN.ly[l].w.v[wi][wj] += epsilon # slightly moving\n",
    "            eb = NN.evaluate(X,Y) # error after slightly moving\n",
    "            if (pd - (eb-ea)/epsilon) > threshold: # if difference large (than threshold), print.\n",
    "                print(pd - ((eb-ea)/epsilon), NN.evaluate(X,Y))\n",
    "            \n",
    "    for bi in range(NN.ly[l].b.v.shape[0]): # bias part\n",
    "        NN.build()\n",
    "        NN.gradient_get(X,Y)\n",
    "        pd = NN.ly[l].b.td[bi][0]\n",
    "        ea = NN.evaluate(X,Y)\n",
    "        NN.ly[l].b.v[bi][0] += epsilon\n",
    "        eb = NN.evaluate(X,Y)\n",
    "        if (pd - (eb-ea)/epsilon) > threshold:\n",
    "            print(pd - ((eb-ea)/epsilon), NN.evaluate(X,Y))\n",
    "            "
   ]
  },
  {
   "cell_type": "markdown",
   "metadata": {},
   "source": [
    "# Example 1\n",
    "\n",
    "Fit $y = \\sin{x}$"
   ]
  },
  {
   "cell_type": "code",
   "execution_count": 31,
   "metadata": {
    "collapsed": true
   },
   "outputs": [],
   "source": [
    "X = (np.arange(201)/50) - 2\n",
    "X = X.reshape((201,1))\n",
    "Y = np.sin(2*X)"
   ]
  },
  {
   "cell_type": "code",
   "execution_count": 33,
   "metadata": {},
   "outputs": [
    {
     "data": {
      "image/png": "[encoded data removed]",
      "text/plain": [
       "<matplotlib.figure.Figure at 0x11063de80>"
      ]
     },
     "metadata": {},
     "output_type": "display_data"
    }
   ],
   "source": [
    "NN = DogikoLearn()\n",
    "NN.r_square_regularizer(0.000001)\n",
    "NN.set_training_data(X, Y)\n",
    "NN.set_validation_data(X, Y)\n",
    "NN.add_layer(Layer(30, Hypertan()))\n",
    "NN.add_layer(Layer(1,Identity()))\n",
    "NN.build()\n",
    "\n",
    "NN.train(100, descent_method=\"Rprop\")\n",
    "\n",
    "plt.plot(X.reshape((201)), NN.py.reshape((201)), \"b\", X.reshape((201)), Y.reshape((201)))\n",
    "plt.show()"
   ]
  },
  {
   "cell_type": "markdown",
   "metadata": {
    "collapsed": true
   },
   "source": [
    "# Example 2\n",
    "\n",
    "Net-shape classification"
   ]
  },
  {
   "cell_type": "code",
   "execution_count": 70,
   "metadata": {},
   "outputs": [
    {
     "data": {
      "image/png": "[encoded data removed]",
      "text/plain": [
       "<matplotlib.figure.Figure at 0x10fb63550>"
      ]
     },
     "metadata": {},
     "output_type": "display_data"
    }
   ],
   "source": [
    "X = np.array([np.arange(81).repeat(81), np.arange(81*81) % 81]).astype(np.float64)\n",
    "X -= 40.\n",
    "X /= 40.\n",
    "Y_temp = (((X[0] + X[1] - 0.5) % 2.) > 1.) ^ (((X[0] - X[1] - 0.5) % 2.) > 1.)\n",
    "Y = np.zeros(Y_temp.shape + (2,))\n",
    "Y[:,0] = Y_temp.astype(np.float64)\n",
    "Y[:,1] = 1 - Y[:,0]\n",
    "X = X.T\n",
    "\n",
    "plt.figure(figsize=(7,7))\n",
    "plt.plot(X.T[0][Y[:,0]==1], X.T[1][Y[:,0]==1], \"bp\")\n",
    "plt.plot(X.T[0][Y[:,1]==1], X.T[1][Y[:,1]==1], \"rp\")\n",
    "plt.show()"
   ]
  },
  {
   "cell_type": "code",
   "execution_count": 71,
   "metadata": {
    "collapsed": true
   },
   "outputs": [],
   "source": [
    "permu = np.random.permutation(np.arange(81*81))\n",
    "\n",
    "X_train = X[permu[:5000]]\n",
    "Y_train = Y[permu[:5000]]\n",
    "X_valid = X[permu[5000:]]\n",
    "Y_valid = Y[permu[5000:]]"
   ]
  },
  {
   "cell_type": "code",
   "execution_count": 20,
   "metadata": {},
   "outputs": [
    {
     "name": "stdout",
     "output_type": "stream",
     "text": [
      "0.0827472841908 0.0916636174127\n"
     ]
    }
   ],
   "source": [
    "NN = DogikoLearn(loss_function=\"ce\")\n",
    "NN.rs_extend_regularizer(0.001,3.)\n",
    "NN.set_training_data(X_train, Y_train)\n",
    "NN.set_validation_data(X_valid, Y_valid)\n",
    "NN.add_layer(Layer(8, Relu()))\n",
    "NN.add_layer(Layer(8, Relu()))\n",
    "NN.add_layer(Layer(2, Softmax()))\n",
    "NN.build()\n",
    "\n",
    "NN.train(10000, descent_method=\"Rprop\")\n",
    "\n",
    "print(NN.training_error(), NN.validation_error())"
   ]
  },
  {
   "cell_type": "code",
   "execution_count": 16,
   "metadata": {},
   "outputs": [
    {
     "data": {
      "text/plain": [
       "0.043810838607703601"
      ]
     },
     "execution_count": 16,
     "metadata": {},
     "output_type": "execute_result"
    }
   ],
   "source": [
    "NN.validation_error()"
   ]
  },
  {
   "cell_type": "code",
   "execution_count": 102,
   "metadata": {
    "scrolled": false
   },
   "outputs": [
    {
     "name": "stdout",
     "output_type": "stream",
     "text": [
      "10, 13, 0.0654663480177 0.0658172619833 201\n",
      "10, 13, 0.0686829554864 0.0688406511862 201\n",
      "8, 16, 0.051753704471 0.0580050382954 202\n",
      "8, 14, 0.0495826144832 0.052701855012 180\n",
      "10, 13, 0.0479547897673 0.0481909554787 201\n",
      "10, 13, 0.054057404928 0.0567858145822 201\n",
      "9, 12, 0.054160341228 0.0565649173798 173\n",
      "9, 15, 0.0479196768356 0.0504823443958 209\n",
      "9, 16, 0.042860024086 0.045941086933 221\n",
      "8, 16, 0.0447981904985 0.0479083542565 202\n"
     ]
    },
    {
     "data": {
      "image/png": "[encoded data removed]",
      "text/plain": [
       "<matplotlib.figure.Figure at 0x11301c8d0>"
      ]
     },
     "metadata": {},
     "output_type": "display_data"
    }
   ],
   "source": [
    "NN = DogikoLearn(loss_function=\"ce\")\n",
    "NN.rs_extend_regularizer(0.001,3.)\n",
    "NN.set_training_data(X_train, Y_train)\n",
    "NN.set_validation_data(X_valid, Y_valid)\n",
    "NN.add_layer(Layer(10, LeakyRelu()))\n",
    "NN.add_layer(Layer(10, LeakyRelu()))\n",
    "NN.add_layer(Layer(2, Softmax()))\n",
    "NN.build()\n",
    "\n",
    "for t in range(10):\n",
    "    for l in range(NN.ln-1):\n",
    "        NN.neuron_proliferate(l, 5, 0.01)\n",
    "\n",
    "    NN.train(500, descent_method=\"Rprop\")\n",
    "    \n",
    "    d = NN.dimension()\n",
    "    \n",
    "    for l in range(NN.ln-1):\n",
    "        NN.neuron_refined(l, X_valid, min(1., ((NN.validation_error()/NN.training_error())**5)*((d/NN.tx.shape[0])**2))/(NN.ly[l].nn))\n",
    "        print(NN.ly[l].nn, end=\", \")\n",
    "\n",
    "    NN.train(500, descent_method=\"Rprop\")\n",
    "\n",
    "    print(NN.training_error(), NN.validation_error(), NN.dimension())\n",
    "\n",
    "NN.prediction(X_valid)\n",
    "plt.figure(figsize=(7,7))\n",
    "plt.plot(X_valid.T[0][NN.py[:,0]>0.5], X_valid.T[1][NN.py[:,0]>0.5], \"bp\")\n",
    "plt.show()"
   ]
  },
  {
   "cell_type": "code",
   "execution_count": 26,
   "metadata": {},
   "outputs": [
    {
     "data": {
      "text/plain": [
       "(201, 1)"
      ]
     },
     "execution_count": 26,
     "metadata": {},
     "output_type": "execute_result"
    }
   ],
   "source": [
    "X.shape"
   ]
  },
  {
   "cell_type": "code",
   "execution_count": 86,
   "metadata": {},
   "outputs": [
    {
     "name": "stdout",
     "output_type": "stream",
     "text": [
      "5\n",
      "10\n",
      "15\n",
      "20\n",
      "25\n",
      "30\n",
      "35\n",
      "40\n",
      "45\n",
      "50\n",
      "55\n",
      "60\n",
      "65\n",
      "70\n",
      "75\n",
      "80\n",
      "85\n",
      "90\n",
      "95\n",
      "100\n",
      "done\n"
     ]
    }
   ],
   "source": [
    "accuracys_t = np.zeros((100))\n",
    "accuracys_v = np.zeros((100))\n",
    "for t in range(100):\n",
    "    NN = DogikoLearn(loss_function=\"ce\")\n",
    "    NN.rs_extend_regularizer(0.001,3.)\n",
    "    NN.set_training_data(X_train, Y_train)\n",
    "    NN.set_validation_data(X_valid, Y_valid)\n",
    "    NN.add_layer(Layer(10,LeakyRelu()))\n",
    "    NN.add_layer(Layer(10,LeakyRelu()))\n",
    "    NN.add_layer(Layer(2,Softmax()))\n",
    "    NN.build()\n",
    "    \n",
    "    NN.train(1000, descent_method=\"Rprop\")\n",
    "    \n",
    "    accuracys_t[t] = NN.training_error()\n",
    "    accuracys_v[t] = NN.validation_error()\n",
    "    \n",
    "    if (t+1) % 5 ==0:\n",
    "        print(t+1)\n",
    "\n",
    "print(\"done\")"
   ]
  },
  {
   "cell_type": "code",
   "execution_count": 87,
   "metadata": {},
   "outputs": [
    {
     "name": "stdout",
     "output_type": "stream",
     "text": [
      "[ 0.055  0.058  0.058  0.067  0.069  0.071  0.072  0.075  0.076  0.076\n",
      "  0.077  0.079  0.079  0.079  0.08   0.08   0.081  0.081  0.082  0.083\n",
      "  0.084  0.084  0.084  0.085  0.085  0.086  0.087  0.087  0.087  0.088\n",
      "  0.088  0.088  0.089  0.089  0.089  0.09   0.09   0.09   0.091  0.092\n",
      "  0.093  0.094  0.094  0.095  0.095  0.096  0.097  0.098  0.098  0.098\n",
      "  0.099  0.099  0.099  0.101  0.102  0.102  0.102  0.103  0.103  0.104\n",
      "  0.104  0.104  0.104  0.105  0.105  0.107  0.108  0.108  0.109  0.111\n",
      "  0.112  0.113  0.115  0.118  0.119  0.119  0.12   0.12   0.125  0.127\n",
      "  0.127  0.128  0.129  0.131  0.131  0.132  0.133  0.133  0.134  0.134\n",
      "  0.137  0.137  0.138  0.141  0.149  0.174  0.206  0.327  0.384  0.441]\n",
      "0.055 0.086 0.099 0.119 0.441\n"
     ]
    }
   ],
   "source": [
    "accuracys_t.sort()\n",
    "accuracys_t = np.round(accuracys_t, 3)\n",
    "print(accuracys_t)\n",
    "print(accuracys_t.min(), accuracys_t[25], accuracys_t[50], accuracys_t[75], accuracys_t.max())"
   ]
  },
  {
   "cell_type": "code",
   "execution_count": 88,
   "metadata": {
    "scrolled": true
   },
   "outputs": [
    {
     "name": "stdout",
     "output_type": "stream",
     "text": [
      "[ 0.057  0.061  0.063  0.071  0.071  0.072  0.074  0.078  0.078  0.078\n",
      "  0.08   0.081  0.082  0.082  0.082  0.083  0.083  0.084  0.085  0.087\n",
      "  0.087  0.087  0.088  0.088  0.088  0.088  0.089  0.089  0.089  0.09   0.09\n",
      "  0.09   0.09   0.09   0.091  0.091  0.092  0.092  0.092  0.093  0.094\n",
      "  0.094  0.095  0.098  0.098  0.098  0.098  0.098  0.099  0.101  0.101\n",
      "  0.102  0.103  0.103  0.103  0.105  0.106  0.106  0.107  0.107  0.107\n",
      "  0.108  0.108  0.108  0.109  0.109  0.111  0.112  0.113  0.114  0.116\n",
      "  0.116  0.117  0.118  0.121  0.124  0.124  0.125  0.125  0.126  0.126\n",
      "  0.132  0.132  0.133  0.135  0.135  0.135  0.138  0.139  0.139  0.139\n",
      "  0.142  0.146  0.148  0.152  0.18   0.207  0.342  0.396  0.461]\n",
      "0.057 0.088 0.101 0.124 0.461\n"
     ]
    }
   ],
   "source": [
    "accuracys_v.sort()\n",
    "accuracys_v = np.round(accuracys_v, 3)\n",
    "print(accuracys_v)\n",
    "print(accuracys_v.min(), accuracys_v[25], accuracys_v[50], accuracys_v[75], accuracys_v.max())"
   ]
  },
  {
   "cell_type": "code",
   "execution_count": 89,
   "metadata": {},
   "outputs": [
    {
     "data": {
      "text/plain": [
       "162"
      ]
     },
     "execution_count": 89,
     "metadata": {},
     "output_type": "execute_result"
    }
   ],
   "source": [
    "NN.dimension()"
   ]
  },
  {
   "cell_type": "code",
   "execution_count": 75,
   "metadata": {},
   "outputs": [
    {
     "name": "stdout",
     "output_type": "stream",
     "text": [
      "0 1 (3, 10) 0.0789749677881\n",
      "0 2 (3, 10) 0.151427476744\n",
      "0 3 (3, 2) 0.128019887719\n",
      "1 2 (11, 10) 0.0163064692087\n",
      "1 3 (11, 2) 0.0221946229495\n",
      "2 3 (11, 2) 0.00461351269551\n"
     ]
    }
   ],
   "source": [
    "NN.validation_error()\n",
    "for i in range(NN.ln-1):\n",
    "    for j in range(i+1, NN.ln):\n",
    "        rr = NN.inter_layer_linear_regression((i,j))\n",
    "        print(i, j, rr[0].shape, (rr[1].sum()/(NN.ly[j].x.var(axis=1).sum()+0.01)))"
   ]
  },
  {
   "cell_type": "markdown",
   "metadata": {},
   "source": [
    "# Examlple 3\n",
    "Linear case "
   ]
  },
  {
   "cell_type": "code",
   "execution_count": 12,
   "metadata": {
    "collapsed": true
   },
   "outputs": [],
   "source": [
    "X = np.random.normal(0,1, (10000, 5))"
   ]
  },
  {
   "cell_type": "code",
   "execution_count": 13,
   "metadata": {
    "collapsed": true
   },
   "outputs": [],
   "source": [
    "A = np.random.normal(0,1, (5,5))\n",
    "while np.linalg.det(A) < 0.5:\n",
    "    A = np.random.normal(0,1, (5,5))"
   ]
  },
  {
   "cell_type": "code",
   "execution_count": 14,
   "metadata": {
    "collapsed": true
   },
   "outputs": [],
   "source": [
    "Y = np.dot(X,A)"
   ]
  },
  {
   "cell_type": "code",
   "execution_count": 15,
   "metadata": {
    "collapsed": true
   },
   "outputs": [],
   "source": [
    "NN = DogikoLearn(loss_function=\"r2\")\n",
    "NN.rs_extend_regularizer(0.001,10.)\n",
    "NN.set_training_data(X, Y)\n",
    "NN.set_validation_data(X, Y)\n",
    "NN.add_layer(Layer(50,LeakyRelu()))\n",
    "NN.add_layer(Layer(50,LeakyRelu()))\n",
    "NN.add_layer(Layer(50,LeakyRelu()))\n",
    "NN.add_layer(Layer(5,Identity()))\n",
    "NN.build()"
   ]
  },
  {
   "cell_type": "code",
   "execution_count": 16,
   "metadata": {},
   "outputs": [
    {
     "name": "stdout",
     "output_type": "stream",
     "text": [
      "9, 12, 27, 0.0493435386694\n",
      "9, 9, 12, 0.0113445106801\n",
      "10, 8, 12, 0.00755824874162\n",
      "10, 8, 10, 0.00444346400938\n",
      "10, 9, 10, 0.00263462290757\n",
      "12, 9, 10, 0.000664910727598\n",
      "9, 8, 8, 0.00237638763757\n",
      "8, 8, 7, 0.00076685471248\n",
      "7, 8, 7, 0.00224576035833\n",
      "7, 8, 8, 0.00104895855289\n",
      "7, 7, 7, 0.00155323345726\n",
      "8, 7, 7, 0.000591984296887\n",
      "7, 7, 6, 8.92301498747e-05\n",
      "6, 7, 7, 0.00106030334232\n",
      "7, 8, 7, 0.000243928801053\n",
      "7, 8, 7, 0.000579466981622\n",
      "7, 6, 6, 0.00053306100836\n",
      "6, 6, 6, 0.00145979593393\n",
      "6, 7, 6, 0.000504371044989\n",
      "7, 7, 6, 0.000187245110848\n"
     ]
    }
   ],
   "source": [
    "for t in range(20):\n",
    "    for l in range(NN.ln-1):\n",
    "        NN.neuron_proliferate(l, int(0.1*NN.ly[l].nn) + 1)\n",
    "\n",
    "    for i in range(100):\n",
    "        NN.batch_fit(X,Y,step=0.1, descent_method=\"Rprop\")\n",
    "        if NN.max_cs < 0.0001:\n",
    "            break\n",
    "\n",
    "    for l in range(NN.ln-1):\n",
    "        NN.neuron_refined(l, X,((NN.dimension()/(10000))**2)/(NN.ly[l].nn))\n",
    "        print(NN.ly[l].nn, end=\", \")\n",
    "\n",
    "    for i in range(100):\n",
    "        NN.batch_fit(X,Y,step=0.1, descent_method=\"Rprop\")\n",
    "        if NN.max_cs < 0.0001:\n",
    "            break\n",
    "\n",
    "    print(NN.validate())"
   ]
  },
  {
   "cell_type": "code",
   "execution_count": 64,
   "metadata": {
    "collapsed": true
   },
   "outputs": [],
   "source": [
    "for i in range(100):\n",
    "    NN.batch_fit(X,Y,step=0.5, descent_method=\"Rprop\")"
   ]
  },
  {
   "cell_type": "code",
   "execution_count": 65,
   "metadata": {},
   "outputs": [
    {
     "name": "stdout",
     "output_type": "stream",
     "text": [
      "10, 10\n"
     ]
    }
   ],
   "source": [
    "for l in range(NN.ln-1):\n",
    "    print(NN.ly[l].nn, end= \", \")\n",
    "    NN.neuron_refined(l, None, 0.0001)\n",
    "    print(NN.ly[l].nn)"
   ]
  },
  {
   "cell_type": "code",
   "execution_count": 18,
   "metadata": {},
   "outputs": [
    {
     "name": "stdout",
     "output_type": "stream",
     "text": [
      "0 1 1.97488787516\n",
      "0 2 0.198389442508\n",
      "0 3 0.0773856446697\n",
      "1 2 0.0856913391978\n",
      "1 3 0.0664770708499\n",
      "2 3 0.0453495495103\n"
     ]
    }
   ],
   "source": [
    "for i in range(NN.ln-1):\n",
    "    for j in range(i+1, NN.ln):\n",
    "        rr = NN.inter_layer_linear_regression((i,j))\n",
    "        print(i, j, np.sqrt(rr[1].sum()))"
   ]
  },
  {
   "cell_type": "code",
   "execution_count": 96,
   "metadata": {},
   "outputs": [
    {
     "data": {
      "text/plain": [
       "array([[ 2.02547258,  1.54985389,  2.28092043],\n",
       "       [ 1.43586932,  2.16584513,  2.70281574]])"
      ]
     },
     "execution_count": 96,
     "metadata": {},
     "output_type": "execute_result"
    }
   ],
   "source": [
    "np.random.normal(2.,0.5,(2,3))"
   ]
  },
  {
   "cell_type": "code",
   "execution_count": 114,
   "metadata": {},
   "outputs": [
    {
     "data": {
      "text/plain": [
       "array([[ 1.,  0.,  0.,  0.],\n",
       "       [ 0.,  1.,  0.,  0.],\n",
       "       [ 0.,  0.,  1.,  0.],\n",
       "       [ 0.,  0.,  0.,  1.],\n",
       "       [-1., -0., -0., -0.],\n",
       "       [-0., -1., -0., -0.],\n",
       "       [-0., -0., -1., -0.],\n",
       "       [-0., -0., -0., -1.]])"
      ]
     },
     "execution_count": 114,
     "metadata": {},
     "output_type": "execute_result"
    }
   ],
   "source": [
    "np.concatenate((np.identity(4), -np.identity(4)), axis = 0)"
   ]
  },
  {
   "cell_type": "code",
   "execution_count": 116,
   "metadata": {},
   "outputs": [
    {
     "data": {
      "text/plain": [
       "array([[ 0.]])"
      ]
     },
     "execution_count": 116,
     "metadata": {},
     "output_type": "execute_result"
    }
   ],
   "source": []
  },
  {
   "cell_type": "code",
   "execution_count": null,
   "metadata": {
    "collapsed": true
   },
   "outputs": [],
   "source": []
  }
 ],
 "metadata": {
  "kernelspec": {
   "display_name": "Python 3",
   "language": "python",
   "name": "python3"
  },
  "language_info": {
   "codemirror_mode": {
    "name": "ipython",
    "version": 3
   },
   "file_extension": ".py",
   "mimetype": "text/x-python",
   "name": "python",
   "nbconvert_exporter": "python",
   "pygments_lexer": "ipython3",
   "version": "3.6.1"
  }
 },
 "nbformat": 4,
 "nbformat_minor": 2
}
