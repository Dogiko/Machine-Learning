{
 "cells": [
  {
   "cell_type": "markdown",
   "metadata": {},
   "source": [
    "# Calculate geometric mean of some active function differentiation"
   ]
  },
  {
   "cell_type": "code",
   "execution_count": 1,
   "metadata": {
    "collapsed": true
   },
   "outputs": [],
   "source": [
    "import numpy as np"
   ]
  },
  {
   "cell_type": "markdown",
   "metadata": {},
   "source": [
    "# Define mean function"
   ]
  },
  {
   "cell_type": "code",
   "execution_count": 2,
   "metadata": {
    "collapsed": true
   },
   "outputs": [],
   "source": [
    "def uniform(af_diff, start=-1, end=1, point=10000):\n",
    "    log_out_put = 0\n",
    "    samples = start + (np.arange(point)*(end - start)/point)\n",
    "    for p in range(point):\n",
    "        log_out_put += np.log(abs(af_diff(samples[p])) + 0.000001)\n",
    "    \n",
    "    log_out_put /= point\n",
    "    return np.exp(log_out_put)\n",
    "\n",
    "def normal(af_diff, mean=0, std = 1., point=10000):\n",
    "    log_out_put = 0\n",
    "    samples = np.random.normal(mean, std, point)\n",
    "    for p in range(point):\n",
    "        log_out_put += np.log(abs(af_diff(samples[p])) + 0.000001)\n",
    "    \n",
    "    log_out_put /= point\n",
    "    return np.exp(log_out_put)"
   ]
  },
  {
   "cell_type": "markdown",
   "metadata": {},
   "source": [
    "## Sigmoid"
   ]
  },
  {
   "cell_type": "code",
   "execution_count": 42,
   "metadata": {
    "collapsed": false
   },
   "outputs": [
    {
     "name": "stdout",
     "output_type": "stream",
     "text": [
      "unimean :  0.197934070173\n",
      "normean :  0.19866629219\n"
     ]
    }
   ],
   "source": [
    "def sigmoid_diff(x):\n",
    "    return 1/(np.exp(x)+np.exp(-x)+2)\n",
    "\n",
    "print(\"unimean : \", uniform(sigmoid_diff,-(3**0.5), (3**0.5)))\n",
    "print(\"normean : \", normal(sigmoid_diff))"
   ]
  },
  {
   "cell_type": "markdown",
   "metadata": {},
   "source": [
    "## Arctan"
   ]
  },
  {
   "cell_type": "code",
   "execution_count": 44,
   "metadata": {
    "collapsed": false
   },
   "outputs": [
    {
     "name": "stdout",
     "output_type": "stream",
     "text": [
      "unimean :  0.551291295653\n",
      "normean :  0.583526399816\n"
     ]
    }
   ],
   "source": [
    "def arctan_diff(x):\n",
    "    return 1/(1+x*x)\n",
    "\n",
    "print(\"unimean : \", uniform(arctan_diff,-(3**0.5), (3**0.5)))\n",
    "print(\"normean : \", normal(arctan_diff))"
   ]
  },
  {
   "cell_type": "markdown",
   "metadata": {},
   "source": [
    "## Relu"
   ]
  },
  {
   "cell_type": "code",
   "execution_count": 47,
   "metadata": {
    "collapsed": false
   },
   "outputs": [
    {
     "name": "stdout",
     "output_type": "stream",
     "text": [
      "unimean :  0.444859292433\n",
      "normean :  0.446875459766\n"
     ]
    }
   ],
   "source": [
    "def soft_relu_diff(x):\n",
    "    return 1/(1+np.exp(-x))\n",
    "\n",
    "print(\"unimean : \", uniform(soft_relu_diff,-(3**0.5), (3**0.5)))\n",
    "print(\"normean : \", normal(soft_relu_diff))"
   ]
  },
  {
   "cell_type": "markdown",
   "metadata": {},
   "source": [
    "# Selu"
   ]
  },
  {
   "cell_type": "code",
   "execution_count": 7,
   "metadata": {
    "collapsed": false
   },
   "outputs": [
    {
     "name": "stdout",
     "output_type": "stream",
     "text": [
      "unimean :  0.881390463685\n",
      "normean :  0.911309448841\n"
     ]
    }
   ],
   "source": [
    "def Selu_diff(x):\n",
    "    if x > 0.:\n",
    "        return 1.0507\n",
    "    elif x < 0.:\n",
    "        return 1.0507*1.67326*np.exp(x)\n",
    "    else:\n",
    "        return 1.0507\n",
    "\n",
    "print(\"unimean : \", uniform(Selu_diff,-(3**0.5), (3**0.5)))\n",
    "print(\"normean : \", normal(Selu_diff))"
   ]
  },
  {
   "cell_type": "code",
   "execution_count": null,
   "metadata": {
    "collapsed": true
   },
   "outputs": [],
   "source": []
  }
 ],
 "metadata": {
  "kernelspec": {
   "display_name": "Python 3",
   "language": "python",
   "name": "python3"
  },
  "language_info": {
   "codemirror_mode": {
    "name": "ipython",
    "version": 3
   },
   "file_extension": ".py",
   "mimetype": "text/x-python",
   "name": "python",
   "nbconvert_exporter": "python",
   "pygments_lexer": "ipython3",
   "version": "3.5.2"
  }
 },
 "nbformat": 4,
 "nbformat_minor": 2
}
