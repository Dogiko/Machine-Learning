{
 "cells": [
  {
   "cell_type": "markdown",
   "metadata": {},
   "source": [
    "# Calculate geometric mean of some active function differentiation"
   ]
  },
  {
   "cell_type": "code",
   "execution_count": 1,
   "metadata": {
    "collapsed": true
   },
   "outputs": [],
   "source": [
    "import numpy as np"
   ]
  },
  {
   "cell_type": "markdown",
   "metadata": {},
   "source": [
    "# Define mean function"
   ]
  },
  {
   "cell_type": "code",
   "execution_count": 35,
   "metadata": {
    "collapsed": true
   },
   "outputs": [],
   "source": [
    "def uniform(af_diff, start=-1, end=1, point=10000):\n",
    "    log_out_put = 0\n",
    "    samples = start + (np.arange(point)*(end - start)/point)\n",
    "    for p in range(point):\n",
    "        log_out_put += np.log(abs(af_diff(samples[p])) + 0.000001)\n",
    "    \n",
    "    log_out_put /= point\n",
    "    return np.exp(log_out_put)\n",
    "\n",
    "def normal(af_diff, mean=0, std = 1., point=10000):\n",
    "    log_out_put = 0\n",
    "    samples = np.random.normal(mean, std, point)\n",
    "    for p in range(point):\n",
    "        log_out_put += np.log(abs(af_diff(samples[p])) + 0.000001)\n",
    "    \n",
    "    log_out_put /= point\n",
    "    return np.exp(log_out_put)"
   ]
  },
  {
   "cell_type": "markdown",
   "metadata": {},
   "source": [
    "## Sigmoid"
   ]
  },
  {
   "cell_type": "code",
   "execution_count": 39,
   "metadata": {
    "collapsed": false
   },
   "outputs": [
    {
     "name": "stdout",
     "output_type": "stream",
     "text": [
      "unimean :  0.230470196285\n",
      "normean :  0.199928450644\n"
     ]
    }
   ],
   "source": [
    "def sigmoid_diff(x):\n",
    "    return 1/(np.exp(x)+np.exp(-x)+2)\n",
    "\n",
    "print(\"unimean : \", uniform(sigmoid_diff))\n",
    "print(\"normean : \", normal(sigmoid_diff))"
   ]
  },
  {
   "cell_type": "markdown",
   "metadata": {},
   "source": [
    "## Relu"
   ]
  },
  {
   "cell_type": "code",
   "execution_count": 40,
   "metadata": {
    "collapsed": false
   },
   "outputs": [
    {
     "name": "stdout",
     "output_type": "stream",
     "text": [
      "unimean :  0.480049112563\n",
      "normean :  0.450658582144\n"
     ]
    }
   ],
   "source": [
    "def soft_relu_diff(x):\n",
    "    return 1/(1+np.exp(-x))\n",
    "\n",
    "print(\"unimean : \", uniform(soft_relu_diff))\n",
    "print(\"normean : \", normal(soft_relu_diff))"
   ]
  },
  {
   "cell_type": "code",
   "execution_count": null,
   "metadata": {
    "collapsed": true
   },
   "outputs": [],
   "source": []
  }
 ],
 "metadata": {
  "kernelspec": {
   "display_name": "Python 3",
   "language": "python",
   "name": "python3"
  },
  "language_info": {
   "codemirror_mode": {
    "name": "ipython",
    "version": 3
   },
   "file_extension": ".py",
   "mimetype": "text/x-python",
   "name": "python",
   "nbconvert_exporter": "python",
   "pygments_lexer": "ipython3",
   "version": "3.5.2"
  }
 },
 "nbformat": 4,
 "nbformat_minor": 2
}
